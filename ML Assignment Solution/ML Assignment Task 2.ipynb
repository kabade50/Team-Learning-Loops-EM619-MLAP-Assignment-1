{
 "cells": [
  {
   "cell_type": "code",
   "execution_count": null,
   "metadata": {},
   "outputs": [
    {
     "name": "stdout",
     "output_type": "stream",
     "text": [
      "Training data shape:  (126, 500, 3)\n",
      "Testing data shape:  (54, 500, 3)\n"
     ]
    },
    {
     "name": "stderr",
     "output_type": "stream",
     "text": [
      "C:\\Users\\Admin\\AppData\\Local\\Temp\\ipykernel_9472\\157778011.py:27: UserWarning: Using default sampling frequency set in configuration file.\n",
      "  X_train_tsfel = pd.concat([tsfel.time_series_features_extractor(cfg, pd.DataFrame(X_train[i])) for i in range(X_train.shape[0])], ignore_index=True)\n"
     ]
    },
    {
     "data": {
      "text/html": [
       "\n",
       "              <p>\n",
       "                  Progress: 100% Complete\n",
       "              <p/>\n",
       "              <progress\n",
       "                  value='67'\n",
       "                  max='67',\n",
       "                  style='width: 25%',\n",
       "              >\n",
       "                  67\n",
       "              </progress>\n",
       "\n",
       "    "
      ],
      "text/plain": [
       "<IPython.core.display.HTML object>"
      ]
     },
     "metadata": {},
     "output_type": "display_data"
    },
    {
     "name": "stderr",
     "output_type": "stream",
     "text": [
      "C:\\Users\\Admin\\AppData\\Local\\Temp\\ipykernel_9472\\157778011.py:27: UserWarning: Using default sampling frequency set in configuration file.\n",
      "  X_train_tsfel = pd.concat([tsfel.time_series_features_extractor(cfg, pd.DataFrame(X_train[i])) for i in range(X_train.shape[0])], ignore_index=True)\n"
     ]
    },
    {
     "data": {
      "text/html": [
       "\n",
       "              <p>\n",
       "                  Progress: 100% Complete\n",
       "              <p/>\n",
       "              <progress\n",
       "                  value='67'\n",
       "                  max='67',\n",
       "                  style='width: 25%',\n",
       "              >\n",
       "                  67\n",
       "              </progress>\n",
       "\n",
       "    "
      ],
      "text/plain": [
       "<IPython.core.display.HTML object>"
      ]
     },
     "metadata": {},
     "output_type": "display_data"
    },
    {
     "name": "stderr",
     "output_type": "stream",
     "text": [
      "C:\\Users\\Admin\\AppData\\Local\\Temp\\ipykernel_9472\\157778011.py:27: UserWarning: Using default sampling frequency set in configuration file.\n",
      "  X_train_tsfel = pd.concat([tsfel.time_series_features_extractor(cfg, pd.DataFrame(X_train[i])) for i in range(X_train.shape[0])], ignore_index=True)\n"
     ]
    },
    {
     "data": {
      "text/html": [
       "\n",
       "              <p>\n",
       "                  Progress: 100% Complete\n",
       "              <p/>\n",
       "              <progress\n",
       "                  value='67'\n",
       "                  max='67',\n",
       "                  style='width: 25%',\n",
       "              >\n",
       "                  67\n",
       "              </progress>\n",
       "\n",
       "    "
      ],
      "text/plain": [
       "<IPython.core.display.HTML object>"
      ]
     },
     "metadata": {},
     "output_type": "display_data"
    },
    {
     "name": "stderr",
     "output_type": "stream",
     "text": [
      "C:\\Users\\Admin\\AppData\\Local\\Temp\\ipykernel_9472\\157778011.py:27: UserWarning: Using default sampling frequency set in configuration file.\n",
      "  X_train_tsfel = pd.concat([tsfel.time_series_features_extractor(cfg, pd.DataFrame(X_train[i])) for i in range(X_train.shape[0])], ignore_index=True)\n"
     ]
    },
    {
     "data": {
      "text/html": [
       "\n",
       "              <p>\n",
       "                  Progress: 100% Complete\n",
       "              <p/>\n",
       "              <progress\n",
       "                  value='67'\n",
       "                  max='67',\n",
       "                  style='width: 25%',\n",
       "              >\n",
       "                  67\n",
       "              </progress>\n",
       "\n",
       "    "
      ],
      "text/plain": [
       "<IPython.core.display.HTML object>"
      ]
     },
     "metadata": {},
     "output_type": "display_data"
    },
    {
     "name": "stderr",
     "output_type": "stream",
     "text": [
      "C:\\Users\\Admin\\AppData\\Local\\Temp\\ipykernel_9472\\157778011.py:27: UserWarning: Using default sampling frequency set in configuration file.\n",
      "  X_train_tsfel = pd.concat([tsfel.time_series_features_extractor(cfg, pd.DataFrame(X_train[i])) for i in range(X_train.shape[0])], ignore_index=True)\n"
     ]
    },
    {
     "data": {
      "text/html": [
       "\n",
       "              <p>\n",
       "                  Progress: 100% Complete\n",
       "              <p/>\n",
       "              <progress\n",
       "                  value='67'\n",
       "                  max='67',\n",
       "                  style='width: 25%',\n",
       "              >\n",
       "                  67\n",
       "              </progress>\n",
       "\n",
       "    "
      ],
      "text/plain": [
       "<IPython.core.display.HTML object>"
      ]
     },
     "metadata": {},
     "output_type": "display_data"
    },
    {
     "name": "stderr",
     "output_type": "stream",
     "text": [
      "C:\\Users\\Admin\\AppData\\Local\\Temp\\ipykernel_9472\\157778011.py:27: UserWarning: Using default sampling frequency set in configuration file.\n",
      "  X_train_tsfel = pd.concat([tsfel.time_series_features_extractor(cfg, pd.DataFrame(X_train[i])) for i in range(X_train.shape[0])], ignore_index=True)\n"
     ]
    },
    {
     "data": {
      "text/html": [
       "\n",
       "              <p>\n",
       "                  Progress: 100% Complete\n",
       "              <p/>\n",
       "              <progress\n",
       "                  value='67'\n",
       "                  max='67',\n",
       "                  style='width: 25%',\n",
       "              >\n",
       "                  67\n",
       "              </progress>\n",
       "\n",
       "    "
      ],
      "text/plain": [
       "<IPython.core.display.HTML object>"
      ]
     },
     "metadata": {},
     "output_type": "display_data"
    },
    {
     "name": "stderr",
     "output_type": "stream",
     "text": [
      "C:\\Users\\Admin\\AppData\\Local\\Temp\\ipykernel_9472\\157778011.py:27: UserWarning: Using default sampling frequency set in configuration file.\n",
      "  X_train_tsfel = pd.concat([tsfel.time_series_features_extractor(cfg, pd.DataFrame(X_train[i])) for i in range(X_train.shape[0])], ignore_index=True)\n"
     ]
    },
    {
     "data": {
      "text/html": [
       "\n",
       "              <p>\n",
       "                  Progress: 100% Complete\n",
       "              <p/>\n",
       "              <progress\n",
       "                  value='67'\n",
       "                  max='67',\n",
       "                  style='width: 25%',\n",
       "              >\n",
       "                  67\n",
       "              </progress>\n",
       "\n",
       "    "
      ],
      "text/plain": [
       "<IPython.core.display.HTML object>"
      ]
     },
     "metadata": {},
     "output_type": "display_data"
    },
    {
     "name": "stderr",
     "output_type": "stream",
     "text": [
      "C:\\Users\\Admin\\AppData\\Local\\Temp\\ipykernel_9472\\157778011.py:27: UserWarning: Using default sampling frequency set in configuration file.\n",
      "  X_train_tsfel = pd.concat([tsfel.time_series_features_extractor(cfg, pd.DataFrame(X_train[i])) for i in range(X_train.shape[0])], ignore_index=True)\n"
     ]
    },
    {
     "data": {
      "text/html": [
       "\n",
       "              <p>\n",
       "                  Progress: 100% Complete\n",
       "              <p/>\n",
       "              <progress\n",
       "                  value='67'\n",
       "                  max='67',\n",
       "                  style='width: 25%',\n",
       "              >\n",
       "                  67\n",
       "              </progress>\n",
       "\n",
       "    "
      ],
      "text/plain": [
       "<IPython.core.display.HTML object>"
      ]
     },
     "metadata": {},
     "output_type": "display_data"
    },
    {
     "name": "stderr",
     "output_type": "stream",
     "text": [
      "C:\\Users\\Admin\\AppData\\Local\\Temp\\ipykernel_9472\\157778011.py:27: UserWarning: Using default sampling frequency set in configuration file.\n",
      "  X_train_tsfel = pd.concat([tsfel.time_series_features_extractor(cfg, pd.DataFrame(X_train[i])) for i in range(X_train.shape[0])], ignore_index=True)\n"
     ]
    },
    {
     "data": {
      "text/html": [
       "\n",
       "              <p>\n",
       "                  Progress: 100% Complete\n",
       "              <p/>\n",
       "              <progress\n",
       "                  value='67'\n",
       "                  max='67',\n",
       "                  style='width: 25%',\n",
       "              >\n",
       "                  67\n",
       "              </progress>\n",
       "\n",
       "    "
      ],
      "text/plain": [
       "<IPython.core.display.HTML object>"
      ]
     },
     "metadata": {},
     "output_type": "display_data"
    },
    {
     "name": "stderr",
     "output_type": "stream",
     "text": [
      "C:\\Users\\Admin\\AppData\\Local\\Temp\\ipykernel_9472\\157778011.py:27: UserWarning: Using default sampling frequency set in configuration file.\n",
      "  X_train_tsfel = pd.concat([tsfel.time_series_features_extractor(cfg, pd.DataFrame(X_train[i])) for i in range(X_train.shape[0])], ignore_index=True)\n"
     ]
    },
    {
     "data": {
      "text/html": [
       "\n",
       "              <p>\n",
       "                  Progress: 100% Complete\n",
       "              <p/>\n",
       "              <progress\n",
       "                  value='67'\n",
       "                  max='67',\n",
       "                  style='width: 25%',\n",
       "              >\n",
       "                  67\n",
       "              </progress>\n",
       "\n",
       "    "
      ],
      "text/plain": [
       "<IPython.core.display.HTML object>"
      ]
     },
     "metadata": {},
     "output_type": "display_data"
    },
    {
     "name": "stderr",
     "output_type": "stream",
     "text": [
      "C:\\Users\\Admin\\AppData\\Local\\Temp\\ipykernel_9472\\157778011.py:27: UserWarning: Using default sampling frequency set in configuration file.\n",
      "  X_train_tsfel = pd.concat([tsfel.time_series_features_extractor(cfg, pd.DataFrame(X_train[i])) for i in range(X_train.shape[0])], ignore_index=True)\n"
     ]
    },
    {
     "data": {
      "text/html": [
       "\n",
       "              <p>\n",
       "                  Progress: 100% Complete\n",
       "              <p/>\n",
       "              <progress\n",
       "                  value='67'\n",
       "                  max='67',\n",
       "                  style='width: 25%',\n",
       "              >\n",
       "                  67\n",
       "              </progress>\n",
       "\n",
       "    "
      ],
      "text/plain": [
       "<IPython.core.display.HTML object>"
      ]
     },
     "metadata": {},
     "output_type": "display_data"
    },
    {
     "name": "stderr",
     "output_type": "stream",
     "text": [
      "C:\\Users\\Admin\\AppData\\Local\\Temp\\ipykernel_9472\\157778011.py:27: UserWarning: Using default sampling frequency set in configuration file.\n",
      "  X_train_tsfel = pd.concat([tsfel.time_series_features_extractor(cfg, pd.DataFrame(X_train[i])) for i in range(X_train.shape[0])], ignore_index=True)\n"
     ]
    },
    {
     "data": {
      "text/html": [
       "\n",
       "              <p>\n",
       "                  Progress: 100% Complete\n",
       "              <p/>\n",
       "              <progress\n",
       "                  value='67'\n",
       "                  max='67',\n",
       "                  style='width: 25%',\n",
       "              >\n",
       "                  67\n",
       "              </progress>\n",
       "\n",
       "    "
      ],
      "text/plain": [
       "<IPython.core.display.HTML object>"
      ]
     },
     "metadata": {},
     "output_type": "display_data"
    },
    {
     "name": "stderr",
     "output_type": "stream",
     "text": [
      "C:\\Users\\Admin\\AppData\\Local\\Temp\\ipykernel_9472\\157778011.py:27: UserWarning: Using default sampling frequency set in configuration file.\n",
      "  X_train_tsfel = pd.concat([tsfel.time_series_features_extractor(cfg, pd.DataFrame(X_train[i])) for i in range(X_train.shape[0])], ignore_index=True)\n"
     ]
    },
    {
     "data": {
      "text/html": [
       "\n",
       "              <p>\n",
       "                  Progress: 100% Complete\n",
       "              <p/>\n",
       "              <progress\n",
       "                  value='67'\n",
       "                  max='67',\n",
       "                  style='width: 25%',\n",
       "              >\n",
       "                  67\n",
       "              </progress>\n",
       "\n",
       "    "
      ],
      "text/plain": [
       "<IPython.core.display.HTML object>"
      ]
     },
     "metadata": {},
     "output_type": "display_data"
    },
    {
     "name": "stderr",
     "output_type": "stream",
     "text": [
      "C:\\Users\\Admin\\AppData\\Local\\Temp\\ipykernel_9472\\157778011.py:27: UserWarning: Using default sampling frequency set in configuration file.\n",
      "  X_train_tsfel = pd.concat([tsfel.time_series_features_extractor(cfg, pd.DataFrame(X_train[i])) for i in range(X_train.shape[0])], ignore_index=True)\n"
     ]
    },
    {
     "data": {
      "text/html": [
       "\n",
       "              <p>\n",
       "                  Progress: 100% Complete\n",
       "              <p/>\n",
       "              <progress\n",
       "                  value='67'\n",
       "                  max='67',\n",
       "                  style='width: 25%',\n",
       "              >\n",
       "                  67\n",
       "              </progress>\n",
       "\n",
       "    "
      ],
      "text/plain": [
       "<IPython.core.display.HTML object>"
      ]
     },
     "metadata": {},
     "output_type": "display_data"
    },
    {
     "name": "stderr",
     "output_type": "stream",
     "text": [
      "C:\\Users\\Admin\\AppData\\Local\\Temp\\ipykernel_9472\\157778011.py:27: UserWarning: Using default sampling frequency set in configuration file.\n",
      "  X_train_tsfel = pd.concat([tsfel.time_series_features_extractor(cfg, pd.DataFrame(X_train[i])) for i in range(X_train.shape[0])], ignore_index=True)\n"
     ]
    },
    {
     "data": {
      "text/html": [
       "\n",
       "              <p>\n",
       "                  Progress: 100% Complete\n",
       "              <p/>\n",
       "              <progress\n",
       "                  value='67'\n",
       "                  max='67',\n",
       "                  style='width: 25%',\n",
       "              >\n",
       "                  67\n",
       "              </progress>\n",
       "\n",
       "    "
      ],
      "text/plain": [
       "<IPython.core.display.HTML object>"
      ]
     },
     "metadata": {},
     "output_type": "display_data"
    },
    {
     "name": "stderr",
     "output_type": "stream",
     "text": [
      "C:\\Users\\Admin\\AppData\\Local\\Temp\\ipykernel_9472\\157778011.py:27: UserWarning: Using default sampling frequency set in configuration file.\n",
      "  X_train_tsfel = pd.concat([tsfel.time_series_features_extractor(cfg, pd.DataFrame(X_train[i])) for i in range(X_train.shape[0])], ignore_index=True)\n"
     ]
    },
    {
     "data": {
      "text/html": [
       "\n",
       "              <p>\n",
       "                  Progress: 100% Complete\n",
       "              <p/>\n",
       "              <progress\n",
       "                  value='67'\n",
       "                  max='67',\n",
       "                  style='width: 25%',\n",
       "              >\n",
       "                  67\n",
       "              </progress>\n",
       "\n",
       "    "
      ],
      "text/plain": [
       "<IPython.core.display.HTML object>"
      ]
     },
     "metadata": {},
     "output_type": "display_data"
    },
    {
     "name": "stderr",
     "output_type": "stream",
     "text": [
      "C:\\Users\\Admin\\AppData\\Local\\Temp\\ipykernel_9472\\157778011.py:27: UserWarning: Using default sampling frequency set in configuration file.\n",
      "  X_train_tsfel = pd.concat([tsfel.time_series_features_extractor(cfg, pd.DataFrame(X_train[i])) for i in range(X_train.shape[0])], ignore_index=True)\n"
     ]
    },
    {
     "data": {
      "text/html": [
       "\n",
       "              <p>\n",
       "                  Progress: 100% Complete\n",
       "              <p/>\n",
       "              <progress\n",
       "                  value='67'\n",
       "                  max='67',\n",
       "                  style='width: 25%',\n",
       "              >\n",
       "                  67\n",
       "              </progress>\n",
       "\n",
       "    "
      ],
      "text/plain": [
       "<IPython.core.display.HTML object>"
      ]
     },
     "metadata": {},
     "output_type": "display_data"
    },
    {
     "name": "stderr",
     "output_type": "stream",
     "text": [
      "C:\\Users\\Admin\\AppData\\Local\\Temp\\ipykernel_9472\\157778011.py:27: UserWarning: Using default sampling frequency set in configuration file.\n",
      "  X_train_tsfel = pd.concat([tsfel.time_series_features_extractor(cfg, pd.DataFrame(X_train[i])) for i in range(X_train.shape[0])], ignore_index=True)\n"
     ]
    },
    {
     "data": {
      "text/html": [
       "\n",
       "              <p>\n",
       "                  Progress: 100% Complete\n",
       "              <p/>\n",
       "              <progress\n",
       "                  value='67'\n",
       "                  max='67',\n",
       "                  style='width: 25%',\n",
       "              >\n",
       "                  67\n",
       "              </progress>\n",
       "\n",
       "    "
      ],
      "text/plain": [
       "<IPython.core.display.HTML object>"
      ]
     },
     "metadata": {},
     "output_type": "display_data"
    },
    {
     "name": "stderr",
     "output_type": "stream",
     "text": [
      "C:\\Users\\Admin\\AppData\\Local\\Temp\\ipykernel_9472\\157778011.py:27: UserWarning: Using default sampling frequency set in configuration file.\n",
      "  X_train_tsfel = pd.concat([tsfel.time_series_features_extractor(cfg, pd.DataFrame(X_train[i])) for i in range(X_train.shape[0])], ignore_index=True)\n"
     ]
    },
    {
     "data": {
      "text/html": [
       "\n",
       "              <p>\n",
       "                  Progress: 100% Complete\n",
       "              <p/>\n",
       "              <progress\n",
       "                  value='67'\n",
       "                  max='67',\n",
       "                  style='width: 25%',\n",
       "              >\n",
       "                  67\n",
       "              </progress>\n",
       "\n",
       "    "
      ],
      "text/plain": [
       "<IPython.core.display.HTML object>"
      ]
     },
     "metadata": {},
     "output_type": "display_data"
    },
    {
     "name": "stderr",
     "output_type": "stream",
     "text": [
      "C:\\Users\\Admin\\AppData\\Local\\Temp\\ipykernel_9472\\157778011.py:27: UserWarning: Using default sampling frequency set in configuration file.\n",
      "  X_train_tsfel = pd.concat([tsfel.time_series_features_extractor(cfg, pd.DataFrame(X_train[i])) for i in range(X_train.shape[0])], ignore_index=True)\n"
     ]
    },
    {
     "data": {
      "text/html": [
       "\n",
       "              <p>\n",
       "                  Progress: 100% Complete\n",
       "              <p/>\n",
       "              <progress\n",
       "                  value='67'\n",
       "                  max='67',\n",
       "                  style='width: 25%',\n",
       "              >\n",
       "                  67\n",
       "              </progress>\n",
       "\n",
       "    "
      ],
      "text/plain": [
       "<IPython.core.display.HTML object>"
      ]
     },
     "metadata": {},
     "output_type": "display_data"
    },
    {
     "name": "stderr",
     "output_type": "stream",
     "text": [
      "C:\\Users\\Admin\\AppData\\Local\\Temp\\ipykernel_9472\\157778011.py:27: UserWarning: Using default sampling frequency set in configuration file.\n",
      "  X_train_tsfel = pd.concat([tsfel.time_series_features_extractor(cfg, pd.DataFrame(X_train[i])) for i in range(X_train.shape[0])], ignore_index=True)\n"
     ]
    },
    {
     "data": {
      "text/html": [
       "\n",
       "              <p>\n",
       "                  Progress: 100% Complete\n",
       "              <p/>\n",
       "              <progress\n",
       "                  value='67'\n",
       "                  max='67',\n",
       "                  style='width: 25%',\n",
       "              >\n",
       "                  67\n",
       "              </progress>\n",
       "\n",
       "    "
      ],
      "text/plain": [
       "<IPython.core.display.HTML object>"
      ]
     },
     "metadata": {},
     "output_type": "display_data"
    },
    {
     "name": "stderr",
     "output_type": "stream",
     "text": [
      "C:\\Users\\Admin\\AppData\\Local\\Temp\\ipykernel_9472\\157778011.py:27: UserWarning: Using default sampling frequency set in configuration file.\n",
      "  X_train_tsfel = pd.concat([tsfel.time_series_features_extractor(cfg, pd.DataFrame(X_train[i])) for i in range(X_train.shape[0])], ignore_index=True)\n"
     ]
    },
    {
     "data": {
      "text/html": [
       "\n",
       "              <p>\n",
       "                  Progress: 100% Complete\n",
       "              <p/>\n",
       "              <progress\n",
       "                  value='67'\n",
       "                  max='67',\n",
       "                  style='width: 25%',\n",
       "              >\n",
       "                  67\n",
       "              </progress>\n",
       "\n",
       "    "
      ],
      "text/plain": [
       "<IPython.core.display.HTML object>"
      ]
     },
     "metadata": {},
     "output_type": "display_data"
    },
    {
     "name": "stderr",
     "output_type": "stream",
     "text": [
      "C:\\Users\\Admin\\AppData\\Local\\Temp\\ipykernel_9472\\157778011.py:27: UserWarning: Using default sampling frequency set in configuration file.\n",
      "  X_train_tsfel = pd.concat([tsfel.time_series_features_extractor(cfg, pd.DataFrame(X_train[i])) for i in range(X_train.shape[0])], ignore_index=True)\n"
     ]
    },
    {
     "data": {
      "text/html": [
       "\n",
       "              <p>\n",
       "                  Progress: 100% Complete\n",
       "              <p/>\n",
       "              <progress\n",
       "                  value='67'\n",
       "                  max='67',\n",
       "                  style='width: 25%',\n",
       "              >\n",
       "                  67\n",
       "              </progress>\n",
       "\n",
       "    "
      ],
      "text/plain": [
       "<IPython.core.display.HTML object>"
      ]
     },
     "metadata": {},
     "output_type": "display_data"
    },
    {
     "name": "stderr",
     "output_type": "stream",
     "text": [
      "C:\\Users\\Admin\\AppData\\Local\\Temp\\ipykernel_9472\\157778011.py:27: UserWarning: Using default sampling frequency set in configuration file.\n",
      "  X_train_tsfel = pd.concat([tsfel.time_series_features_extractor(cfg, pd.DataFrame(X_train[i])) for i in range(X_train.shape[0])], ignore_index=True)\n"
     ]
    },
    {
     "data": {
      "text/html": [
       "\n",
       "              <p>\n",
       "                  Progress: 100% Complete\n",
       "              <p/>\n",
       "              <progress\n",
       "                  value='67'\n",
       "                  max='67',\n",
       "                  style='width: 25%',\n",
       "              >\n",
       "                  67\n",
       "              </progress>\n",
       "\n",
       "    "
      ],
      "text/plain": [
       "<IPython.core.display.HTML object>"
      ]
     },
     "metadata": {},
     "output_type": "display_data"
    },
    {
     "name": "stderr",
     "output_type": "stream",
     "text": [
      "C:\\Users\\Admin\\AppData\\Local\\Temp\\ipykernel_9472\\157778011.py:27: UserWarning: Using default sampling frequency set in configuration file.\n",
      "  X_train_tsfel = pd.concat([tsfel.time_series_features_extractor(cfg, pd.DataFrame(X_train[i])) for i in range(X_train.shape[0])], ignore_index=True)\n"
     ]
    },
    {
     "data": {
      "text/html": [
       "\n",
       "              <p>\n",
       "                  Progress: 100% Complete\n",
       "              <p/>\n",
       "              <progress\n",
       "                  value='67'\n",
       "                  max='67',\n",
       "                  style='width: 25%',\n",
       "              >\n",
       "                  67\n",
       "              </progress>\n",
       "\n",
       "    "
      ],
      "text/plain": [
       "<IPython.core.display.HTML object>"
      ]
     },
     "metadata": {},
     "output_type": "display_data"
    },
    {
     "name": "stderr",
     "output_type": "stream",
     "text": [
      "C:\\Users\\Admin\\AppData\\Local\\Temp\\ipykernel_9472\\157778011.py:27: UserWarning: Using default sampling frequency set in configuration file.\n",
      "  X_train_tsfel = pd.concat([tsfel.time_series_features_extractor(cfg, pd.DataFrame(X_train[i])) for i in range(X_train.shape[0])], ignore_index=True)\n"
     ]
    },
    {
     "data": {
      "text/html": [
       "\n",
       "              <p>\n",
       "                  Progress: 100% Complete\n",
       "              <p/>\n",
       "              <progress\n",
       "                  value='67'\n",
       "                  max='67',\n",
       "                  style='width: 25%',\n",
       "              >\n",
       "                  67\n",
       "              </progress>\n",
       "\n",
       "    "
      ],
      "text/plain": [
       "<IPython.core.display.HTML object>"
      ]
     },
     "metadata": {},
     "output_type": "display_data"
    },
    {
     "name": "stderr",
     "output_type": "stream",
     "text": [
      "C:\\Users\\Admin\\AppData\\Local\\Temp\\ipykernel_9472\\157778011.py:27: UserWarning: Using default sampling frequency set in configuration file.\n",
      "  X_train_tsfel = pd.concat([tsfel.time_series_features_extractor(cfg, pd.DataFrame(X_train[i])) for i in range(X_train.shape[0])], ignore_index=True)\n"
     ]
    },
    {
     "data": {
      "text/html": [
       "\n",
       "              <p>\n",
       "                  Progress: 100% Complete\n",
       "              <p/>\n",
       "              <progress\n",
       "                  value='67'\n",
       "                  max='67',\n",
       "                  style='width: 25%',\n",
       "              >\n",
       "                  67\n",
       "              </progress>\n",
       "\n",
       "    "
      ],
      "text/plain": [
       "<IPython.core.display.HTML object>"
      ]
     },
     "metadata": {},
     "output_type": "display_data"
    },
    {
     "name": "stderr",
     "output_type": "stream",
     "text": [
      "C:\\Users\\Admin\\AppData\\Local\\Temp\\ipykernel_9472\\157778011.py:27: UserWarning: Using default sampling frequency set in configuration file.\n",
      "  X_train_tsfel = pd.concat([tsfel.time_series_features_extractor(cfg, pd.DataFrame(X_train[i])) for i in range(X_train.shape[0])], ignore_index=True)\n"
     ]
    },
    {
     "data": {
      "text/html": [
       "\n",
       "              <p>\n",
       "                  Progress: 100% Complete\n",
       "              <p/>\n",
       "              <progress\n",
       "                  value='67'\n",
       "                  max='67',\n",
       "                  style='width: 25%',\n",
       "              >\n",
       "                  67\n",
       "              </progress>\n",
       "\n",
       "    "
      ],
      "text/plain": [
       "<IPython.core.display.HTML object>"
      ]
     },
     "metadata": {},
     "output_type": "display_data"
    },
    {
     "name": "stderr",
     "output_type": "stream",
     "text": [
      "C:\\Users\\Admin\\AppData\\Local\\Temp\\ipykernel_9472\\157778011.py:27: UserWarning: Using default sampling frequency set in configuration file.\n",
      "  X_train_tsfel = pd.concat([tsfel.time_series_features_extractor(cfg, pd.DataFrame(X_train[i])) for i in range(X_train.shape[0])], ignore_index=True)\n"
     ]
    },
    {
     "data": {
      "text/html": [
       "\n",
       "              <p>\n",
       "                  Progress: 100% Complete\n",
       "              <p/>\n",
       "              <progress\n",
       "                  value='67'\n",
       "                  max='67',\n",
       "                  style='width: 25%',\n",
       "              >\n",
       "                  67\n",
       "              </progress>\n",
       "\n",
       "    "
      ],
      "text/plain": [
       "<IPython.core.display.HTML object>"
      ]
     },
     "metadata": {},
     "output_type": "display_data"
    },
    {
     "name": "stderr",
     "output_type": "stream",
     "text": [
      "C:\\Users\\Admin\\AppData\\Local\\Temp\\ipykernel_9472\\157778011.py:27: UserWarning: Using default sampling frequency set in configuration file.\n",
      "  X_train_tsfel = pd.concat([tsfel.time_series_features_extractor(cfg, pd.DataFrame(X_train[i])) for i in range(X_train.shape[0])], ignore_index=True)\n"
     ]
    },
    {
     "data": {
      "text/html": [
       "\n",
       "              <p>\n",
       "                  Progress: 100% Complete\n",
       "              <p/>\n",
       "              <progress\n",
       "                  value='67'\n",
       "                  max='67',\n",
       "                  style='width: 25%',\n",
       "              >\n",
       "                  67\n",
       "              </progress>\n",
       "\n",
       "    "
      ],
      "text/plain": [
       "<IPython.core.display.HTML object>"
      ]
     },
     "metadata": {},
     "output_type": "display_data"
    },
    {
     "name": "stderr",
     "output_type": "stream",
     "text": [
      "C:\\Users\\Admin\\AppData\\Local\\Temp\\ipykernel_9472\\157778011.py:27: UserWarning: Using default sampling frequency set in configuration file.\n",
      "  X_train_tsfel = pd.concat([tsfel.time_series_features_extractor(cfg, pd.DataFrame(X_train[i])) for i in range(X_train.shape[0])], ignore_index=True)\n"
     ]
    },
    {
     "data": {
      "text/html": [
       "\n",
       "              <p>\n",
       "                  Progress: 100% Complete\n",
       "              <p/>\n",
       "              <progress\n",
       "                  value='67'\n",
       "                  max='67',\n",
       "                  style='width: 25%',\n",
       "              >\n",
       "                  67\n",
       "              </progress>\n",
       "\n",
       "    "
      ],
      "text/plain": [
       "<IPython.core.display.HTML object>"
      ]
     },
     "metadata": {},
     "output_type": "display_data"
    },
    {
     "name": "stderr",
     "output_type": "stream",
     "text": [
      "C:\\Users\\Admin\\AppData\\Local\\Temp\\ipykernel_9472\\157778011.py:27: UserWarning: Using default sampling frequency set in configuration file.\n",
      "  X_train_tsfel = pd.concat([tsfel.time_series_features_extractor(cfg, pd.DataFrame(X_train[i])) for i in range(X_train.shape[0])], ignore_index=True)\n"
     ]
    },
    {
     "data": {
      "text/html": [
       "\n",
       "              <p>\n",
       "                  Progress: 100% Complete\n",
       "              <p/>\n",
       "              <progress\n",
       "                  value='67'\n",
       "                  max='67',\n",
       "                  style='width: 25%',\n",
       "              >\n",
       "                  67\n",
       "              </progress>\n",
       "\n",
       "    "
      ],
      "text/plain": [
       "<IPython.core.display.HTML object>"
      ]
     },
     "metadata": {},
     "output_type": "display_data"
    },
    {
     "name": "stderr",
     "output_type": "stream",
     "text": [
      "C:\\Users\\Admin\\AppData\\Local\\Temp\\ipykernel_9472\\157778011.py:27: UserWarning: Using default sampling frequency set in configuration file.\n",
      "  X_train_tsfel = pd.concat([tsfel.time_series_features_extractor(cfg, pd.DataFrame(X_train[i])) for i in range(X_train.shape[0])], ignore_index=True)\n"
     ]
    },
    {
     "data": {
      "text/html": [
       "\n",
       "              <p>\n",
       "                  Progress: 100% Complete\n",
       "              <p/>\n",
       "              <progress\n",
       "                  value='67'\n",
       "                  max='67',\n",
       "                  style='width: 25%',\n",
       "              >\n",
       "                  67\n",
       "              </progress>\n",
       "\n",
       "    "
      ],
      "text/plain": [
       "<IPython.core.display.HTML object>"
      ]
     },
     "metadata": {},
     "output_type": "display_data"
    },
    {
     "name": "stderr",
     "output_type": "stream",
     "text": [
      "C:\\Users\\Admin\\AppData\\Local\\Temp\\ipykernel_9472\\157778011.py:27: UserWarning: Using default sampling frequency set in configuration file.\n",
      "  X_train_tsfel = pd.concat([tsfel.time_series_features_extractor(cfg, pd.DataFrame(X_train[i])) for i in range(X_train.shape[0])], ignore_index=True)\n"
     ]
    },
    {
     "data": {
      "text/html": [
       "\n",
       "              <p>\n",
       "                  Progress: 100% Complete\n",
       "              <p/>\n",
       "              <progress\n",
       "                  value='67'\n",
       "                  max='67',\n",
       "                  style='width: 25%',\n",
       "              >\n",
       "                  67\n",
       "              </progress>\n",
       "\n",
       "    "
      ],
      "text/plain": [
       "<IPython.core.display.HTML object>"
      ]
     },
     "metadata": {},
     "output_type": "display_data"
    },
    {
     "name": "stderr",
     "output_type": "stream",
     "text": [
      "C:\\Users\\Admin\\AppData\\Local\\Temp\\ipykernel_9472\\157778011.py:27: UserWarning: Using default sampling frequency set in configuration file.\n",
      "  X_train_tsfel = pd.concat([tsfel.time_series_features_extractor(cfg, pd.DataFrame(X_train[i])) for i in range(X_train.shape[0])], ignore_index=True)\n"
     ]
    },
    {
     "data": {
      "text/html": [
       "\n",
       "              <p>\n",
       "                  Progress: 100% Complete\n",
       "              <p/>\n",
       "              <progress\n",
       "                  value='67'\n",
       "                  max='67',\n",
       "                  style='width: 25%',\n",
       "              >\n",
       "                  67\n",
       "              </progress>\n",
       "\n",
       "    "
      ],
      "text/plain": [
       "<IPython.core.display.HTML object>"
      ]
     },
     "metadata": {},
     "output_type": "display_data"
    },
    {
     "name": "stderr",
     "output_type": "stream",
     "text": [
      "C:\\Users\\Admin\\AppData\\Local\\Temp\\ipykernel_9472\\157778011.py:27: UserWarning: Using default sampling frequency set in configuration file.\n",
      "  X_train_tsfel = pd.concat([tsfel.time_series_features_extractor(cfg, pd.DataFrame(X_train[i])) for i in range(X_train.shape[0])], ignore_index=True)\n"
     ]
    },
    {
     "data": {
      "text/html": [
       "\n",
       "              <p>\n",
       "                  Progress: 100% Complete\n",
       "              <p/>\n",
       "              <progress\n",
       "                  value='67'\n",
       "                  max='67',\n",
       "                  style='width: 25%',\n",
       "              >\n",
       "                  67\n",
       "              </progress>\n",
       "\n",
       "    "
      ],
      "text/plain": [
       "<IPython.core.display.HTML object>"
      ]
     },
     "metadata": {},
     "output_type": "display_data"
    },
    {
     "name": "stderr",
     "output_type": "stream",
     "text": [
      "C:\\Users\\Admin\\AppData\\Local\\Temp\\ipykernel_9472\\157778011.py:27: UserWarning: Using default sampling frequency set in configuration file.\n",
      "  X_train_tsfel = pd.concat([tsfel.time_series_features_extractor(cfg, pd.DataFrame(X_train[i])) for i in range(X_train.shape[0])], ignore_index=True)\n"
     ]
    },
    {
     "data": {
      "text/html": [
       "\n",
       "              <p>\n",
       "                  Progress: 100% Complete\n",
       "              <p/>\n",
       "              <progress\n",
       "                  value='67'\n",
       "                  max='67',\n",
       "                  style='width: 25%',\n",
       "              >\n",
       "                  67\n",
       "              </progress>\n",
       "\n",
       "    "
      ],
      "text/plain": [
       "<IPython.core.display.HTML object>"
      ]
     },
     "metadata": {},
     "output_type": "display_data"
    },
    {
     "name": "stderr",
     "output_type": "stream",
     "text": [
      "C:\\Users\\Admin\\AppData\\Local\\Temp\\ipykernel_9472\\157778011.py:27: UserWarning: Using default sampling frequency set in configuration file.\n",
      "  X_train_tsfel = pd.concat([tsfel.time_series_features_extractor(cfg, pd.DataFrame(X_train[i])) for i in range(X_train.shape[0])], ignore_index=True)\n"
     ]
    },
    {
     "data": {
      "text/html": [
       "\n",
       "              <p>\n",
       "                  Progress: 100% Complete\n",
       "              <p/>\n",
       "              <progress\n",
       "                  value='67'\n",
       "                  max='67',\n",
       "                  style='width: 25%',\n",
       "              >\n",
       "                  67\n",
       "              </progress>\n",
       "\n",
       "    "
      ],
      "text/plain": [
       "<IPython.core.display.HTML object>"
      ]
     },
     "metadata": {},
     "output_type": "display_data"
    },
    {
     "name": "stderr",
     "output_type": "stream",
     "text": [
      "C:\\Users\\Admin\\AppData\\Local\\Temp\\ipykernel_9472\\157778011.py:27: UserWarning: Using default sampling frequency set in configuration file.\n",
      "  X_train_tsfel = pd.concat([tsfel.time_series_features_extractor(cfg, pd.DataFrame(X_train[i])) for i in range(X_train.shape[0])], ignore_index=True)\n"
     ]
    },
    {
     "data": {
      "text/html": [
       "\n",
       "              <p>\n",
       "                  Progress: 100% Complete\n",
       "              <p/>\n",
       "              <progress\n",
       "                  value='67'\n",
       "                  max='67',\n",
       "                  style='width: 25%',\n",
       "              >\n",
       "                  67\n",
       "              </progress>\n",
       "\n",
       "    "
      ],
      "text/plain": [
       "<IPython.core.display.HTML object>"
      ]
     },
     "metadata": {},
     "output_type": "display_data"
    },
    {
     "name": "stderr",
     "output_type": "stream",
     "text": [
      "C:\\Users\\Admin\\AppData\\Local\\Temp\\ipykernel_9472\\157778011.py:27: UserWarning: Using default sampling frequency set in configuration file.\n",
      "  X_train_tsfel = pd.concat([tsfel.time_series_features_extractor(cfg, pd.DataFrame(X_train[i])) for i in range(X_train.shape[0])], ignore_index=True)\n"
     ]
    },
    {
     "data": {
      "text/html": [
       "\n",
       "              <p>\n",
       "                  Progress: 100% Complete\n",
       "              <p/>\n",
       "              <progress\n",
       "                  value='67'\n",
       "                  max='67',\n",
       "                  style='width: 25%',\n",
       "              >\n",
       "                  67\n",
       "              </progress>\n",
       "\n",
       "    "
      ],
      "text/plain": [
       "<IPython.core.display.HTML object>"
      ]
     },
     "metadata": {},
     "output_type": "display_data"
    },
    {
     "name": "stderr",
     "output_type": "stream",
     "text": [
      "C:\\Users\\Admin\\AppData\\Local\\Temp\\ipykernel_9472\\157778011.py:27: UserWarning: Using default sampling frequency set in configuration file.\n",
      "  X_train_tsfel = pd.concat([tsfel.time_series_features_extractor(cfg, pd.DataFrame(X_train[i])) for i in range(X_train.shape[0])], ignore_index=True)\n"
     ]
    },
    {
     "data": {
      "text/html": [
       "\n",
       "              <p>\n",
       "                  Progress: 100% Complete\n",
       "              <p/>\n",
       "              <progress\n",
       "                  value='67'\n",
       "                  max='67',\n",
       "                  style='width: 25%',\n",
       "              >\n",
       "                  67\n",
       "              </progress>\n",
       "\n",
       "    "
      ],
      "text/plain": [
       "<IPython.core.display.HTML object>"
      ]
     },
     "metadata": {},
     "output_type": "display_data"
    },
    {
     "name": "stderr",
     "output_type": "stream",
     "text": [
      "C:\\Users\\Admin\\AppData\\Local\\Temp\\ipykernel_9472\\157778011.py:27: UserWarning: Using default sampling frequency set in configuration file.\n",
      "  X_train_tsfel = pd.concat([tsfel.time_series_features_extractor(cfg, pd.DataFrame(X_train[i])) for i in range(X_train.shape[0])], ignore_index=True)\n"
     ]
    },
    {
     "data": {
      "text/html": [
       "\n",
       "              <p>\n",
       "                  Progress: 100% Complete\n",
       "              <p/>\n",
       "              <progress\n",
       "                  value='67'\n",
       "                  max='67',\n",
       "                  style='width: 25%',\n",
       "              >\n",
       "                  67\n",
       "              </progress>\n",
       "\n",
       "    "
      ],
      "text/plain": [
       "<IPython.core.display.HTML object>"
      ]
     },
     "metadata": {},
     "output_type": "display_data"
    },
    {
     "name": "stderr",
     "output_type": "stream",
     "text": [
      "C:\\Users\\Admin\\AppData\\Local\\Temp\\ipykernel_9472\\157778011.py:27: UserWarning: Using default sampling frequency set in configuration file.\n",
      "  X_train_tsfel = pd.concat([tsfel.time_series_features_extractor(cfg, pd.DataFrame(X_train[i])) for i in range(X_train.shape[0])], ignore_index=True)\n"
     ]
    },
    {
     "data": {
      "text/html": [
       "\n",
       "              <p>\n",
       "                  Progress: 100% Complete\n",
       "              <p/>\n",
       "              <progress\n",
       "                  value='67'\n",
       "                  max='67',\n",
       "                  style='width: 25%',\n",
       "              >\n",
       "                  67\n",
       "              </progress>\n",
       "\n",
       "    "
      ],
      "text/plain": [
       "<IPython.core.display.HTML object>"
      ]
     },
     "metadata": {},
     "output_type": "display_data"
    },
    {
     "name": "stderr",
     "output_type": "stream",
     "text": [
      "C:\\Users\\Admin\\AppData\\Local\\Temp\\ipykernel_9472\\157778011.py:27: UserWarning: Using default sampling frequency set in configuration file.\n",
      "  X_train_tsfel = pd.concat([tsfel.time_series_features_extractor(cfg, pd.DataFrame(X_train[i])) for i in range(X_train.shape[0])], ignore_index=True)\n"
     ]
    },
    {
     "data": {
      "text/html": [
       "\n",
       "              <p>\n",
       "                  Progress: 100% Complete\n",
       "              <p/>\n",
       "              <progress\n",
       "                  value='67'\n",
       "                  max='67',\n",
       "                  style='width: 25%',\n",
       "              >\n",
       "                  67\n",
       "              </progress>\n",
       "\n",
       "    "
      ],
      "text/plain": [
       "<IPython.core.display.HTML object>"
      ]
     },
     "metadata": {},
     "output_type": "display_data"
    },
    {
     "name": "stderr",
     "output_type": "stream",
     "text": [
      "C:\\Users\\Admin\\AppData\\Local\\Temp\\ipykernel_9472\\157778011.py:27: UserWarning: Using default sampling frequency set in configuration file.\n",
      "  X_train_tsfel = pd.concat([tsfel.time_series_features_extractor(cfg, pd.DataFrame(X_train[i])) for i in range(X_train.shape[0])], ignore_index=True)\n"
     ]
    },
    {
     "data": {
      "text/html": [
       "\n",
       "              <p>\n",
       "                  Progress: 100% Complete\n",
       "              <p/>\n",
       "              <progress\n",
       "                  value='67'\n",
       "                  max='67',\n",
       "                  style='width: 25%',\n",
       "              >\n",
       "                  67\n",
       "              </progress>\n",
       "\n",
       "    "
      ],
      "text/plain": [
       "<IPython.core.display.HTML object>"
      ]
     },
     "metadata": {},
     "output_type": "display_data"
    },
    {
     "name": "stderr",
     "output_type": "stream",
     "text": [
      "C:\\Users\\Admin\\AppData\\Local\\Temp\\ipykernel_9472\\157778011.py:27: UserWarning: Using default sampling frequency set in configuration file.\n",
      "  X_train_tsfel = pd.concat([tsfel.time_series_features_extractor(cfg, pd.DataFrame(X_train[i])) for i in range(X_train.shape[0])], ignore_index=True)\n"
     ]
    },
    {
     "data": {
      "text/html": [
       "\n",
       "              <p>\n",
       "                  Progress: 100% Complete\n",
       "              <p/>\n",
       "              <progress\n",
       "                  value='67'\n",
       "                  max='67',\n",
       "                  style='width: 25%',\n",
       "              >\n",
       "                  67\n",
       "              </progress>\n",
       "\n",
       "    "
      ],
      "text/plain": [
       "<IPython.core.display.HTML object>"
      ]
     },
     "metadata": {},
     "output_type": "display_data"
    },
    {
     "name": "stderr",
     "output_type": "stream",
     "text": [
      "C:\\Users\\Admin\\AppData\\Local\\Temp\\ipykernel_9472\\157778011.py:27: UserWarning: Using default sampling frequency set in configuration file.\n",
      "  X_train_tsfel = pd.concat([tsfel.time_series_features_extractor(cfg, pd.DataFrame(X_train[i])) for i in range(X_train.shape[0])], ignore_index=True)\n"
     ]
    },
    {
     "data": {
      "text/html": [
       "\n",
       "              <p>\n",
       "                  Progress: 100% Complete\n",
       "              <p/>\n",
       "              <progress\n",
       "                  value='67'\n",
       "                  max='67',\n",
       "                  style='width: 25%',\n",
       "              >\n",
       "                  67\n",
       "              </progress>\n",
       "\n",
       "    "
      ],
      "text/plain": [
       "<IPython.core.display.HTML object>"
      ]
     },
     "metadata": {},
     "output_type": "display_data"
    },
    {
     "name": "stderr",
     "output_type": "stream",
     "text": [
      "C:\\Users\\Admin\\AppData\\Local\\Temp\\ipykernel_9472\\157778011.py:27: UserWarning: Using default sampling frequency set in configuration file.\n",
      "  X_train_tsfel = pd.concat([tsfel.time_series_features_extractor(cfg, pd.DataFrame(X_train[i])) for i in range(X_train.shape[0])], ignore_index=True)\n"
     ]
    },
    {
     "data": {
      "text/html": [
       "\n",
       "              <p>\n",
       "                  Progress: 100% Complete\n",
       "              <p/>\n",
       "              <progress\n",
       "                  value='67'\n",
       "                  max='67',\n",
       "                  style='width: 25%',\n",
       "              >\n",
       "                  67\n",
       "              </progress>\n",
       "\n",
       "    "
      ],
      "text/plain": [
       "<IPython.core.display.HTML object>"
      ]
     },
     "metadata": {},
     "output_type": "display_data"
    },
    {
     "name": "stderr",
     "output_type": "stream",
     "text": [
      "C:\\Users\\Admin\\AppData\\Local\\Temp\\ipykernel_9472\\157778011.py:27: UserWarning: Using default sampling frequency set in configuration file.\n",
      "  X_train_tsfel = pd.concat([tsfel.time_series_features_extractor(cfg, pd.DataFrame(X_train[i])) for i in range(X_train.shape[0])], ignore_index=True)\n"
     ]
    },
    {
     "data": {
      "text/html": [
       "\n",
       "              <p>\n",
       "                  Progress: 100% Complete\n",
       "              <p/>\n",
       "              <progress\n",
       "                  value='67'\n",
       "                  max='67',\n",
       "                  style='width: 25%',\n",
       "              >\n",
       "                  67\n",
       "              </progress>\n",
       "\n",
       "    "
      ],
      "text/plain": [
       "<IPython.core.display.HTML object>"
      ]
     },
     "metadata": {},
     "output_type": "display_data"
    },
    {
     "name": "stderr",
     "output_type": "stream",
     "text": [
      "C:\\Users\\Admin\\AppData\\Local\\Temp\\ipykernel_9472\\157778011.py:27: UserWarning: Using default sampling frequency set in configuration file.\n",
      "  X_train_tsfel = pd.concat([tsfel.time_series_features_extractor(cfg, pd.DataFrame(X_train[i])) for i in range(X_train.shape[0])], ignore_index=True)\n"
     ]
    },
    {
     "data": {
      "text/html": [
       "\n",
       "              <p>\n",
       "                  Progress: 100% Complete\n",
       "              <p/>\n",
       "              <progress\n",
       "                  value='67'\n",
       "                  max='67',\n",
       "                  style='width: 25%',\n",
       "              >\n",
       "                  67\n",
       "              </progress>\n",
       "\n",
       "    "
      ],
      "text/plain": [
       "<IPython.core.display.HTML object>"
      ]
     },
     "metadata": {},
     "output_type": "display_data"
    },
    {
     "name": "stderr",
     "output_type": "stream",
     "text": [
      "C:\\Users\\Admin\\AppData\\Local\\Temp\\ipykernel_9472\\157778011.py:27: UserWarning: Using default sampling frequency set in configuration file.\n",
      "  X_train_tsfel = pd.concat([tsfel.time_series_features_extractor(cfg, pd.DataFrame(X_train[i])) for i in range(X_train.shape[0])], ignore_index=True)\n"
     ]
    },
    {
     "data": {
      "text/html": [
       "\n",
       "              <p>\n",
       "                  Progress: 100% Complete\n",
       "              <p/>\n",
       "              <progress\n",
       "                  value='67'\n",
       "                  max='67',\n",
       "                  style='width: 25%',\n",
       "              >\n",
       "                  67\n",
       "              </progress>\n",
       "\n",
       "    "
      ],
      "text/plain": [
       "<IPython.core.display.HTML object>"
      ]
     },
     "metadata": {},
     "output_type": "display_data"
    },
    {
     "name": "stderr",
     "output_type": "stream",
     "text": [
      "C:\\Users\\Admin\\AppData\\Local\\Temp\\ipykernel_9472\\157778011.py:27: UserWarning: Using default sampling frequency set in configuration file.\n",
      "  X_train_tsfel = pd.concat([tsfel.time_series_features_extractor(cfg, pd.DataFrame(X_train[i])) for i in range(X_train.shape[0])], ignore_index=True)\n"
     ]
    },
    {
     "data": {
      "text/html": [
       "\n",
       "              <p>\n",
       "                  Progress: 100% Complete\n",
       "              <p/>\n",
       "              <progress\n",
       "                  value='67'\n",
       "                  max='67',\n",
       "                  style='width: 25%',\n",
       "              >\n",
       "                  67\n",
       "              </progress>\n",
       "\n",
       "    "
      ],
      "text/plain": [
       "<IPython.core.display.HTML object>"
      ]
     },
     "metadata": {},
     "output_type": "display_data"
    },
    {
     "name": "stderr",
     "output_type": "stream",
     "text": [
      "C:\\Users\\Admin\\AppData\\Local\\Temp\\ipykernel_9472\\157778011.py:27: UserWarning: Using default sampling frequency set in configuration file.\n",
      "  X_train_tsfel = pd.concat([tsfel.time_series_features_extractor(cfg, pd.DataFrame(X_train[i])) for i in range(X_train.shape[0])], ignore_index=True)\n"
     ]
    },
    {
     "data": {
      "text/html": [
       "\n",
       "              <p>\n",
       "                  Progress: 100% Complete\n",
       "              <p/>\n",
       "              <progress\n",
       "                  value='67'\n",
       "                  max='67',\n",
       "                  style='width: 25%',\n",
       "              >\n",
       "                  67\n",
       "              </progress>\n",
       "\n",
       "    "
      ],
      "text/plain": [
       "<IPython.core.display.HTML object>"
      ]
     },
     "metadata": {},
     "output_type": "display_data"
    },
    {
     "name": "stderr",
     "output_type": "stream",
     "text": [
      "C:\\Users\\Admin\\AppData\\Local\\Temp\\ipykernel_9472\\157778011.py:27: UserWarning: Using default sampling frequency set in configuration file.\n",
      "  X_train_tsfel = pd.concat([tsfel.time_series_features_extractor(cfg, pd.DataFrame(X_train[i])) for i in range(X_train.shape[0])], ignore_index=True)\n"
     ]
    },
    {
     "data": {
      "text/html": [
       "\n",
       "              <p>\n",
       "                  Progress: 100% Complete\n",
       "              <p/>\n",
       "              <progress\n",
       "                  value='67'\n",
       "                  max='67',\n",
       "                  style='width: 25%',\n",
       "              >\n",
       "                  67\n",
       "              </progress>\n",
       "\n",
       "    "
      ],
      "text/plain": [
       "<IPython.core.display.HTML object>"
      ]
     },
     "metadata": {},
     "output_type": "display_data"
    },
    {
     "name": "stderr",
     "output_type": "stream",
     "text": [
      "C:\\Users\\Admin\\AppData\\Local\\Temp\\ipykernel_9472\\157778011.py:27: UserWarning: Using default sampling frequency set in configuration file.\n",
      "  X_train_tsfel = pd.concat([tsfel.time_series_features_extractor(cfg, pd.DataFrame(X_train[i])) for i in range(X_train.shape[0])], ignore_index=True)\n"
     ]
    },
    {
     "data": {
      "text/html": [
       "\n",
       "              <p>\n",
       "                  Progress: 100% Complete\n",
       "              <p/>\n",
       "              <progress\n",
       "                  value='67'\n",
       "                  max='67',\n",
       "                  style='width: 25%',\n",
       "              >\n",
       "                  67\n",
       "              </progress>\n",
       "\n",
       "    "
      ],
      "text/plain": [
       "<IPython.core.display.HTML object>"
      ]
     },
     "metadata": {},
     "output_type": "display_data"
    },
    {
     "name": "stderr",
     "output_type": "stream",
     "text": [
      "C:\\Users\\Admin\\AppData\\Local\\Temp\\ipykernel_9472\\157778011.py:27: UserWarning: Using default sampling frequency set in configuration file.\n",
      "  X_train_tsfel = pd.concat([tsfel.time_series_features_extractor(cfg, pd.DataFrame(X_train[i])) for i in range(X_train.shape[0])], ignore_index=True)\n"
     ]
    },
    {
     "data": {
      "text/html": [
       "\n",
       "              <p>\n",
       "                  Progress: 100% Complete\n",
       "              <p/>\n",
       "              <progress\n",
       "                  value='67'\n",
       "                  max='67',\n",
       "                  style='width: 25%',\n",
       "              >\n",
       "                  67\n",
       "              </progress>\n",
       "\n",
       "    "
      ],
      "text/plain": [
       "<IPython.core.display.HTML object>"
      ]
     },
     "metadata": {},
     "output_type": "display_data"
    },
    {
     "name": "stderr",
     "output_type": "stream",
     "text": [
      "C:\\Users\\Admin\\AppData\\Local\\Temp\\ipykernel_9472\\157778011.py:27: UserWarning: Using default sampling frequency set in configuration file.\n",
      "  X_train_tsfel = pd.concat([tsfel.time_series_features_extractor(cfg, pd.DataFrame(X_train[i])) for i in range(X_train.shape[0])], ignore_index=True)\n"
     ]
    },
    {
     "data": {
      "text/html": [
       "\n",
       "              <p>\n",
       "                  Progress: 100% Complete\n",
       "              <p/>\n",
       "              <progress\n",
       "                  value='67'\n",
       "                  max='67',\n",
       "                  style='width: 25%',\n",
       "              >\n",
       "                  67\n",
       "              </progress>\n",
       "\n",
       "    "
      ],
      "text/plain": [
       "<IPython.core.display.HTML object>"
      ]
     },
     "metadata": {},
     "output_type": "display_data"
    },
    {
     "name": "stderr",
     "output_type": "stream",
     "text": [
      "C:\\Users\\Admin\\AppData\\Local\\Temp\\ipykernel_9472\\157778011.py:27: UserWarning: Using default sampling frequency set in configuration file.\n",
      "  X_train_tsfel = pd.concat([tsfel.time_series_features_extractor(cfg, pd.DataFrame(X_train[i])) for i in range(X_train.shape[0])], ignore_index=True)\n"
     ]
    },
    {
     "data": {
      "text/html": [
       "\n",
       "              <p>\n",
       "                  Progress: 100% Complete\n",
       "              <p/>\n",
       "              <progress\n",
       "                  value='67'\n",
       "                  max='67',\n",
       "                  style='width: 25%',\n",
       "              >\n",
       "                  67\n",
       "              </progress>\n",
       "\n",
       "    "
      ],
      "text/plain": [
       "<IPython.core.display.HTML object>"
      ]
     },
     "metadata": {},
     "output_type": "display_data"
    },
    {
     "name": "stderr",
     "output_type": "stream",
     "text": [
      "C:\\Users\\Admin\\AppData\\Local\\Temp\\ipykernel_9472\\157778011.py:27: UserWarning: Using default sampling frequency set in configuration file.\n",
      "  X_train_tsfel = pd.concat([tsfel.time_series_features_extractor(cfg, pd.DataFrame(X_train[i])) for i in range(X_train.shape[0])], ignore_index=True)\n"
     ]
    },
    {
     "data": {
      "text/html": [
       "\n",
       "              <p>\n",
       "                  Progress: 100% Complete\n",
       "              <p/>\n",
       "              <progress\n",
       "                  value='67'\n",
       "                  max='67',\n",
       "                  style='width: 25%',\n",
       "              >\n",
       "                  67\n",
       "              </progress>\n",
       "\n",
       "    "
      ],
      "text/plain": [
       "<IPython.core.display.HTML object>"
      ]
     },
     "metadata": {},
     "output_type": "display_data"
    },
    {
     "name": "stderr",
     "output_type": "stream",
     "text": [
      "C:\\Users\\Admin\\AppData\\Local\\Temp\\ipykernel_9472\\157778011.py:27: UserWarning: Using default sampling frequency set in configuration file.\n",
      "  X_train_tsfel = pd.concat([tsfel.time_series_features_extractor(cfg, pd.DataFrame(X_train[i])) for i in range(X_train.shape[0])], ignore_index=True)\n"
     ]
    },
    {
     "data": {
      "text/html": [
       "\n",
       "              <p>\n",
       "                  Progress: 100% Complete\n",
       "              <p/>\n",
       "              <progress\n",
       "                  value='67'\n",
       "                  max='67',\n",
       "                  style='width: 25%',\n",
       "              >\n",
       "                  67\n",
       "              </progress>\n",
       "\n",
       "    "
      ],
      "text/plain": [
       "<IPython.core.display.HTML object>"
      ]
     },
     "metadata": {},
     "output_type": "display_data"
    },
    {
     "name": "stderr",
     "output_type": "stream",
     "text": [
      "C:\\Users\\Admin\\AppData\\Local\\Temp\\ipykernel_9472\\157778011.py:27: UserWarning: Using default sampling frequency set in configuration file.\n",
      "  X_train_tsfel = pd.concat([tsfel.time_series_features_extractor(cfg, pd.DataFrame(X_train[i])) for i in range(X_train.shape[0])], ignore_index=True)\n"
     ]
    },
    {
     "data": {
      "text/html": [
       "\n",
       "              <p>\n",
       "                  Progress: 100% Complete\n",
       "              <p/>\n",
       "              <progress\n",
       "                  value='67'\n",
       "                  max='67',\n",
       "                  style='width: 25%',\n",
       "              >\n",
       "                  67\n",
       "              </progress>\n",
       "\n",
       "    "
      ],
      "text/plain": [
       "<IPython.core.display.HTML object>"
      ]
     },
     "metadata": {},
     "output_type": "display_data"
    },
    {
     "name": "stderr",
     "output_type": "stream",
     "text": [
      "C:\\Users\\Admin\\AppData\\Local\\Temp\\ipykernel_9472\\157778011.py:27: UserWarning: Using default sampling frequency set in configuration file.\n",
      "  X_train_tsfel = pd.concat([tsfel.time_series_features_extractor(cfg, pd.DataFrame(X_train[i])) for i in range(X_train.shape[0])], ignore_index=True)\n"
     ]
    },
    {
     "data": {
      "text/html": [
       "\n",
       "              <p>\n",
       "                  Progress: 100% Complete\n",
       "              <p/>\n",
       "              <progress\n",
       "                  value='67'\n",
       "                  max='67',\n",
       "                  style='width: 25%',\n",
       "              >\n",
       "                  67\n",
       "              </progress>\n",
       "\n",
       "    "
      ],
      "text/plain": [
       "<IPython.core.display.HTML object>"
      ]
     },
     "metadata": {},
     "output_type": "display_data"
    },
    {
     "name": "stderr",
     "output_type": "stream",
     "text": [
      "C:\\Users\\Admin\\AppData\\Local\\Temp\\ipykernel_9472\\157778011.py:27: UserWarning: Using default sampling frequency set in configuration file.\n",
      "  X_train_tsfel = pd.concat([tsfel.time_series_features_extractor(cfg, pd.DataFrame(X_train[i])) for i in range(X_train.shape[0])], ignore_index=True)\n"
     ]
    },
    {
     "data": {
      "text/html": [
       "\n",
       "              <p>\n",
       "                  Progress: 100% Complete\n",
       "              <p/>\n",
       "              <progress\n",
       "                  value='67'\n",
       "                  max='67',\n",
       "                  style='width: 25%',\n",
       "              >\n",
       "                  67\n",
       "              </progress>\n",
       "\n",
       "    "
      ],
      "text/plain": [
       "<IPython.core.display.HTML object>"
      ]
     },
     "metadata": {},
     "output_type": "display_data"
    },
    {
     "name": "stderr",
     "output_type": "stream",
     "text": [
      "C:\\Users\\Admin\\AppData\\Local\\Temp\\ipykernel_9472\\157778011.py:27: UserWarning: Using default sampling frequency set in configuration file.\n",
      "  X_train_tsfel = pd.concat([tsfel.time_series_features_extractor(cfg, pd.DataFrame(X_train[i])) for i in range(X_train.shape[0])], ignore_index=True)\n"
     ]
    },
    {
     "data": {
      "text/html": [
       "\n",
       "              <p>\n",
       "                  Progress: 100% Complete\n",
       "              <p/>\n",
       "              <progress\n",
       "                  value='67'\n",
       "                  max='67',\n",
       "                  style='width: 25%',\n",
       "              >\n",
       "                  67\n",
       "              </progress>\n",
       "\n",
       "    "
      ],
      "text/plain": [
       "<IPython.core.display.HTML object>"
      ]
     },
     "metadata": {},
     "output_type": "display_data"
    },
    {
     "name": "stderr",
     "output_type": "stream",
     "text": [
      "C:\\Users\\Admin\\AppData\\Local\\Temp\\ipykernel_9472\\157778011.py:27: UserWarning: Using default sampling frequency set in configuration file.\n",
      "  X_train_tsfel = pd.concat([tsfel.time_series_features_extractor(cfg, pd.DataFrame(X_train[i])) for i in range(X_train.shape[0])], ignore_index=True)\n"
     ]
    },
    {
     "data": {
      "text/html": [
       "\n",
       "              <p>\n",
       "                  Progress: 100% Complete\n",
       "              <p/>\n",
       "              <progress\n",
       "                  value='67'\n",
       "                  max='67',\n",
       "                  style='width: 25%',\n",
       "              >\n",
       "                  67\n",
       "              </progress>\n",
       "\n",
       "    "
      ],
      "text/plain": [
       "<IPython.core.display.HTML object>"
      ]
     },
     "metadata": {},
     "output_type": "display_data"
    },
    {
     "name": "stderr",
     "output_type": "stream",
     "text": [
      "C:\\Users\\Admin\\AppData\\Local\\Temp\\ipykernel_9472\\157778011.py:27: UserWarning: Using default sampling frequency set in configuration file.\n",
      "  X_train_tsfel = pd.concat([tsfel.time_series_features_extractor(cfg, pd.DataFrame(X_train[i])) for i in range(X_train.shape[0])], ignore_index=True)\n"
     ]
    },
    {
     "data": {
      "text/html": [
       "\n",
       "              <p>\n",
       "                  Progress: 100% Complete\n",
       "              <p/>\n",
       "              <progress\n",
       "                  value='67'\n",
       "                  max='67',\n",
       "                  style='width: 25%',\n",
       "              >\n",
       "                  67\n",
       "              </progress>\n",
       "\n",
       "    "
      ],
      "text/plain": [
       "<IPython.core.display.HTML object>"
      ]
     },
     "metadata": {},
     "output_type": "display_data"
    },
    {
     "name": "stderr",
     "output_type": "stream",
     "text": [
      "C:\\Users\\Admin\\AppData\\Local\\Temp\\ipykernel_9472\\157778011.py:27: UserWarning: Using default sampling frequency set in configuration file.\n",
      "  X_train_tsfel = pd.concat([tsfel.time_series_features_extractor(cfg, pd.DataFrame(X_train[i])) for i in range(X_train.shape[0])], ignore_index=True)\n"
     ]
    },
    {
     "data": {
      "text/html": [
       "\n",
       "              <p>\n",
       "                  Progress: 100% Complete\n",
       "              <p/>\n",
       "              <progress\n",
       "                  value='67'\n",
       "                  max='67',\n",
       "                  style='width: 25%',\n",
       "              >\n",
       "                  67\n",
       "              </progress>\n",
       "\n",
       "    "
      ],
      "text/plain": [
       "<IPython.core.display.HTML object>"
      ]
     },
     "metadata": {},
     "output_type": "display_data"
    },
    {
     "name": "stderr",
     "output_type": "stream",
     "text": [
      "C:\\Users\\Admin\\AppData\\Local\\Temp\\ipykernel_9472\\157778011.py:27: UserWarning: Using default sampling frequency set in configuration file.\n",
      "  X_train_tsfel = pd.concat([tsfel.time_series_features_extractor(cfg, pd.DataFrame(X_train[i])) for i in range(X_train.shape[0])], ignore_index=True)\n"
     ]
    },
    {
     "data": {
      "text/html": [
       "\n",
       "              <p>\n",
       "                  Progress: 100% Complete\n",
       "              <p/>\n",
       "              <progress\n",
       "                  value='67'\n",
       "                  max='67',\n",
       "                  style='width: 25%',\n",
       "              >\n",
       "                  67\n",
       "              </progress>\n",
       "\n",
       "    "
      ],
      "text/plain": [
       "<IPython.core.display.HTML object>"
      ]
     },
     "metadata": {},
     "output_type": "display_data"
    },
    {
     "name": "stderr",
     "output_type": "stream",
     "text": [
      "C:\\Users\\Admin\\AppData\\Local\\Temp\\ipykernel_9472\\157778011.py:27: UserWarning: Using default sampling frequency set in configuration file.\n",
      "  X_train_tsfel = pd.concat([tsfel.time_series_features_extractor(cfg, pd.DataFrame(X_train[i])) for i in range(X_train.shape[0])], ignore_index=True)\n"
     ]
    },
    {
     "data": {
      "text/html": [
       "\n",
       "              <p>\n",
       "                  Progress: 100% Complete\n",
       "              <p/>\n",
       "              <progress\n",
       "                  value='67'\n",
       "                  max='67',\n",
       "                  style='width: 25%',\n",
       "              >\n",
       "                  67\n",
       "              </progress>\n",
       "\n",
       "    "
      ],
      "text/plain": [
       "<IPython.core.display.HTML object>"
      ]
     },
     "metadata": {},
     "output_type": "display_data"
    },
    {
     "name": "stderr",
     "output_type": "stream",
     "text": [
      "C:\\Users\\Admin\\AppData\\Local\\Temp\\ipykernel_9472\\157778011.py:27: UserWarning: Using default sampling frequency set in configuration file.\n",
      "  X_train_tsfel = pd.concat([tsfel.time_series_features_extractor(cfg, pd.DataFrame(X_train[i])) for i in range(X_train.shape[0])], ignore_index=True)\n"
     ]
    },
    {
     "data": {
      "text/html": [
       "\n",
       "              <p>\n",
       "                  Progress: 100% Complete\n",
       "              <p/>\n",
       "              <progress\n",
       "                  value='67'\n",
       "                  max='67',\n",
       "                  style='width: 25%',\n",
       "              >\n",
       "                  67\n",
       "              </progress>\n",
       "\n",
       "    "
      ],
      "text/plain": [
       "<IPython.core.display.HTML object>"
      ]
     },
     "metadata": {},
     "output_type": "display_data"
    },
    {
     "name": "stderr",
     "output_type": "stream",
     "text": [
      "C:\\Users\\Admin\\AppData\\Local\\Temp\\ipykernel_9472\\157778011.py:27: UserWarning: Using default sampling frequency set in configuration file.\n",
      "  X_train_tsfel = pd.concat([tsfel.time_series_features_extractor(cfg, pd.DataFrame(X_train[i])) for i in range(X_train.shape[0])], ignore_index=True)\n"
     ]
    },
    {
     "data": {
      "text/html": [
       "\n",
       "              <p>\n",
       "                  Progress: 100% Complete\n",
       "              <p/>\n",
       "              <progress\n",
       "                  value='67'\n",
       "                  max='67',\n",
       "                  style='width: 25%',\n",
       "              >\n",
       "                  67\n",
       "              </progress>\n",
       "\n",
       "    "
      ],
      "text/plain": [
       "<IPython.core.display.HTML object>"
      ]
     },
     "metadata": {},
     "output_type": "display_data"
    },
    {
     "name": "stderr",
     "output_type": "stream",
     "text": [
      "C:\\Users\\Admin\\AppData\\Local\\Temp\\ipykernel_9472\\157778011.py:27: UserWarning: Using default sampling frequency set in configuration file.\n",
      "  X_train_tsfel = pd.concat([tsfel.time_series_features_extractor(cfg, pd.DataFrame(X_train[i])) for i in range(X_train.shape[0])], ignore_index=True)\n"
     ]
    },
    {
     "data": {
      "text/html": [
       "\n",
       "              <p>\n",
       "                  Progress: 100% Complete\n",
       "              <p/>\n",
       "              <progress\n",
       "                  value='67'\n",
       "                  max='67',\n",
       "                  style='width: 25%',\n",
       "              >\n",
       "                  67\n",
       "              </progress>\n",
       "\n",
       "    "
      ],
      "text/plain": [
       "<IPython.core.display.HTML object>"
      ]
     },
     "metadata": {},
     "output_type": "display_data"
    },
    {
     "name": "stderr",
     "output_type": "stream",
     "text": [
      "C:\\Users\\Admin\\AppData\\Local\\Temp\\ipykernel_9472\\157778011.py:27: UserWarning: Using default sampling frequency set in configuration file.\n",
      "  X_train_tsfel = pd.concat([tsfel.time_series_features_extractor(cfg, pd.DataFrame(X_train[i])) for i in range(X_train.shape[0])], ignore_index=True)\n"
     ]
    },
    {
     "data": {
      "text/html": [
       "\n",
       "              <p>\n",
       "                  Progress: 100% Complete\n",
       "              <p/>\n",
       "              <progress\n",
       "                  value='67'\n",
       "                  max='67',\n",
       "                  style='width: 25%',\n",
       "              >\n",
       "                  67\n",
       "              </progress>\n",
       "\n",
       "    "
      ],
      "text/plain": [
       "<IPython.core.display.HTML object>"
      ]
     },
     "metadata": {},
     "output_type": "display_data"
    },
    {
     "name": "stderr",
     "output_type": "stream",
     "text": [
      "C:\\Users\\Admin\\AppData\\Local\\Temp\\ipykernel_9472\\157778011.py:27: UserWarning: Using default sampling frequency set in configuration file.\n",
      "  X_train_tsfel = pd.concat([tsfel.time_series_features_extractor(cfg, pd.DataFrame(X_train[i])) for i in range(X_train.shape[0])], ignore_index=True)\n"
     ]
    },
    {
     "data": {
      "text/html": [
       "\n",
       "              <p>\n",
       "                  Progress: 100% Complete\n",
       "              <p/>\n",
       "              <progress\n",
       "                  value='67'\n",
       "                  max='67',\n",
       "                  style='width: 25%',\n",
       "              >\n",
       "                  67\n",
       "              </progress>\n",
       "\n",
       "    "
      ],
      "text/plain": [
       "<IPython.core.display.HTML object>"
      ]
     },
     "metadata": {},
     "output_type": "display_data"
    },
    {
     "name": "stderr",
     "output_type": "stream",
     "text": [
      "C:\\Users\\Admin\\AppData\\Local\\Temp\\ipykernel_9472\\157778011.py:27: UserWarning: Using default sampling frequency set in configuration file.\n",
      "  X_train_tsfel = pd.concat([tsfel.time_series_features_extractor(cfg, pd.DataFrame(X_train[i])) for i in range(X_train.shape[0])], ignore_index=True)\n"
     ]
    },
    {
     "data": {
      "text/html": [
       "\n",
       "              <p>\n",
       "                  Progress: 100% Complete\n",
       "              <p/>\n",
       "              <progress\n",
       "                  value='67'\n",
       "                  max='67',\n",
       "                  style='width: 25%',\n",
       "              >\n",
       "                  67\n",
       "              </progress>\n",
       "\n",
       "    "
      ],
      "text/plain": [
       "<IPython.core.display.HTML object>"
      ]
     },
     "metadata": {},
     "output_type": "display_data"
    },
    {
     "name": "stderr",
     "output_type": "stream",
     "text": [
      "C:\\Users\\Admin\\AppData\\Local\\Temp\\ipykernel_9472\\157778011.py:27: UserWarning: Using default sampling frequency set in configuration file.\n",
      "  X_train_tsfel = pd.concat([tsfel.time_series_features_extractor(cfg, pd.DataFrame(X_train[i])) for i in range(X_train.shape[0])], ignore_index=True)\n"
     ]
    },
    {
     "data": {
      "text/html": [
       "\n",
       "              <p>\n",
       "                  Progress: 100% Complete\n",
       "              <p/>\n",
       "              <progress\n",
       "                  value='67'\n",
       "                  max='67',\n",
       "                  style='width: 25%',\n",
       "              >\n",
       "                  67\n",
       "              </progress>\n",
       "\n",
       "    "
      ],
      "text/plain": [
       "<IPython.core.display.HTML object>"
      ]
     },
     "metadata": {},
     "output_type": "display_data"
    },
    {
     "name": "stderr",
     "output_type": "stream",
     "text": [
      "C:\\Users\\Admin\\AppData\\Local\\Temp\\ipykernel_9472\\157778011.py:27: UserWarning: Using default sampling frequency set in configuration file.\n",
      "  X_train_tsfel = pd.concat([tsfel.time_series_features_extractor(cfg, pd.DataFrame(X_train[i])) for i in range(X_train.shape[0])], ignore_index=True)\n"
     ]
    },
    {
     "data": {
      "text/html": [
       "\n",
       "              <p>\n",
       "                  Progress: 100% Complete\n",
       "              <p/>\n",
       "              <progress\n",
       "                  value='67'\n",
       "                  max='67',\n",
       "                  style='width: 25%',\n",
       "              >\n",
       "                  67\n",
       "              </progress>\n",
       "\n",
       "    "
      ],
      "text/plain": [
       "<IPython.core.display.HTML object>"
      ]
     },
     "metadata": {},
     "output_type": "display_data"
    },
    {
     "name": "stderr",
     "output_type": "stream",
     "text": [
      "C:\\Users\\Admin\\AppData\\Local\\Temp\\ipykernel_9472\\157778011.py:27: UserWarning: Using default sampling frequency set in configuration file.\n",
      "  X_train_tsfel = pd.concat([tsfel.time_series_features_extractor(cfg, pd.DataFrame(X_train[i])) for i in range(X_train.shape[0])], ignore_index=True)\n"
     ]
    },
    {
     "data": {
      "text/html": [
       "\n",
       "              <p>\n",
       "                  Progress: 100% Complete\n",
       "              <p/>\n",
       "              <progress\n",
       "                  value='67'\n",
       "                  max='67',\n",
       "                  style='width: 25%',\n",
       "              >\n",
       "                  67\n",
       "              </progress>\n",
       "\n",
       "    "
      ],
      "text/plain": [
       "<IPython.core.display.HTML object>"
      ]
     },
     "metadata": {},
     "output_type": "display_data"
    },
    {
     "name": "stderr",
     "output_type": "stream",
     "text": [
      "C:\\Users\\Admin\\AppData\\Local\\Temp\\ipykernel_9472\\157778011.py:27: UserWarning: Using default sampling frequency set in configuration file.\n",
      "  X_train_tsfel = pd.concat([tsfel.time_series_features_extractor(cfg, pd.DataFrame(X_train[i])) for i in range(X_train.shape[0])], ignore_index=True)\n"
     ]
    },
    {
     "data": {
      "text/html": [
       "\n",
       "              <p>\n",
       "                  Progress: 100% Complete\n",
       "              <p/>\n",
       "              <progress\n",
       "                  value='67'\n",
       "                  max='67',\n",
       "                  style='width: 25%',\n",
       "              >\n",
       "                  67\n",
       "              </progress>\n",
       "\n",
       "    "
      ],
      "text/plain": [
       "<IPython.core.display.HTML object>"
      ]
     },
     "metadata": {},
     "output_type": "display_data"
    },
    {
     "name": "stderr",
     "output_type": "stream",
     "text": [
      "C:\\Users\\Admin\\AppData\\Local\\Temp\\ipykernel_9472\\157778011.py:27: UserWarning: Using default sampling frequency set in configuration file.\n",
      "  X_train_tsfel = pd.concat([tsfel.time_series_features_extractor(cfg, pd.DataFrame(X_train[i])) for i in range(X_train.shape[0])], ignore_index=True)\n"
     ]
    },
    {
     "data": {
      "text/html": [
       "\n",
       "              <p>\n",
       "                  Progress: 100% Complete\n",
       "              <p/>\n",
       "              <progress\n",
       "                  value='67'\n",
       "                  max='67',\n",
       "                  style='width: 25%',\n",
       "              >\n",
       "                  67\n",
       "              </progress>\n",
       "\n",
       "    "
      ],
      "text/plain": [
       "<IPython.core.display.HTML object>"
      ]
     },
     "metadata": {},
     "output_type": "display_data"
    },
    {
     "name": "stderr",
     "output_type": "stream",
     "text": [
      "C:\\Users\\Admin\\AppData\\Local\\Temp\\ipykernel_9472\\157778011.py:27: UserWarning: Using default sampling frequency set in configuration file.\n",
      "  X_train_tsfel = pd.concat([tsfel.time_series_features_extractor(cfg, pd.DataFrame(X_train[i])) for i in range(X_train.shape[0])], ignore_index=True)\n"
     ]
    },
    {
     "data": {
      "text/html": [
       "\n",
       "              <p>\n",
       "                  Progress: 100% Complete\n",
       "              <p/>\n",
       "              <progress\n",
       "                  value='67'\n",
       "                  max='67',\n",
       "                  style='width: 25%',\n",
       "              >\n",
       "                  67\n",
       "              </progress>\n",
       "\n",
       "    "
      ],
      "text/plain": [
       "<IPython.core.display.HTML object>"
      ]
     },
     "metadata": {},
     "output_type": "display_data"
    },
    {
     "name": "stderr",
     "output_type": "stream",
     "text": [
      "C:\\Users\\Admin\\AppData\\Local\\Temp\\ipykernel_9472\\157778011.py:27: UserWarning: Using default sampling frequency set in configuration file.\n",
      "  X_train_tsfel = pd.concat([tsfel.time_series_features_extractor(cfg, pd.DataFrame(X_train[i])) for i in range(X_train.shape[0])], ignore_index=True)\n"
     ]
    },
    {
     "data": {
      "text/html": [
       "\n",
       "              <p>\n",
       "                  Progress: 100% Complete\n",
       "              <p/>\n",
       "              <progress\n",
       "                  value='67'\n",
       "                  max='67',\n",
       "                  style='width: 25%',\n",
       "              >\n",
       "                  67\n",
       "              </progress>\n",
       "\n",
       "    "
      ],
      "text/plain": [
       "<IPython.core.display.HTML object>"
      ]
     },
     "metadata": {},
     "output_type": "display_data"
    },
    {
     "name": "stderr",
     "output_type": "stream",
     "text": [
      "C:\\Users\\Admin\\AppData\\Local\\Temp\\ipykernel_9472\\157778011.py:27: UserWarning: Using default sampling frequency set in configuration file.\n",
      "  X_train_tsfel = pd.concat([tsfel.time_series_features_extractor(cfg, pd.DataFrame(X_train[i])) for i in range(X_train.shape[0])], ignore_index=True)\n"
     ]
    },
    {
     "data": {
      "text/html": [
       "\n",
       "              <p>\n",
       "                  Progress: 100% Complete\n",
       "              <p/>\n",
       "              <progress\n",
       "                  value='67'\n",
       "                  max='67',\n",
       "                  style='width: 25%',\n",
       "              >\n",
       "                  67\n",
       "              </progress>\n",
       "\n",
       "    "
      ],
      "text/plain": [
       "<IPython.core.display.HTML object>"
      ]
     },
     "metadata": {},
     "output_type": "display_data"
    },
    {
     "name": "stderr",
     "output_type": "stream",
     "text": [
      "C:\\Users\\Admin\\AppData\\Local\\Temp\\ipykernel_9472\\157778011.py:27: UserWarning: Using default sampling frequency set in configuration file.\n",
      "  X_train_tsfel = pd.concat([tsfel.time_series_features_extractor(cfg, pd.DataFrame(X_train[i])) for i in range(X_train.shape[0])], ignore_index=True)\n"
     ]
    },
    {
     "data": {
      "text/html": [
       "\n",
       "              <p>\n",
       "                  Progress: 100% Complete\n",
       "              <p/>\n",
       "              <progress\n",
       "                  value='67'\n",
       "                  max='67',\n",
       "                  style='width: 25%',\n",
       "              >\n",
       "                  67\n",
       "              </progress>\n",
       "\n",
       "    "
      ],
      "text/plain": [
       "<IPython.core.display.HTML object>"
      ]
     },
     "metadata": {},
     "output_type": "display_data"
    },
    {
     "name": "stderr",
     "output_type": "stream",
     "text": [
      "C:\\Users\\Admin\\AppData\\Local\\Temp\\ipykernel_9472\\157778011.py:27: UserWarning: Using default sampling frequency set in configuration file.\n",
      "  X_train_tsfel = pd.concat([tsfel.time_series_features_extractor(cfg, pd.DataFrame(X_train[i])) for i in range(X_train.shape[0])], ignore_index=True)\n"
     ]
    },
    {
     "data": {
      "text/html": [
       "\n",
       "              <p>\n",
       "                  Progress: 100% Complete\n",
       "              <p/>\n",
       "              <progress\n",
       "                  value='67'\n",
       "                  max='67',\n",
       "                  style='width: 25%',\n",
       "              >\n",
       "                  67\n",
       "              </progress>\n",
       "\n",
       "    "
      ],
      "text/plain": [
       "<IPython.core.display.HTML object>"
      ]
     },
     "metadata": {},
     "output_type": "display_data"
    },
    {
     "name": "stderr",
     "output_type": "stream",
     "text": [
      "C:\\Users\\Admin\\AppData\\Local\\Temp\\ipykernel_9472\\157778011.py:27: UserWarning: Using default sampling frequency set in configuration file.\n",
      "  X_train_tsfel = pd.concat([tsfel.time_series_features_extractor(cfg, pd.DataFrame(X_train[i])) for i in range(X_train.shape[0])], ignore_index=True)\n"
     ]
    },
    {
     "data": {
      "text/html": [
       "\n",
       "              <p>\n",
       "                  Progress: 100% Complete\n",
       "              <p/>\n",
       "              <progress\n",
       "                  value='67'\n",
       "                  max='67',\n",
       "                  style='width: 25%',\n",
       "              >\n",
       "                  67\n",
       "              </progress>\n",
       "\n",
       "    "
      ],
      "text/plain": [
       "<IPython.core.display.HTML object>"
      ]
     },
     "metadata": {},
     "output_type": "display_data"
    },
    {
     "name": "stderr",
     "output_type": "stream",
     "text": [
      "C:\\Users\\Admin\\AppData\\Local\\Temp\\ipykernel_9472\\157778011.py:27: UserWarning: Using default sampling frequency set in configuration file.\n",
      "  X_train_tsfel = pd.concat([tsfel.time_series_features_extractor(cfg, pd.DataFrame(X_train[i])) for i in range(X_train.shape[0])], ignore_index=True)\n"
     ]
    },
    {
     "data": {
      "text/html": [
       "\n",
       "              <p>\n",
       "                  Progress: 100% Complete\n",
       "              <p/>\n",
       "              <progress\n",
       "                  value='67'\n",
       "                  max='67',\n",
       "                  style='width: 25%',\n",
       "              >\n",
       "                  67\n",
       "              </progress>\n",
       "\n",
       "    "
      ],
      "text/plain": [
       "<IPython.core.display.HTML object>"
      ]
     },
     "metadata": {},
     "output_type": "display_data"
    },
    {
     "name": "stderr",
     "output_type": "stream",
     "text": [
      "C:\\Users\\Admin\\AppData\\Local\\Temp\\ipykernel_9472\\157778011.py:27: UserWarning: Using default sampling frequency set in configuration file.\n",
      "  X_train_tsfel = pd.concat([tsfel.time_series_features_extractor(cfg, pd.DataFrame(X_train[i])) for i in range(X_train.shape[0])], ignore_index=True)\n"
     ]
    },
    {
     "data": {
      "text/html": [
       "\n",
       "              <p>\n",
       "                  Progress: 100% Complete\n",
       "              <p/>\n",
       "              <progress\n",
       "                  value='67'\n",
       "                  max='67',\n",
       "                  style='width: 25%',\n",
       "              >\n",
       "                  67\n",
       "              </progress>\n",
       "\n",
       "    "
      ],
      "text/plain": [
       "<IPython.core.display.HTML object>"
      ]
     },
     "metadata": {},
     "output_type": "display_data"
    },
    {
     "name": "stderr",
     "output_type": "stream",
     "text": [
      "C:\\Users\\Admin\\AppData\\Local\\Temp\\ipykernel_9472\\157778011.py:27: UserWarning: Using default sampling frequency set in configuration file.\n",
      "  X_train_tsfel = pd.concat([tsfel.time_series_features_extractor(cfg, pd.DataFrame(X_train[i])) for i in range(X_train.shape[0])], ignore_index=True)\n"
     ]
    },
    {
     "data": {
      "text/html": [
       "\n",
       "              <p>\n",
       "                  Progress: 100% Complete\n",
       "              <p/>\n",
       "              <progress\n",
       "                  value='67'\n",
       "                  max='67',\n",
       "                  style='width: 25%',\n",
       "              >\n",
       "                  67\n",
       "              </progress>\n",
       "\n",
       "    "
      ],
      "text/plain": [
       "<IPython.core.display.HTML object>"
      ]
     },
     "metadata": {},
     "output_type": "display_data"
    },
    {
     "name": "stderr",
     "output_type": "stream",
     "text": [
      "C:\\Users\\Admin\\AppData\\Local\\Temp\\ipykernel_9472\\157778011.py:27: UserWarning: Using default sampling frequency set in configuration file.\n",
      "  X_train_tsfel = pd.concat([tsfel.time_series_features_extractor(cfg, pd.DataFrame(X_train[i])) for i in range(X_train.shape[0])], ignore_index=True)\n"
     ]
    },
    {
     "data": {
      "text/html": [
       "\n",
       "              <p>\n",
       "                  Progress: 100% Complete\n",
       "              <p/>\n",
       "              <progress\n",
       "                  value='67'\n",
       "                  max='67',\n",
       "                  style='width: 25%',\n",
       "              >\n",
       "                  67\n",
       "              </progress>\n",
       "\n",
       "    "
      ],
      "text/plain": [
       "<IPython.core.display.HTML object>"
      ]
     },
     "metadata": {},
     "output_type": "display_data"
    },
    {
     "name": "stderr",
     "output_type": "stream",
     "text": [
      "C:\\Users\\Admin\\AppData\\Local\\Temp\\ipykernel_9472\\157778011.py:27: UserWarning: Using default sampling frequency set in configuration file.\n",
      "  X_train_tsfel = pd.concat([tsfel.time_series_features_extractor(cfg, pd.DataFrame(X_train[i])) for i in range(X_train.shape[0])], ignore_index=True)\n"
     ]
    },
    {
     "data": {
      "text/html": [
       "\n",
       "              <p>\n",
       "                  Progress: 100% Complete\n",
       "              <p/>\n",
       "              <progress\n",
       "                  value='67'\n",
       "                  max='67',\n",
       "                  style='width: 25%',\n",
       "              >\n",
       "                  67\n",
       "              </progress>\n",
       "\n",
       "    "
      ],
      "text/plain": [
       "<IPython.core.display.HTML object>"
      ]
     },
     "metadata": {},
     "output_type": "display_data"
    },
    {
     "name": "stderr",
     "output_type": "stream",
     "text": [
      "C:\\Users\\Admin\\AppData\\Local\\Temp\\ipykernel_9472\\157778011.py:27: UserWarning: Using default sampling frequency set in configuration file.\n",
      "  X_train_tsfel = pd.concat([tsfel.time_series_features_extractor(cfg, pd.DataFrame(X_train[i])) for i in range(X_train.shape[0])], ignore_index=True)\n"
     ]
    },
    {
     "data": {
      "text/html": [
       "\n",
       "              <p>\n",
       "                  Progress: 100% Complete\n",
       "              <p/>\n",
       "              <progress\n",
       "                  value='67'\n",
       "                  max='67',\n",
       "                  style='width: 25%',\n",
       "              >\n",
       "                  67\n",
       "              </progress>\n",
       "\n",
       "    "
      ],
      "text/plain": [
       "<IPython.core.display.HTML object>"
      ]
     },
     "metadata": {},
     "output_type": "display_data"
    },
    {
     "name": "stderr",
     "output_type": "stream",
     "text": [
      "C:\\Users\\Admin\\AppData\\Local\\Temp\\ipykernel_9472\\157778011.py:27: UserWarning: Using default sampling frequency set in configuration file.\n",
      "  X_train_tsfel = pd.concat([tsfel.time_series_features_extractor(cfg, pd.DataFrame(X_train[i])) for i in range(X_train.shape[0])], ignore_index=True)\n"
     ]
    },
    {
     "data": {
      "text/html": [
       "\n",
       "              <p>\n",
       "                  Progress: 100% Complete\n",
       "              <p/>\n",
       "              <progress\n",
       "                  value='67'\n",
       "                  max='67',\n",
       "                  style='width: 25%',\n",
       "              >\n",
       "                  67\n",
       "              </progress>\n",
       "\n",
       "    "
      ],
      "text/plain": [
       "<IPython.core.display.HTML object>"
      ]
     },
     "metadata": {},
     "output_type": "display_data"
    },
    {
     "name": "stderr",
     "output_type": "stream",
     "text": [
      "C:\\Users\\Admin\\AppData\\Local\\Temp\\ipykernel_9472\\157778011.py:27: UserWarning: Using default sampling frequency set in configuration file.\n",
      "  X_train_tsfel = pd.concat([tsfel.time_series_features_extractor(cfg, pd.DataFrame(X_train[i])) for i in range(X_train.shape[0])], ignore_index=True)\n"
     ]
    },
    {
     "data": {
      "text/html": [
       "\n",
       "              <p>\n",
       "                  Progress: 100% Complete\n",
       "              <p/>\n",
       "              <progress\n",
       "                  value='67'\n",
       "                  max='67',\n",
       "                  style='width: 25%',\n",
       "              >\n",
       "                  67\n",
       "              </progress>\n",
       "\n",
       "    "
      ],
      "text/plain": [
       "<IPython.core.display.HTML object>"
      ]
     },
     "metadata": {},
     "output_type": "display_data"
    },
    {
     "name": "stderr",
     "output_type": "stream",
     "text": [
      "C:\\Users\\Admin\\AppData\\Local\\Temp\\ipykernel_9472\\157778011.py:27: UserWarning: Using default sampling frequency set in configuration file.\n",
      "  X_train_tsfel = pd.concat([tsfel.time_series_features_extractor(cfg, pd.DataFrame(X_train[i])) for i in range(X_train.shape[0])], ignore_index=True)\n"
     ]
    },
    {
     "data": {
      "text/html": [
       "\n",
       "              <p>\n",
       "                  Progress: 100% Complete\n",
       "              <p/>\n",
       "              <progress\n",
       "                  value='67'\n",
       "                  max='67',\n",
       "                  style='width: 25%',\n",
       "              >\n",
       "                  67\n",
       "              </progress>\n",
       "\n",
       "    "
      ],
      "text/plain": [
       "<IPython.core.display.HTML object>"
      ]
     },
     "metadata": {},
     "output_type": "display_data"
    },
    {
     "name": "stderr",
     "output_type": "stream",
     "text": [
      "C:\\Users\\Admin\\AppData\\Local\\Temp\\ipykernel_9472\\157778011.py:27: UserWarning: Using default sampling frequency set in configuration file.\n",
      "  X_train_tsfel = pd.concat([tsfel.time_series_features_extractor(cfg, pd.DataFrame(X_train[i])) for i in range(X_train.shape[0])], ignore_index=True)\n"
     ]
    },
    {
     "data": {
      "text/html": [
       "\n",
       "              <p>\n",
       "                  Progress: 100% Complete\n",
       "              <p/>\n",
       "              <progress\n",
       "                  value='67'\n",
       "                  max='67',\n",
       "                  style='width: 25%',\n",
       "              >\n",
       "                  67\n",
       "              </progress>\n",
       "\n",
       "    "
      ],
      "text/plain": [
       "<IPython.core.display.HTML object>"
      ]
     },
     "metadata": {},
     "output_type": "display_data"
    },
    {
     "name": "stderr",
     "output_type": "stream",
     "text": [
      "C:\\Users\\Admin\\AppData\\Local\\Temp\\ipykernel_9472\\157778011.py:27: UserWarning: Using default sampling frequency set in configuration file.\n",
      "  X_train_tsfel = pd.concat([tsfel.time_series_features_extractor(cfg, pd.DataFrame(X_train[i])) for i in range(X_train.shape[0])], ignore_index=True)\n"
     ]
    },
    {
     "data": {
      "text/html": [
       "\n",
       "              <p>\n",
       "                  Progress: 100% Complete\n",
       "              <p/>\n",
       "              <progress\n",
       "                  value='67'\n",
       "                  max='67',\n",
       "                  style='width: 25%',\n",
       "              >\n",
       "                  67\n",
       "              </progress>\n",
       "\n",
       "    "
      ],
      "text/plain": [
       "<IPython.core.display.HTML object>"
      ]
     },
     "metadata": {},
     "output_type": "display_data"
    },
    {
     "name": "stderr",
     "output_type": "stream",
     "text": [
      "C:\\Users\\Admin\\AppData\\Local\\Temp\\ipykernel_9472\\157778011.py:27: UserWarning: Using default sampling frequency set in configuration file.\n",
      "  X_train_tsfel = pd.concat([tsfel.time_series_features_extractor(cfg, pd.DataFrame(X_train[i])) for i in range(X_train.shape[0])], ignore_index=True)\n"
     ]
    },
    {
     "data": {
      "text/html": [
       "\n",
       "              <p>\n",
       "                  Progress: 100% Complete\n",
       "              <p/>\n",
       "              <progress\n",
       "                  value='67'\n",
       "                  max='67',\n",
       "                  style='width: 25%',\n",
       "              >\n",
       "                  67\n",
       "              </progress>\n",
       "\n",
       "    "
      ],
      "text/plain": [
       "<IPython.core.display.HTML object>"
      ]
     },
     "metadata": {},
     "output_type": "display_data"
    },
    {
     "name": "stderr",
     "output_type": "stream",
     "text": [
      "C:\\Users\\Admin\\AppData\\Local\\Temp\\ipykernel_9472\\157778011.py:27: UserWarning: Using default sampling frequency set in configuration file.\n",
      "  X_train_tsfel = pd.concat([tsfel.time_series_features_extractor(cfg, pd.DataFrame(X_train[i])) for i in range(X_train.shape[0])], ignore_index=True)\n"
     ]
    },
    {
     "data": {
      "text/html": [
       "\n",
       "              <p>\n",
       "                  Progress: 100% Complete\n",
       "              <p/>\n",
       "              <progress\n",
       "                  value='67'\n",
       "                  max='67',\n",
       "                  style='width: 25%',\n",
       "              >\n",
       "                  67\n",
       "              </progress>\n",
       "\n",
       "    "
      ],
      "text/plain": [
       "<IPython.core.display.HTML object>"
      ]
     },
     "metadata": {},
     "output_type": "display_data"
    },
    {
     "name": "stderr",
     "output_type": "stream",
     "text": [
      "C:\\Users\\Admin\\AppData\\Local\\Temp\\ipykernel_9472\\157778011.py:27: UserWarning: Using default sampling frequency set in configuration file.\n",
      "  X_train_tsfel = pd.concat([tsfel.time_series_features_extractor(cfg, pd.DataFrame(X_train[i])) for i in range(X_train.shape[0])], ignore_index=True)\n"
     ]
    },
    {
     "data": {
      "text/html": [
       "\n",
       "              <p>\n",
       "                  Progress: 100% Complete\n",
       "              <p/>\n",
       "              <progress\n",
       "                  value='67'\n",
       "                  max='67',\n",
       "                  style='width: 25%',\n",
       "              >\n",
       "                  67\n",
       "              </progress>\n",
       "\n",
       "    "
      ],
      "text/plain": [
       "<IPython.core.display.HTML object>"
      ]
     },
     "metadata": {},
     "output_type": "display_data"
    },
    {
     "name": "stderr",
     "output_type": "stream",
     "text": [
      "C:\\Users\\Admin\\AppData\\Local\\Temp\\ipykernel_9472\\157778011.py:27: UserWarning: Using default sampling frequency set in configuration file.\n",
      "  X_train_tsfel = pd.concat([tsfel.time_series_features_extractor(cfg, pd.DataFrame(X_train[i])) for i in range(X_train.shape[0])], ignore_index=True)\n"
     ]
    },
    {
     "data": {
      "text/html": [
       "\n",
       "              <p>\n",
       "                  Progress: 100% Complete\n",
       "              <p/>\n",
       "              <progress\n",
       "                  value='67'\n",
       "                  max='67',\n",
       "                  style='width: 25%',\n",
       "              >\n",
       "                  67\n",
       "              </progress>\n",
       "\n",
       "    "
      ],
      "text/plain": [
       "<IPython.core.display.HTML object>"
      ]
     },
     "metadata": {},
     "output_type": "display_data"
    },
    {
     "name": "stderr",
     "output_type": "stream",
     "text": [
      "C:\\Users\\Admin\\AppData\\Local\\Temp\\ipykernel_9472\\157778011.py:27: UserWarning: Using default sampling frequency set in configuration file.\n",
      "  X_train_tsfel = pd.concat([tsfel.time_series_features_extractor(cfg, pd.DataFrame(X_train[i])) for i in range(X_train.shape[0])], ignore_index=True)\n"
     ]
    },
    {
     "data": {
      "text/html": [
       "\n",
       "              <p>\n",
       "                  Progress: 100% Complete\n",
       "              <p/>\n",
       "              <progress\n",
       "                  value='67'\n",
       "                  max='67',\n",
       "                  style='width: 25%',\n",
       "              >\n",
       "                  67\n",
       "              </progress>\n",
       "\n",
       "    "
      ],
      "text/plain": [
       "<IPython.core.display.HTML object>"
      ]
     },
     "metadata": {},
     "output_type": "display_data"
    },
    {
     "name": "stderr",
     "output_type": "stream",
     "text": [
      "C:\\Users\\Admin\\AppData\\Local\\Temp\\ipykernel_9472\\157778011.py:27: UserWarning: Using default sampling frequency set in configuration file.\n",
      "  X_train_tsfel = pd.concat([tsfel.time_series_features_extractor(cfg, pd.DataFrame(X_train[i])) for i in range(X_train.shape[0])], ignore_index=True)\n"
     ]
    },
    {
     "data": {
      "text/html": [
       "\n",
       "              <p>\n",
       "                  Progress: 100% Complete\n",
       "              <p/>\n",
       "              <progress\n",
       "                  value='67'\n",
       "                  max='67',\n",
       "                  style='width: 25%',\n",
       "              >\n",
       "                  67\n",
       "              </progress>\n",
       "\n",
       "    "
      ],
      "text/plain": [
       "<IPython.core.display.HTML object>"
      ]
     },
     "metadata": {},
     "output_type": "display_data"
    },
    {
     "name": "stderr",
     "output_type": "stream",
     "text": [
      "C:\\Users\\Admin\\AppData\\Local\\Temp\\ipykernel_9472\\157778011.py:27: UserWarning: Using default sampling frequency set in configuration file.\n",
      "  X_train_tsfel = pd.concat([tsfel.time_series_features_extractor(cfg, pd.DataFrame(X_train[i])) for i in range(X_train.shape[0])], ignore_index=True)\n"
     ]
    },
    {
     "data": {
      "text/html": [
       "\n",
       "              <p>\n",
       "                  Progress: 100% Complete\n",
       "              <p/>\n",
       "              <progress\n",
       "                  value='67'\n",
       "                  max='67',\n",
       "                  style='width: 25%',\n",
       "              >\n",
       "                  67\n",
       "              </progress>\n",
       "\n",
       "    "
      ],
      "text/plain": [
       "<IPython.core.display.HTML object>"
      ]
     },
     "metadata": {},
     "output_type": "display_data"
    },
    {
     "name": "stderr",
     "output_type": "stream",
     "text": [
      "C:\\Users\\Admin\\AppData\\Local\\Temp\\ipykernel_9472\\157778011.py:27: UserWarning: Using default sampling frequency set in configuration file.\n",
      "  X_train_tsfel = pd.concat([tsfel.time_series_features_extractor(cfg, pd.DataFrame(X_train[i])) for i in range(X_train.shape[0])], ignore_index=True)\n"
     ]
    },
    {
     "data": {
      "text/html": [
       "\n",
       "              <p>\n",
       "                  Progress: 100% Complete\n",
       "              <p/>\n",
       "              <progress\n",
       "                  value='67'\n",
       "                  max='67',\n",
       "                  style='width: 25%',\n",
       "              >\n",
       "                  67\n",
       "              </progress>\n",
       "\n",
       "    "
      ],
      "text/plain": [
       "<IPython.core.display.HTML object>"
      ]
     },
     "metadata": {},
     "output_type": "display_data"
    },
    {
     "name": "stderr",
     "output_type": "stream",
     "text": [
      "C:\\Users\\Admin\\AppData\\Local\\Temp\\ipykernel_9472\\157778011.py:27: UserWarning: Using default sampling frequency set in configuration file.\n",
      "  X_train_tsfel = pd.concat([tsfel.time_series_features_extractor(cfg, pd.DataFrame(X_train[i])) for i in range(X_train.shape[0])], ignore_index=True)\n"
     ]
    },
    {
     "data": {
      "text/html": [
       "\n",
       "              <p>\n",
       "                  Progress: 100% Complete\n",
       "              <p/>\n",
       "              <progress\n",
       "                  value='67'\n",
       "                  max='67',\n",
       "                  style='width: 25%',\n",
       "              >\n",
       "                  67\n",
       "              </progress>\n",
       "\n",
       "    "
      ],
      "text/plain": [
       "<IPython.core.display.HTML object>"
      ]
     },
     "metadata": {},
     "output_type": "display_data"
    },
    {
     "name": "stderr",
     "output_type": "stream",
     "text": [
      "C:\\Users\\Admin\\AppData\\Local\\Temp\\ipykernel_9472\\157778011.py:27: UserWarning: Using default sampling frequency set in configuration file.\n",
      "  X_train_tsfel = pd.concat([tsfel.time_series_features_extractor(cfg, pd.DataFrame(X_train[i])) for i in range(X_train.shape[0])], ignore_index=True)\n"
     ]
    },
    {
     "data": {
      "text/html": [
       "\n",
       "              <p>\n",
       "                  Progress: 100% Complete\n",
       "              <p/>\n",
       "              <progress\n",
       "                  value='67'\n",
       "                  max='67',\n",
       "                  style='width: 25%',\n",
       "              >\n",
       "                  67\n",
       "              </progress>\n",
       "\n",
       "    "
      ],
      "text/plain": [
       "<IPython.core.display.HTML object>"
      ]
     },
     "metadata": {},
     "output_type": "display_data"
    },
    {
     "name": "stderr",
     "output_type": "stream",
     "text": [
      "C:\\Users\\Admin\\AppData\\Local\\Temp\\ipykernel_9472\\157778011.py:27: UserWarning: Using default sampling frequency set in configuration file.\n",
      "  X_train_tsfel = pd.concat([tsfel.time_series_features_extractor(cfg, pd.DataFrame(X_train[i])) for i in range(X_train.shape[0])], ignore_index=True)\n"
     ]
    },
    {
     "data": {
      "text/html": [
       "\n",
       "              <p>\n",
       "                  Progress: 100% Complete\n",
       "              <p/>\n",
       "              <progress\n",
       "                  value='67'\n",
       "                  max='67',\n",
       "                  style='width: 25%',\n",
       "              >\n",
       "                  67\n",
       "              </progress>\n",
       "\n",
       "    "
      ],
      "text/plain": [
       "<IPython.core.display.HTML object>"
      ]
     },
     "metadata": {},
     "output_type": "display_data"
    },
    {
     "name": "stderr",
     "output_type": "stream",
     "text": [
      "C:\\Users\\Admin\\AppData\\Local\\Temp\\ipykernel_9472\\157778011.py:27: UserWarning: Using default sampling frequency set in configuration file.\n",
      "  X_train_tsfel = pd.concat([tsfel.time_series_features_extractor(cfg, pd.DataFrame(X_train[i])) for i in range(X_train.shape[0])], ignore_index=True)\n"
     ]
    },
    {
     "data": {
      "text/html": [
       "\n",
       "              <p>\n",
       "                  Progress: 100% Complete\n",
       "              <p/>\n",
       "              <progress\n",
       "                  value='67'\n",
       "                  max='67',\n",
       "                  style='width: 25%',\n",
       "              >\n",
       "                  67\n",
       "              </progress>\n",
       "\n",
       "    "
      ],
      "text/plain": [
       "<IPython.core.display.HTML object>"
      ]
     },
     "metadata": {},
     "output_type": "display_data"
    },
    {
     "name": "stderr",
     "output_type": "stream",
     "text": [
      "C:\\Users\\Admin\\AppData\\Local\\Temp\\ipykernel_9472\\157778011.py:27: UserWarning: Using default sampling frequency set in configuration file.\n",
      "  X_train_tsfel = pd.concat([tsfel.time_series_features_extractor(cfg, pd.DataFrame(X_train[i])) for i in range(X_train.shape[0])], ignore_index=True)\n"
     ]
    },
    {
     "data": {
      "text/html": [
       "\n",
       "              <p>\n",
       "                  Progress: 100% Complete\n",
       "              <p/>\n",
       "              <progress\n",
       "                  value='67'\n",
       "                  max='67',\n",
       "                  style='width: 25%',\n",
       "              >\n",
       "                  67\n",
       "              </progress>\n",
       "\n",
       "    "
      ],
      "text/plain": [
       "<IPython.core.display.HTML object>"
      ]
     },
     "metadata": {},
     "output_type": "display_data"
    },
    {
     "name": "stderr",
     "output_type": "stream",
     "text": [
      "C:\\Users\\Admin\\AppData\\Local\\Temp\\ipykernel_9472\\157778011.py:27: UserWarning: Using default sampling frequency set in configuration file.\n",
      "  X_train_tsfel = pd.concat([tsfel.time_series_features_extractor(cfg, pd.DataFrame(X_train[i])) for i in range(X_train.shape[0])], ignore_index=True)\n"
     ]
    },
    {
     "data": {
      "text/html": [
       "\n",
       "              <p>\n",
       "                  Progress: 100% Complete\n",
       "              <p/>\n",
       "              <progress\n",
       "                  value='67'\n",
       "                  max='67',\n",
       "                  style='width: 25%',\n",
       "              >\n",
       "                  67\n",
       "              </progress>\n",
       "\n",
       "    "
      ],
      "text/plain": [
       "<IPython.core.display.HTML object>"
      ]
     },
     "metadata": {},
     "output_type": "display_data"
    },
    {
     "name": "stderr",
     "output_type": "stream",
     "text": [
      "C:\\Users\\Admin\\AppData\\Local\\Temp\\ipykernel_9472\\157778011.py:27: UserWarning: Using default sampling frequency set in configuration file.\n",
      "  X_train_tsfel = pd.concat([tsfel.time_series_features_extractor(cfg, pd.DataFrame(X_train[i])) for i in range(X_train.shape[0])], ignore_index=True)\n"
     ]
    },
    {
     "data": {
      "text/html": [
       "\n",
       "              <p>\n",
       "                  Progress: 100% Complete\n",
       "              <p/>\n",
       "              <progress\n",
       "                  value='67'\n",
       "                  max='67',\n",
       "                  style='width: 25%',\n",
       "              >\n",
       "                  67\n",
       "              </progress>\n",
       "\n",
       "    "
      ],
      "text/plain": [
       "<IPython.core.display.HTML object>"
      ]
     },
     "metadata": {},
     "output_type": "display_data"
    },
    {
     "name": "stderr",
     "output_type": "stream",
     "text": [
      "C:\\Users\\Admin\\AppData\\Local\\Temp\\ipykernel_9472\\157778011.py:27: UserWarning: Using default sampling frequency set in configuration file.\n",
      "  X_train_tsfel = pd.concat([tsfel.time_series_features_extractor(cfg, pd.DataFrame(X_train[i])) for i in range(X_train.shape[0])], ignore_index=True)\n"
     ]
    },
    {
     "data": {
      "text/html": [
       "\n",
       "              <p>\n",
       "                  Progress: 100% Complete\n",
       "              <p/>\n",
       "              <progress\n",
       "                  value='67'\n",
       "                  max='67',\n",
       "                  style='width: 25%',\n",
       "              >\n",
       "                  67\n",
       "              </progress>\n",
       "\n",
       "    "
      ],
      "text/plain": [
       "<IPython.core.display.HTML object>"
      ]
     },
     "metadata": {},
     "output_type": "display_data"
    },
    {
     "name": "stderr",
     "output_type": "stream",
     "text": [
      "C:\\Users\\Admin\\AppData\\Local\\Temp\\ipykernel_9472\\157778011.py:27: UserWarning: Using default sampling frequency set in configuration file.\n",
      "  X_train_tsfel = pd.concat([tsfel.time_series_features_extractor(cfg, pd.DataFrame(X_train[i])) for i in range(X_train.shape[0])], ignore_index=True)\n"
     ]
    },
    {
     "data": {
      "text/html": [
       "\n",
       "              <p>\n",
       "                  Progress: 100% Complete\n",
       "              <p/>\n",
       "              <progress\n",
       "                  value='67'\n",
       "                  max='67',\n",
       "                  style='width: 25%',\n",
       "              >\n",
       "                  67\n",
       "              </progress>\n",
       "\n",
       "    "
      ],
      "text/plain": [
       "<IPython.core.display.HTML object>"
      ]
     },
     "metadata": {},
     "output_type": "display_data"
    },
    {
     "name": "stderr",
     "output_type": "stream",
     "text": [
      "C:\\Users\\Admin\\AppData\\Local\\Temp\\ipykernel_9472\\157778011.py:27: UserWarning: Using default sampling frequency set in configuration file.\n",
      "  X_train_tsfel = pd.concat([tsfel.time_series_features_extractor(cfg, pd.DataFrame(X_train[i])) for i in range(X_train.shape[0])], ignore_index=True)\n"
     ]
    },
    {
     "data": {
      "text/html": [
       "\n",
       "              <p>\n",
       "                  Progress: 100% Complete\n",
       "              <p/>\n",
       "              <progress\n",
       "                  value='67'\n",
       "                  max='67',\n",
       "                  style='width: 25%',\n",
       "              >\n",
       "                  67\n",
       "              </progress>\n",
       "\n",
       "    "
      ],
      "text/plain": [
       "<IPython.core.display.HTML object>"
      ]
     },
     "metadata": {},
     "output_type": "display_data"
    },
    {
     "name": "stderr",
     "output_type": "stream",
     "text": [
      "C:\\Users\\Admin\\AppData\\Local\\Temp\\ipykernel_9472\\157778011.py:27: UserWarning: Using default sampling frequency set in configuration file.\n",
      "  X_train_tsfel = pd.concat([tsfel.time_series_features_extractor(cfg, pd.DataFrame(X_train[i])) for i in range(X_train.shape[0])], ignore_index=True)\n"
     ]
    },
    {
     "data": {
      "text/html": [
       "\n",
       "              <p>\n",
       "                  Progress: 100% Complete\n",
       "              <p/>\n",
       "              <progress\n",
       "                  value='67'\n",
       "                  max='67',\n",
       "                  style='width: 25%',\n",
       "              >\n",
       "                  67\n",
       "              </progress>\n",
       "\n",
       "    "
      ],
      "text/plain": [
       "<IPython.core.display.HTML object>"
      ]
     },
     "metadata": {},
     "output_type": "display_data"
    },
    {
     "name": "stderr",
     "output_type": "stream",
     "text": [
      "C:\\Users\\Admin\\AppData\\Local\\Temp\\ipykernel_9472\\157778011.py:27: UserWarning: Using default sampling frequency set in configuration file.\n",
      "  X_train_tsfel = pd.concat([tsfel.time_series_features_extractor(cfg, pd.DataFrame(X_train[i])) for i in range(X_train.shape[0])], ignore_index=True)\n"
     ]
    },
    {
     "data": {
      "text/html": [
       "\n",
       "              <p>\n",
       "                  Progress: 100% Complete\n",
       "              <p/>\n",
       "              <progress\n",
       "                  value='67'\n",
       "                  max='67',\n",
       "                  style='width: 25%',\n",
       "              >\n",
       "                  67\n",
       "              </progress>\n",
       "\n",
       "    "
      ],
      "text/plain": [
       "<IPython.core.display.HTML object>"
      ]
     },
     "metadata": {},
     "output_type": "display_data"
    },
    {
     "name": "stderr",
     "output_type": "stream",
     "text": [
      "C:\\Users\\Admin\\AppData\\Local\\Temp\\ipykernel_9472\\157778011.py:27: UserWarning: Using default sampling frequency set in configuration file.\n",
      "  X_train_tsfel = pd.concat([tsfel.time_series_features_extractor(cfg, pd.DataFrame(X_train[i])) for i in range(X_train.shape[0])], ignore_index=True)\n"
     ]
    },
    {
     "data": {
      "text/html": [
       "\n",
       "              <p>\n",
       "                  Progress: 100% Complete\n",
       "              <p/>\n",
       "              <progress\n",
       "                  value='67'\n",
       "                  max='67',\n",
       "                  style='width: 25%',\n",
       "              >\n",
       "                  67\n",
       "              </progress>\n",
       "\n",
       "    "
      ],
      "text/plain": [
       "<IPython.core.display.HTML object>"
      ]
     },
     "metadata": {},
     "output_type": "display_data"
    },
    {
     "name": "stderr",
     "output_type": "stream",
     "text": [
      "C:\\Users\\Admin\\AppData\\Local\\Temp\\ipykernel_9472\\157778011.py:27: UserWarning: Using default sampling frequency set in configuration file.\n",
      "  X_train_tsfel = pd.concat([tsfel.time_series_features_extractor(cfg, pd.DataFrame(X_train[i])) for i in range(X_train.shape[0])], ignore_index=True)\n"
     ]
    },
    {
     "data": {
      "text/html": [
       "\n",
       "              <p>\n",
       "                  Progress: 100% Complete\n",
       "              <p/>\n",
       "              <progress\n",
       "                  value='67'\n",
       "                  max='67',\n",
       "                  style='width: 25%',\n",
       "              >\n",
       "                  67\n",
       "              </progress>\n",
       "\n",
       "    "
      ],
      "text/plain": [
       "<IPython.core.display.HTML object>"
      ]
     },
     "metadata": {},
     "output_type": "display_data"
    },
    {
     "name": "stderr",
     "output_type": "stream",
     "text": [
      "C:\\Users\\Admin\\AppData\\Local\\Temp\\ipykernel_9472\\157778011.py:27: UserWarning: Using default sampling frequency set in configuration file.\n",
      "  X_train_tsfel = pd.concat([tsfel.time_series_features_extractor(cfg, pd.DataFrame(X_train[i])) for i in range(X_train.shape[0])], ignore_index=True)\n"
     ]
    },
    {
     "data": {
      "text/html": [
       "\n",
       "              <p>\n",
       "                  Progress: 100% Complete\n",
       "              <p/>\n",
       "              <progress\n",
       "                  value='67'\n",
       "                  max='67',\n",
       "                  style='width: 25%',\n",
       "              >\n",
       "                  67\n",
       "              </progress>\n",
       "\n",
       "    "
      ],
      "text/plain": [
       "<IPython.core.display.HTML object>"
      ]
     },
     "metadata": {},
     "output_type": "display_data"
    },
    {
     "name": "stderr",
     "output_type": "stream",
     "text": [
      "C:\\Users\\Admin\\AppData\\Local\\Temp\\ipykernel_9472\\157778011.py:27: UserWarning: Using default sampling frequency set in configuration file.\n",
      "  X_train_tsfel = pd.concat([tsfel.time_series_features_extractor(cfg, pd.DataFrame(X_train[i])) for i in range(X_train.shape[0])], ignore_index=True)\n"
     ]
    },
    {
     "data": {
      "text/html": [
       "\n",
       "              <p>\n",
       "                  Progress: 100% Complete\n",
       "              <p/>\n",
       "              <progress\n",
       "                  value='67'\n",
       "                  max='67',\n",
       "                  style='width: 25%',\n",
       "              >\n",
       "                  67\n",
       "              </progress>\n",
       "\n",
       "    "
      ],
      "text/plain": [
       "<IPython.core.display.HTML object>"
      ]
     },
     "metadata": {},
     "output_type": "display_data"
    },
    {
     "name": "stderr",
     "output_type": "stream",
     "text": [
      "C:\\Users\\Admin\\AppData\\Local\\Temp\\ipykernel_9472\\157778011.py:27: UserWarning: Using default sampling frequency set in configuration file.\n",
      "  X_train_tsfel = pd.concat([tsfel.time_series_features_extractor(cfg, pd.DataFrame(X_train[i])) for i in range(X_train.shape[0])], ignore_index=True)\n"
     ]
    },
    {
     "data": {
      "text/html": [
       "\n",
       "              <p>\n",
       "                  Progress: 100% Complete\n",
       "              <p/>\n",
       "              <progress\n",
       "                  value='67'\n",
       "                  max='67',\n",
       "                  style='width: 25%',\n",
       "              >\n",
       "                  67\n",
       "              </progress>\n",
       "\n",
       "    "
      ],
      "text/plain": [
       "<IPython.core.display.HTML object>"
      ]
     },
     "metadata": {},
     "output_type": "display_data"
    },
    {
     "name": "stderr",
     "output_type": "stream",
     "text": [
      "C:\\Users\\Admin\\AppData\\Local\\Temp\\ipykernel_9472\\157778011.py:27: UserWarning: Using default sampling frequency set in configuration file.\n",
      "  X_train_tsfel = pd.concat([tsfel.time_series_features_extractor(cfg, pd.DataFrame(X_train[i])) for i in range(X_train.shape[0])], ignore_index=True)\n"
     ]
    },
    {
     "data": {
      "text/html": [
       "\n",
       "              <p>\n",
       "                  Progress: 100% Complete\n",
       "              <p/>\n",
       "              <progress\n",
       "                  value='67'\n",
       "                  max='67',\n",
       "                  style='width: 25%',\n",
       "              >\n",
       "                  67\n",
       "              </progress>\n",
       "\n",
       "    "
      ],
      "text/plain": [
       "<IPython.core.display.HTML object>"
      ]
     },
     "metadata": {},
     "output_type": "display_data"
    },
    {
     "name": "stderr",
     "output_type": "stream",
     "text": [
      "C:\\Users\\Admin\\AppData\\Local\\Temp\\ipykernel_9472\\157778011.py:27: UserWarning: Using default sampling frequency set in configuration file.\n",
      "  X_train_tsfel = pd.concat([tsfel.time_series_features_extractor(cfg, pd.DataFrame(X_train[i])) for i in range(X_train.shape[0])], ignore_index=True)\n"
     ]
    },
    {
     "data": {
      "text/html": [
       "\n",
       "              <p>\n",
       "                  Progress: 100% Complete\n",
       "              <p/>\n",
       "              <progress\n",
       "                  value='67'\n",
       "                  max='67',\n",
       "                  style='width: 25%',\n",
       "              >\n",
       "                  67\n",
       "              </progress>\n",
       "\n",
       "    "
      ],
      "text/plain": [
       "<IPython.core.display.HTML object>"
      ]
     },
     "metadata": {},
     "output_type": "display_data"
    },
    {
     "name": "stderr",
     "output_type": "stream",
     "text": [
      "C:\\Users\\Admin\\AppData\\Local\\Temp\\ipykernel_9472\\157778011.py:27: UserWarning: Using default sampling frequency set in configuration file.\n",
      "  X_train_tsfel = pd.concat([tsfel.time_series_features_extractor(cfg, pd.DataFrame(X_train[i])) for i in range(X_train.shape[0])], ignore_index=True)\n"
     ]
    },
    {
     "data": {
      "text/html": [
       "\n",
       "              <p>\n",
       "                  Progress: 100% Complete\n",
       "              <p/>\n",
       "              <progress\n",
       "                  value='67'\n",
       "                  max='67',\n",
       "                  style='width: 25%',\n",
       "              >\n",
       "                  67\n",
       "              </progress>\n",
       "\n",
       "    "
      ],
      "text/plain": [
       "<IPython.core.display.HTML object>"
      ]
     },
     "metadata": {},
     "output_type": "display_data"
    },
    {
     "name": "stderr",
     "output_type": "stream",
     "text": [
      "C:\\Users\\Admin\\AppData\\Local\\Temp\\ipykernel_9472\\157778011.py:27: UserWarning: Using default sampling frequency set in configuration file.\n",
      "  X_train_tsfel = pd.concat([tsfel.time_series_features_extractor(cfg, pd.DataFrame(X_train[i])) for i in range(X_train.shape[0])], ignore_index=True)\n"
     ]
    },
    {
     "data": {
      "text/html": [
       "\n",
       "              <p>\n",
       "                  Progress: 100% Complete\n",
       "              <p/>\n",
       "              <progress\n",
       "                  value='67'\n",
       "                  max='67',\n",
       "                  style='width: 25%',\n",
       "              >\n",
       "                  67\n",
       "              </progress>\n",
       "\n",
       "    "
      ],
      "text/plain": [
       "<IPython.core.display.HTML object>"
      ]
     },
     "metadata": {},
     "output_type": "display_data"
    },
    {
     "name": "stderr",
     "output_type": "stream",
     "text": [
      "C:\\Users\\Admin\\AppData\\Local\\Temp\\ipykernel_9472\\157778011.py:28: UserWarning: Using default sampling frequency set in configuration file.\n",
      "  X_test_tsfel = pd.concat([tsfel.time_series_features_extractor(cfg, pd.DataFrame(X_test[i])) for i in range(X_test.shape[0])], ignore_index=True)\n"
     ]
    },
    {
     "data": {
      "text/html": [
       "\n",
       "              <p>\n",
       "                  Progress: 100% Complete\n",
       "              <p/>\n",
       "              <progress\n",
       "                  value='67'\n",
       "                  max='67',\n",
       "                  style='width: 25%',\n",
       "              >\n",
       "                  67\n",
       "              </progress>\n",
       "\n",
       "    "
      ],
      "text/plain": [
       "<IPython.core.display.HTML object>"
      ]
     },
     "metadata": {},
     "output_type": "display_data"
    },
    {
     "name": "stderr",
     "output_type": "stream",
     "text": [
      "C:\\Users\\Admin\\AppData\\Local\\Temp\\ipykernel_9472\\157778011.py:28: UserWarning: Using default sampling frequency set in configuration file.\n",
      "  X_test_tsfel = pd.concat([tsfel.time_series_features_extractor(cfg, pd.DataFrame(X_test[i])) for i in range(X_test.shape[0])], ignore_index=True)\n"
     ]
    },
    {
     "data": {
      "text/html": [
       "\n",
       "              <p>\n",
       "                  Progress: 100% Complete\n",
       "              <p/>\n",
       "              <progress\n",
       "                  value='67'\n",
       "                  max='67',\n",
       "                  style='width: 25%',\n",
       "              >\n",
       "                  67\n",
       "              </progress>\n",
       "\n",
       "    "
      ],
      "text/plain": [
       "<IPython.core.display.HTML object>"
      ]
     },
     "metadata": {},
     "output_type": "display_data"
    },
    {
     "name": "stderr",
     "output_type": "stream",
     "text": [
      "C:\\Users\\Admin\\AppData\\Local\\Temp\\ipykernel_9472\\157778011.py:28: UserWarning: Using default sampling frequency set in configuration file.\n",
      "  X_test_tsfel = pd.concat([tsfel.time_series_features_extractor(cfg, pd.DataFrame(X_test[i])) for i in range(X_test.shape[0])], ignore_index=True)\n"
     ]
    },
    {
     "data": {
      "text/html": [
       "\n",
       "              <p>\n",
       "                  Progress: 100% Complete\n",
       "              <p/>\n",
       "              <progress\n",
       "                  value='67'\n",
       "                  max='67',\n",
       "                  style='width: 25%',\n",
       "              >\n",
       "                  67\n",
       "              </progress>\n",
       "\n",
       "    "
      ],
      "text/plain": [
       "<IPython.core.display.HTML object>"
      ]
     },
     "metadata": {},
     "output_type": "display_data"
    },
    {
     "name": "stderr",
     "output_type": "stream",
     "text": [
      "C:\\Users\\Admin\\AppData\\Local\\Temp\\ipykernel_9472\\157778011.py:28: UserWarning: Using default sampling frequency set in configuration file.\n",
      "  X_test_tsfel = pd.concat([tsfel.time_series_features_extractor(cfg, pd.DataFrame(X_test[i])) for i in range(X_test.shape[0])], ignore_index=True)\n"
     ]
    },
    {
     "data": {
      "text/html": [
       "\n",
       "              <p>\n",
       "                  Progress: 100% Complete\n",
       "              <p/>\n",
       "              <progress\n",
       "                  value='67'\n",
       "                  max='67',\n",
       "                  style='width: 25%',\n",
       "              >\n",
       "                  67\n",
       "              </progress>\n",
       "\n",
       "    "
      ],
      "text/plain": [
       "<IPython.core.display.HTML object>"
      ]
     },
     "metadata": {},
     "output_type": "display_data"
    },
    {
     "name": "stderr",
     "output_type": "stream",
     "text": [
      "C:\\Users\\Admin\\AppData\\Local\\Temp\\ipykernel_9472\\157778011.py:28: UserWarning: Using default sampling frequency set in configuration file.\n",
      "  X_test_tsfel = pd.concat([tsfel.time_series_features_extractor(cfg, pd.DataFrame(X_test[i])) for i in range(X_test.shape[0])], ignore_index=True)\n"
     ]
    },
    {
     "data": {
      "text/html": [
       "\n",
       "              <p>\n",
       "                  Progress: 100% Complete\n",
       "              <p/>\n",
       "              <progress\n",
       "                  value='67'\n",
       "                  max='67',\n",
       "                  style='width: 25%',\n",
       "              >\n",
       "                  67\n",
       "              </progress>\n",
       "\n",
       "    "
      ],
      "text/plain": [
       "<IPython.core.display.HTML object>"
      ]
     },
     "metadata": {},
     "output_type": "display_data"
    },
    {
     "name": "stderr",
     "output_type": "stream",
     "text": [
      "C:\\Users\\Admin\\AppData\\Local\\Temp\\ipykernel_9472\\157778011.py:28: UserWarning: Using default sampling frequency set in configuration file.\n",
      "  X_test_tsfel = pd.concat([tsfel.time_series_features_extractor(cfg, pd.DataFrame(X_test[i])) for i in range(X_test.shape[0])], ignore_index=True)\n"
     ]
    },
    {
     "data": {
      "text/html": [
       "\n",
       "              <p>\n",
       "                  Progress: 100% Complete\n",
       "              <p/>\n",
       "              <progress\n",
       "                  value='67'\n",
       "                  max='67',\n",
       "                  style='width: 25%',\n",
       "              >\n",
       "                  67\n",
       "              </progress>\n",
       "\n",
       "    "
      ],
      "text/plain": [
       "<IPython.core.display.HTML object>"
      ]
     },
     "metadata": {},
     "output_type": "display_data"
    },
    {
     "name": "stderr",
     "output_type": "stream",
     "text": [
      "C:\\Users\\Admin\\AppData\\Local\\Temp\\ipykernel_9472\\157778011.py:28: UserWarning: Using default sampling frequency set in configuration file.\n",
      "  X_test_tsfel = pd.concat([tsfel.time_series_features_extractor(cfg, pd.DataFrame(X_test[i])) for i in range(X_test.shape[0])], ignore_index=True)\n"
     ]
    },
    {
     "data": {
      "text/html": [
       "\n",
       "              <p>\n",
       "                  Progress: 100% Complete\n",
       "              <p/>\n",
       "              <progress\n",
       "                  value='67'\n",
       "                  max='67',\n",
       "                  style='width: 25%',\n",
       "              >\n",
       "                  67\n",
       "              </progress>\n",
       "\n",
       "    "
      ],
      "text/plain": [
       "<IPython.core.display.HTML object>"
      ]
     },
     "metadata": {},
     "output_type": "display_data"
    },
    {
     "name": "stderr",
     "output_type": "stream",
     "text": [
      "C:\\Users\\Admin\\AppData\\Local\\Temp\\ipykernel_9472\\157778011.py:28: UserWarning: Using default sampling frequency set in configuration file.\n",
      "  X_test_tsfel = pd.concat([tsfel.time_series_features_extractor(cfg, pd.DataFrame(X_test[i])) for i in range(X_test.shape[0])], ignore_index=True)\n"
     ]
    },
    {
     "data": {
      "text/html": [
       "\n",
       "              <p>\n",
       "                  Progress: 100% Complete\n",
       "              <p/>\n",
       "              <progress\n",
       "                  value='67'\n",
       "                  max='67',\n",
       "                  style='width: 25%',\n",
       "              >\n",
       "                  67\n",
       "              </progress>\n",
       "\n",
       "    "
      ],
      "text/plain": [
       "<IPython.core.display.HTML object>"
      ]
     },
     "metadata": {},
     "output_type": "display_data"
    },
    {
     "name": "stderr",
     "output_type": "stream",
     "text": [
      "C:\\Users\\Admin\\AppData\\Local\\Temp\\ipykernel_9472\\157778011.py:28: UserWarning: Using default sampling frequency set in configuration file.\n",
      "  X_test_tsfel = pd.concat([tsfel.time_series_features_extractor(cfg, pd.DataFrame(X_test[i])) for i in range(X_test.shape[0])], ignore_index=True)\n"
     ]
    },
    {
     "data": {
      "text/html": [
       "\n",
       "              <p>\n",
       "                  Progress: 100% Complete\n",
       "              <p/>\n",
       "              <progress\n",
       "                  value='67'\n",
       "                  max='67',\n",
       "                  style='width: 25%',\n",
       "              >\n",
       "                  67\n",
       "              </progress>\n",
       "\n",
       "    "
      ],
      "text/plain": [
       "<IPython.core.display.HTML object>"
      ]
     },
     "metadata": {},
     "output_type": "display_data"
    },
    {
     "name": "stderr",
     "output_type": "stream",
     "text": [
      "C:\\Users\\Admin\\AppData\\Local\\Temp\\ipykernel_9472\\157778011.py:28: UserWarning: Using default sampling frequency set in configuration file.\n",
      "  X_test_tsfel = pd.concat([tsfel.time_series_features_extractor(cfg, pd.DataFrame(X_test[i])) for i in range(X_test.shape[0])], ignore_index=True)\n"
     ]
    },
    {
     "data": {
      "text/html": [
       "\n",
       "              <p>\n",
       "                  Progress: 100% Complete\n",
       "              <p/>\n",
       "              <progress\n",
       "                  value='67'\n",
       "                  max='67',\n",
       "                  style='width: 25%',\n",
       "              >\n",
       "                  67\n",
       "              </progress>\n",
       "\n",
       "    "
      ],
      "text/plain": [
       "<IPython.core.display.HTML object>"
      ]
     },
     "metadata": {},
     "output_type": "display_data"
    },
    {
     "name": "stderr",
     "output_type": "stream",
     "text": [
      "C:\\Users\\Admin\\AppData\\Local\\Temp\\ipykernel_9472\\157778011.py:28: UserWarning: Using default sampling frequency set in configuration file.\n",
      "  X_test_tsfel = pd.concat([tsfel.time_series_features_extractor(cfg, pd.DataFrame(X_test[i])) for i in range(X_test.shape[0])], ignore_index=True)\n"
     ]
    },
    {
     "data": {
      "text/html": [
       "\n",
       "              <p>\n",
       "                  Progress: 100% Complete\n",
       "              <p/>\n",
       "              <progress\n",
       "                  value='67'\n",
       "                  max='67',\n",
       "                  style='width: 25%',\n",
       "              >\n",
       "                  67\n",
       "              </progress>\n",
       "\n",
       "    "
      ],
      "text/plain": [
       "<IPython.core.display.HTML object>"
      ]
     },
     "metadata": {},
     "output_type": "display_data"
    },
    {
     "name": "stderr",
     "output_type": "stream",
     "text": [
      "C:\\Users\\Admin\\AppData\\Local\\Temp\\ipykernel_9472\\157778011.py:28: UserWarning: Using default sampling frequency set in configuration file.\n",
      "  X_test_tsfel = pd.concat([tsfel.time_series_features_extractor(cfg, pd.DataFrame(X_test[i])) for i in range(X_test.shape[0])], ignore_index=True)\n"
     ]
    },
    {
     "data": {
      "text/html": [
       "\n",
       "              <p>\n",
       "                  Progress: 100% Complete\n",
       "              <p/>\n",
       "              <progress\n",
       "                  value='67'\n",
       "                  max='67',\n",
       "                  style='width: 25%',\n",
       "              >\n",
       "                  67\n",
       "              </progress>\n",
       "\n",
       "    "
      ],
      "text/plain": [
       "<IPython.core.display.HTML object>"
      ]
     },
     "metadata": {},
     "output_type": "display_data"
    },
    {
     "name": "stderr",
     "output_type": "stream",
     "text": [
      "C:\\Users\\Admin\\AppData\\Local\\Temp\\ipykernel_9472\\157778011.py:28: UserWarning: Using default sampling frequency set in configuration file.\n",
      "  X_test_tsfel = pd.concat([tsfel.time_series_features_extractor(cfg, pd.DataFrame(X_test[i])) for i in range(X_test.shape[0])], ignore_index=True)\n"
     ]
    },
    {
     "data": {
      "text/html": [
       "\n",
       "              <p>\n",
       "                  Progress: 100% Complete\n",
       "              <p/>\n",
       "              <progress\n",
       "                  value='67'\n",
       "                  max='67',\n",
       "                  style='width: 25%',\n",
       "              >\n",
       "                  67\n",
       "              </progress>\n",
       "\n",
       "    "
      ],
      "text/plain": [
       "<IPython.core.display.HTML object>"
      ]
     },
     "metadata": {},
     "output_type": "display_data"
    },
    {
     "name": "stderr",
     "output_type": "stream",
     "text": [
      "C:\\Users\\Admin\\AppData\\Local\\Temp\\ipykernel_9472\\157778011.py:28: UserWarning: Using default sampling frequency set in configuration file.\n",
      "  X_test_tsfel = pd.concat([tsfel.time_series_features_extractor(cfg, pd.DataFrame(X_test[i])) for i in range(X_test.shape[0])], ignore_index=True)\n"
     ]
    },
    {
     "data": {
      "text/html": [
       "\n",
       "              <p>\n",
       "                  Progress: 100% Complete\n",
       "              <p/>\n",
       "              <progress\n",
       "                  value='67'\n",
       "                  max='67',\n",
       "                  style='width: 25%',\n",
       "              >\n",
       "                  67\n",
       "              </progress>\n",
       "\n",
       "    "
      ],
      "text/plain": [
       "<IPython.core.display.HTML object>"
      ]
     },
     "metadata": {},
     "output_type": "display_data"
    },
    {
     "name": "stderr",
     "output_type": "stream",
     "text": [
      "C:\\Users\\Admin\\AppData\\Local\\Temp\\ipykernel_9472\\157778011.py:28: UserWarning: Using default sampling frequency set in configuration file.\n",
      "  X_test_tsfel = pd.concat([tsfel.time_series_features_extractor(cfg, pd.DataFrame(X_test[i])) for i in range(X_test.shape[0])], ignore_index=True)\n"
     ]
    },
    {
     "data": {
      "text/html": [
       "\n",
       "              <p>\n",
       "                  Progress: 100% Complete\n",
       "              <p/>\n",
       "              <progress\n",
       "                  value='67'\n",
       "                  max='67',\n",
       "                  style='width: 25%',\n",
       "              >\n",
       "                  67\n",
       "              </progress>\n",
       "\n",
       "    "
      ],
      "text/plain": [
       "<IPython.core.display.HTML object>"
      ]
     },
     "metadata": {},
     "output_type": "display_data"
    },
    {
     "name": "stderr",
     "output_type": "stream",
     "text": [
      "C:\\Users\\Admin\\AppData\\Local\\Temp\\ipykernel_9472\\157778011.py:28: UserWarning: Using default sampling frequency set in configuration file.\n",
      "  X_test_tsfel = pd.concat([tsfel.time_series_features_extractor(cfg, pd.DataFrame(X_test[i])) for i in range(X_test.shape[0])], ignore_index=True)\n"
     ]
    },
    {
     "data": {
      "text/html": [
       "\n",
       "              <p>\n",
       "                  Progress: 100% Complete\n",
       "              <p/>\n",
       "              <progress\n",
       "                  value='67'\n",
       "                  max='67',\n",
       "                  style='width: 25%',\n",
       "              >\n",
       "                  67\n",
       "              </progress>\n",
       "\n",
       "    "
      ],
      "text/plain": [
       "<IPython.core.display.HTML object>"
      ]
     },
     "metadata": {},
     "output_type": "display_data"
    },
    {
     "name": "stderr",
     "output_type": "stream",
     "text": [
      "C:\\Users\\Admin\\AppData\\Local\\Temp\\ipykernel_9472\\157778011.py:28: UserWarning: Using default sampling frequency set in configuration file.\n",
      "  X_test_tsfel = pd.concat([tsfel.time_series_features_extractor(cfg, pd.DataFrame(X_test[i])) for i in range(X_test.shape[0])], ignore_index=True)\n"
     ]
    },
    {
     "data": {
      "text/html": [
       "\n",
       "              <p>\n",
       "                  Progress: 100% Complete\n",
       "              <p/>\n",
       "              <progress\n",
       "                  value='67'\n",
       "                  max='67',\n",
       "                  style='width: 25%',\n",
       "              >\n",
       "                  67\n",
       "              </progress>\n",
       "\n",
       "    "
      ],
      "text/plain": [
       "<IPython.core.display.HTML object>"
      ]
     },
     "metadata": {},
     "output_type": "display_data"
    },
    {
     "name": "stderr",
     "output_type": "stream",
     "text": [
      "C:\\Users\\Admin\\AppData\\Local\\Temp\\ipykernel_9472\\157778011.py:28: UserWarning: Using default sampling frequency set in configuration file.\n",
      "  X_test_tsfel = pd.concat([tsfel.time_series_features_extractor(cfg, pd.DataFrame(X_test[i])) for i in range(X_test.shape[0])], ignore_index=True)\n"
     ]
    },
    {
     "data": {
      "text/html": [
       "\n",
       "              <p>\n",
       "                  Progress: 100% Complete\n",
       "              <p/>\n",
       "              <progress\n",
       "                  value='67'\n",
       "                  max='67',\n",
       "                  style='width: 25%',\n",
       "              >\n",
       "                  67\n",
       "              </progress>\n",
       "\n",
       "    "
      ],
      "text/plain": [
       "<IPython.core.display.HTML object>"
      ]
     },
     "metadata": {},
     "output_type": "display_data"
    },
    {
     "name": "stderr",
     "output_type": "stream",
     "text": [
      "C:\\Users\\Admin\\AppData\\Local\\Temp\\ipykernel_9472\\157778011.py:28: UserWarning: Using default sampling frequency set in configuration file.\n",
      "  X_test_tsfel = pd.concat([tsfel.time_series_features_extractor(cfg, pd.DataFrame(X_test[i])) for i in range(X_test.shape[0])], ignore_index=True)\n"
     ]
    },
    {
     "data": {
      "text/html": [
       "\n",
       "              <p>\n",
       "                  Progress: 100% Complete\n",
       "              <p/>\n",
       "              <progress\n",
       "                  value='67'\n",
       "                  max='67',\n",
       "                  style='width: 25%',\n",
       "              >\n",
       "                  67\n",
       "              </progress>\n",
       "\n",
       "    "
      ],
      "text/plain": [
       "<IPython.core.display.HTML object>"
      ]
     },
     "metadata": {},
     "output_type": "display_data"
    },
    {
     "name": "stderr",
     "output_type": "stream",
     "text": [
      "C:\\Users\\Admin\\AppData\\Local\\Temp\\ipykernel_9472\\157778011.py:28: UserWarning: Using default sampling frequency set in configuration file.\n",
      "  X_test_tsfel = pd.concat([tsfel.time_series_features_extractor(cfg, pd.DataFrame(X_test[i])) for i in range(X_test.shape[0])], ignore_index=True)\n"
     ]
    },
    {
     "data": {
      "text/html": [
       "\n",
       "              <p>\n",
       "                  Progress: 100% Complete\n",
       "              <p/>\n",
       "              <progress\n",
       "                  value='67'\n",
       "                  max='67',\n",
       "                  style='width: 25%',\n",
       "              >\n",
       "                  67\n",
       "              </progress>\n",
       "\n",
       "    "
      ],
      "text/plain": [
       "<IPython.core.display.HTML object>"
      ]
     },
     "metadata": {},
     "output_type": "display_data"
    },
    {
     "name": "stderr",
     "output_type": "stream",
     "text": [
      "C:\\Users\\Admin\\AppData\\Local\\Temp\\ipykernel_9472\\157778011.py:28: UserWarning: Using default sampling frequency set in configuration file.\n",
      "  X_test_tsfel = pd.concat([tsfel.time_series_features_extractor(cfg, pd.DataFrame(X_test[i])) for i in range(X_test.shape[0])], ignore_index=True)\n"
     ]
    },
    {
     "data": {
      "text/html": [
       "\n",
       "              <p>\n",
       "                  Progress: 100% Complete\n",
       "              <p/>\n",
       "              <progress\n",
       "                  value='67'\n",
       "                  max='67',\n",
       "                  style='width: 25%',\n",
       "              >\n",
       "                  67\n",
       "              </progress>\n",
       "\n",
       "    "
      ],
      "text/plain": [
       "<IPython.core.display.HTML object>"
      ]
     },
     "metadata": {},
     "output_type": "display_data"
    },
    {
     "name": "stderr",
     "output_type": "stream",
     "text": [
      "C:\\Users\\Admin\\AppData\\Local\\Temp\\ipykernel_9472\\157778011.py:28: UserWarning: Using default sampling frequency set in configuration file.\n",
      "  X_test_tsfel = pd.concat([tsfel.time_series_features_extractor(cfg, pd.DataFrame(X_test[i])) for i in range(X_test.shape[0])], ignore_index=True)\n"
     ]
    },
    {
     "data": {
      "text/html": [
       "\n",
       "              <p>\n",
       "                  Progress: 100% Complete\n",
       "              <p/>\n",
       "              <progress\n",
       "                  value='67'\n",
       "                  max='67',\n",
       "                  style='width: 25%',\n",
       "              >\n",
       "                  67\n",
       "              </progress>\n",
       "\n",
       "    "
      ],
      "text/plain": [
       "<IPython.core.display.HTML object>"
      ]
     },
     "metadata": {},
     "output_type": "display_data"
    },
    {
     "name": "stderr",
     "output_type": "stream",
     "text": [
      "C:\\Users\\Admin\\AppData\\Local\\Temp\\ipykernel_9472\\157778011.py:28: UserWarning: Using default sampling frequency set in configuration file.\n",
      "  X_test_tsfel = pd.concat([tsfel.time_series_features_extractor(cfg, pd.DataFrame(X_test[i])) for i in range(X_test.shape[0])], ignore_index=True)\n"
     ]
    },
    {
     "data": {
      "text/html": [
       "\n",
       "              <p>\n",
       "                  Progress: 100% Complete\n",
       "              <p/>\n",
       "              <progress\n",
       "                  value='67'\n",
       "                  max='67',\n",
       "                  style='width: 25%',\n",
       "              >\n",
       "                  67\n",
       "              </progress>\n",
       "\n",
       "    "
      ],
      "text/plain": [
       "<IPython.core.display.HTML object>"
      ]
     },
     "metadata": {},
     "output_type": "display_data"
    },
    {
     "name": "stderr",
     "output_type": "stream",
     "text": [
      "C:\\Users\\Admin\\AppData\\Local\\Temp\\ipykernel_9472\\157778011.py:28: UserWarning: Using default sampling frequency set in configuration file.\n",
      "  X_test_tsfel = pd.concat([tsfel.time_series_features_extractor(cfg, pd.DataFrame(X_test[i])) for i in range(X_test.shape[0])], ignore_index=True)\n"
     ]
    },
    {
     "data": {
      "text/html": [
       "\n",
       "              <p>\n",
       "                  Progress: 100% Complete\n",
       "              <p/>\n",
       "              <progress\n",
       "                  value='67'\n",
       "                  max='67',\n",
       "                  style='width: 25%',\n",
       "              >\n",
       "                  67\n",
       "              </progress>\n",
       "\n",
       "    "
      ],
      "text/plain": [
       "<IPython.core.display.HTML object>"
      ]
     },
     "metadata": {},
     "output_type": "display_data"
    },
    {
     "name": "stderr",
     "output_type": "stream",
     "text": [
      "C:\\Users\\Admin\\AppData\\Local\\Temp\\ipykernel_9472\\157778011.py:28: UserWarning: Using default sampling frequency set in configuration file.\n",
      "  X_test_tsfel = pd.concat([tsfel.time_series_features_extractor(cfg, pd.DataFrame(X_test[i])) for i in range(X_test.shape[0])], ignore_index=True)\n"
     ]
    },
    {
     "data": {
      "text/html": [
       "\n",
       "              <p>\n",
       "                  Progress: 100% Complete\n",
       "              <p/>\n",
       "              <progress\n",
       "                  value='67'\n",
       "                  max='67',\n",
       "                  style='width: 25%',\n",
       "              >\n",
       "                  67\n",
       "              </progress>\n",
       "\n",
       "    "
      ],
      "text/plain": [
       "<IPython.core.display.HTML object>"
      ]
     },
     "metadata": {},
     "output_type": "display_data"
    },
    {
     "name": "stderr",
     "output_type": "stream",
     "text": [
      "C:\\Users\\Admin\\AppData\\Local\\Temp\\ipykernel_9472\\157778011.py:28: UserWarning: Using default sampling frequency set in configuration file.\n",
      "  X_test_tsfel = pd.concat([tsfel.time_series_features_extractor(cfg, pd.DataFrame(X_test[i])) for i in range(X_test.shape[0])], ignore_index=True)\n"
     ]
    },
    {
     "data": {
      "text/html": [
       "\n",
       "              <p>\n",
       "                  Progress: 100% Complete\n",
       "              <p/>\n",
       "              <progress\n",
       "                  value='67'\n",
       "                  max='67',\n",
       "                  style='width: 25%',\n",
       "              >\n",
       "                  67\n",
       "              </progress>\n",
       "\n",
       "    "
      ],
      "text/plain": [
       "<IPython.core.display.HTML object>"
      ]
     },
     "metadata": {},
     "output_type": "display_data"
    },
    {
     "name": "stderr",
     "output_type": "stream",
     "text": [
      "C:\\Users\\Admin\\AppData\\Local\\Temp\\ipykernel_9472\\157778011.py:28: UserWarning: Using default sampling frequency set in configuration file.\n",
      "  X_test_tsfel = pd.concat([tsfel.time_series_features_extractor(cfg, pd.DataFrame(X_test[i])) for i in range(X_test.shape[0])], ignore_index=True)\n"
     ]
    },
    {
     "data": {
      "text/html": [
       "\n",
       "              <p>\n",
       "                  Progress: 100% Complete\n",
       "              <p/>\n",
       "              <progress\n",
       "                  value='67'\n",
       "                  max='67',\n",
       "                  style='width: 25%',\n",
       "              >\n",
       "                  67\n",
       "              </progress>\n",
       "\n",
       "    "
      ],
      "text/plain": [
       "<IPython.core.display.HTML object>"
      ]
     },
     "metadata": {},
     "output_type": "display_data"
    },
    {
     "name": "stderr",
     "output_type": "stream",
     "text": [
      "C:\\Users\\Admin\\AppData\\Local\\Temp\\ipykernel_9472\\157778011.py:28: UserWarning: Using default sampling frequency set in configuration file.\n",
      "  X_test_tsfel = pd.concat([tsfel.time_series_features_extractor(cfg, pd.DataFrame(X_test[i])) for i in range(X_test.shape[0])], ignore_index=True)\n"
     ]
    },
    {
     "data": {
      "text/html": [
       "\n",
       "              <p>\n",
       "                  Progress: 100% Complete\n",
       "              <p/>\n",
       "              <progress\n",
       "                  value='67'\n",
       "                  max='67',\n",
       "                  style='width: 25%',\n",
       "              >\n",
       "                  67\n",
       "              </progress>\n",
       "\n",
       "    "
      ],
      "text/plain": [
       "<IPython.core.display.HTML object>"
      ]
     },
     "metadata": {},
     "output_type": "display_data"
    },
    {
     "name": "stderr",
     "output_type": "stream",
     "text": [
      "C:\\Users\\Admin\\AppData\\Local\\Temp\\ipykernel_9472\\157778011.py:28: UserWarning: Using default sampling frequency set in configuration file.\n",
      "  X_test_tsfel = pd.concat([tsfel.time_series_features_extractor(cfg, pd.DataFrame(X_test[i])) for i in range(X_test.shape[0])], ignore_index=True)\n"
     ]
    },
    {
     "data": {
      "text/html": [
       "\n",
       "              <p>\n",
       "                  Progress: 100% Complete\n",
       "              <p/>\n",
       "              <progress\n",
       "                  value='67'\n",
       "                  max='67',\n",
       "                  style='width: 25%',\n",
       "              >\n",
       "                  67\n",
       "              </progress>\n",
       "\n",
       "    "
      ],
      "text/plain": [
       "<IPython.core.display.HTML object>"
      ]
     },
     "metadata": {},
     "output_type": "display_data"
    },
    {
     "name": "stderr",
     "output_type": "stream",
     "text": [
      "C:\\Users\\Admin\\AppData\\Local\\Temp\\ipykernel_9472\\157778011.py:28: UserWarning: Using default sampling frequency set in configuration file.\n",
      "  X_test_tsfel = pd.concat([tsfel.time_series_features_extractor(cfg, pd.DataFrame(X_test[i])) for i in range(X_test.shape[0])], ignore_index=True)\n"
     ]
    },
    {
     "data": {
      "text/html": [
       "\n",
       "              <p>\n",
       "                  Progress: 100% Complete\n",
       "              <p/>\n",
       "              <progress\n",
       "                  value='67'\n",
       "                  max='67',\n",
       "                  style='width: 25%',\n",
       "              >\n",
       "                  67\n",
       "              </progress>\n",
       "\n",
       "    "
      ],
      "text/plain": [
       "<IPython.core.display.HTML object>"
      ]
     },
     "metadata": {},
     "output_type": "display_data"
    },
    {
     "name": "stderr",
     "output_type": "stream",
     "text": [
      "C:\\Users\\Admin\\AppData\\Local\\Temp\\ipykernel_9472\\157778011.py:28: UserWarning: Using default sampling frequency set in configuration file.\n",
      "  X_test_tsfel = pd.concat([tsfel.time_series_features_extractor(cfg, pd.DataFrame(X_test[i])) for i in range(X_test.shape[0])], ignore_index=True)\n"
     ]
    },
    {
     "data": {
      "text/html": [
       "\n",
       "              <p>\n",
       "                  Progress: 100% Complete\n",
       "              <p/>\n",
       "              <progress\n",
       "                  value='67'\n",
       "                  max='67',\n",
       "                  style='width: 25%',\n",
       "              >\n",
       "                  67\n",
       "              </progress>\n",
       "\n",
       "    "
      ],
      "text/plain": [
       "<IPython.core.display.HTML object>"
      ]
     },
     "metadata": {},
     "output_type": "display_data"
    },
    {
     "name": "stderr",
     "output_type": "stream",
     "text": [
      "C:\\Users\\Admin\\AppData\\Local\\Temp\\ipykernel_9472\\157778011.py:28: UserWarning: Using default sampling frequency set in configuration file.\n",
      "  X_test_tsfel = pd.concat([tsfel.time_series_features_extractor(cfg, pd.DataFrame(X_test[i])) for i in range(X_test.shape[0])], ignore_index=True)\n"
     ]
    },
    {
     "data": {
      "text/html": [
       "\n",
       "              <p>\n",
       "                  Progress: 100% Complete\n",
       "              <p/>\n",
       "              <progress\n",
       "                  value='67'\n",
       "                  max='67',\n",
       "                  style='width: 25%',\n",
       "              >\n",
       "                  67\n",
       "              </progress>\n",
       "\n",
       "    "
      ],
      "text/plain": [
       "<IPython.core.display.HTML object>"
      ]
     },
     "metadata": {},
     "output_type": "display_data"
    },
    {
     "name": "stderr",
     "output_type": "stream",
     "text": [
      "C:\\Users\\Admin\\AppData\\Local\\Temp\\ipykernel_9472\\157778011.py:28: UserWarning: Using default sampling frequency set in configuration file.\n",
      "  X_test_tsfel = pd.concat([tsfel.time_series_features_extractor(cfg, pd.DataFrame(X_test[i])) for i in range(X_test.shape[0])], ignore_index=True)\n"
     ]
    },
    {
     "data": {
      "text/html": [
       "\n",
       "              <p>\n",
       "                  Progress: 100% Complete\n",
       "              <p/>\n",
       "              <progress\n",
       "                  value='67'\n",
       "                  max='67',\n",
       "                  style='width: 25%',\n",
       "              >\n",
       "                  67\n",
       "              </progress>\n",
       "\n",
       "    "
      ],
      "text/plain": [
       "<IPython.core.display.HTML object>"
      ]
     },
     "metadata": {},
     "output_type": "display_data"
    },
    {
     "name": "stderr",
     "output_type": "stream",
     "text": [
      "C:\\Users\\Admin\\AppData\\Local\\Temp\\ipykernel_9472\\157778011.py:28: UserWarning: Using default sampling frequency set in configuration file.\n",
      "  X_test_tsfel = pd.concat([tsfel.time_series_features_extractor(cfg, pd.DataFrame(X_test[i])) for i in range(X_test.shape[0])], ignore_index=True)\n"
     ]
    },
    {
     "data": {
      "text/html": [
       "\n",
       "              <p>\n",
       "                  Progress: 100% Complete\n",
       "              <p/>\n",
       "              <progress\n",
       "                  value='67'\n",
       "                  max='67',\n",
       "                  style='width: 25%',\n",
       "              >\n",
       "                  67\n",
       "              </progress>\n",
       "\n",
       "    "
      ],
      "text/plain": [
       "<IPython.core.display.HTML object>"
      ]
     },
     "metadata": {},
     "output_type": "display_data"
    },
    {
     "name": "stderr",
     "output_type": "stream",
     "text": [
      "C:\\Users\\Admin\\AppData\\Local\\Temp\\ipykernel_9472\\157778011.py:28: UserWarning: Using default sampling frequency set in configuration file.\n",
      "  X_test_tsfel = pd.concat([tsfel.time_series_features_extractor(cfg, pd.DataFrame(X_test[i])) for i in range(X_test.shape[0])], ignore_index=True)\n"
     ]
    },
    {
     "data": {
      "text/html": [
       "\n",
       "              <p>\n",
       "                  Progress: 100% Complete\n",
       "              <p/>\n",
       "              <progress\n",
       "                  value='67'\n",
       "                  max='67',\n",
       "                  style='width: 25%',\n",
       "              >\n",
       "                  67\n",
       "              </progress>\n",
       "\n",
       "    "
      ],
      "text/plain": [
       "<IPython.core.display.HTML object>"
      ]
     },
     "metadata": {},
     "output_type": "display_data"
    },
    {
     "name": "stderr",
     "output_type": "stream",
     "text": [
      "C:\\Users\\Admin\\AppData\\Local\\Temp\\ipykernel_9472\\157778011.py:28: UserWarning: Using default sampling frequency set in configuration file.\n",
      "  X_test_tsfel = pd.concat([tsfel.time_series_features_extractor(cfg, pd.DataFrame(X_test[i])) for i in range(X_test.shape[0])], ignore_index=True)\n"
     ]
    },
    {
     "data": {
      "text/html": [
       "\n",
       "              <p>\n",
       "                  Progress: 100% Complete\n",
       "              <p/>\n",
       "              <progress\n",
       "                  value='67'\n",
       "                  max='67',\n",
       "                  style='width: 25%',\n",
       "              >\n",
       "                  67\n",
       "              </progress>\n",
       "\n",
       "    "
      ],
      "text/plain": [
       "<IPython.core.display.HTML object>"
      ]
     },
     "metadata": {},
     "output_type": "display_data"
    },
    {
     "name": "stderr",
     "output_type": "stream",
     "text": [
      "C:\\Users\\Admin\\AppData\\Local\\Temp\\ipykernel_9472\\157778011.py:28: UserWarning: Using default sampling frequency set in configuration file.\n",
      "  X_test_tsfel = pd.concat([tsfel.time_series_features_extractor(cfg, pd.DataFrame(X_test[i])) for i in range(X_test.shape[0])], ignore_index=True)\n"
     ]
    },
    {
     "data": {
      "text/html": [
       "\n",
       "              <p>\n",
       "                  Progress: 100% Complete\n",
       "              <p/>\n",
       "              <progress\n",
       "                  value='67'\n",
       "                  max='67',\n",
       "                  style='width: 25%',\n",
       "              >\n",
       "                  67\n",
       "              </progress>\n",
       "\n",
       "    "
      ],
      "text/plain": [
       "<IPython.core.display.HTML object>"
      ]
     },
     "metadata": {},
     "output_type": "display_data"
    },
    {
     "name": "stderr",
     "output_type": "stream",
     "text": [
      "C:\\Users\\Admin\\AppData\\Local\\Temp\\ipykernel_9472\\157778011.py:28: UserWarning: Using default sampling frequency set in configuration file.\n",
      "  X_test_tsfel = pd.concat([tsfel.time_series_features_extractor(cfg, pd.DataFrame(X_test[i])) for i in range(X_test.shape[0])], ignore_index=True)\n"
     ]
    },
    {
     "data": {
      "text/html": [
       "\n",
       "              <p>\n",
       "                  Progress: 100% Complete\n",
       "              <p/>\n",
       "              <progress\n",
       "                  value='67'\n",
       "                  max='67',\n",
       "                  style='width: 25%',\n",
       "              >\n",
       "                  67\n",
       "              </progress>\n",
       "\n",
       "    "
      ],
      "text/plain": [
       "<IPython.core.display.HTML object>"
      ]
     },
     "metadata": {},
     "output_type": "display_data"
    },
    {
     "name": "stderr",
     "output_type": "stream",
     "text": [
      "C:\\Users\\Admin\\AppData\\Local\\Temp\\ipykernel_9472\\157778011.py:28: UserWarning: Using default sampling frequency set in configuration file.\n",
      "  X_test_tsfel = pd.concat([tsfel.time_series_features_extractor(cfg, pd.DataFrame(X_test[i])) for i in range(X_test.shape[0])], ignore_index=True)\n"
     ]
    },
    {
     "data": {
      "text/html": [
       "\n",
       "              <p>\n",
       "                  Progress: 100% Complete\n",
       "              <p/>\n",
       "              <progress\n",
       "                  value='67'\n",
       "                  max='67',\n",
       "                  style='width: 25%',\n",
       "              >\n",
       "                  67\n",
       "              </progress>\n",
       "\n",
       "    "
      ],
      "text/plain": [
       "<IPython.core.display.HTML object>"
      ]
     },
     "metadata": {},
     "output_type": "display_data"
    },
    {
     "name": "stderr",
     "output_type": "stream",
     "text": [
      "C:\\Users\\Admin\\AppData\\Local\\Temp\\ipykernel_9472\\157778011.py:28: UserWarning: Using default sampling frequency set in configuration file.\n",
      "  X_test_tsfel = pd.concat([tsfel.time_series_features_extractor(cfg, pd.DataFrame(X_test[i])) for i in range(X_test.shape[0])], ignore_index=True)\n"
     ]
    },
    {
     "data": {
      "text/html": [
       "\n",
       "              <p>\n",
       "                  Progress: 100% Complete\n",
       "              <p/>\n",
       "              <progress\n",
       "                  value='67'\n",
       "                  max='67',\n",
       "                  style='width: 25%',\n",
       "              >\n",
       "                  67\n",
       "              </progress>\n",
       "\n",
       "    "
      ],
      "text/plain": [
       "<IPython.core.display.HTML object>"
      ]
     },
     "metadata": {},
     "output_type": "display_data"
    },
    {
     "name": "stderr",
     "output_type": "stream",
     "text": [
      "C:\\Users\\Admin\\AppData\\Local\\Temp\\ipykernel_9472\\157778011.py:28: UserWarning: Using default sampling frequency set in configuration file.\n",
      "  X_test_tsfel = pd.concat([tsfel.time_series_features_extractor(cfg, pd.DataFrame(X_test[i])) for i in range(X_test.shape[0])], ignore_index=True)\n"
     ]
    },
    {
     "data": {
      "text/html": [
       "\n",
       "              <p>\n",
       "                  Progress: 100% Complete\n",
       "              <p/>\n",
       "              <progress\n",
       "                  value='67'\n",
       "                  max='67',\n",
       "                  style='width: 25%',\n",
       "              >\n",
       "                  67\n",
       "              </progress>\n",
       "\n",
       "    "
      ],
      "text/plain": [
       "<IPython.core.display.HTML object>"
      ]
     },
     "metadata": {},
     "output_type": "display_data"
    },
    {
     "name": "stderr",
     "output_type": "stream",
     "text": [
      "C:\\Users\\Admin\\AppData\\Local\\Temp\\ipykernel_9472\\157778011.py:28: UserWarning: Using default sampling frequency set in configuration file.\n",
      "  X_test_tsfel = pd.concat([tsfel.time_series_features_extractor(cfg, pd.DataFrame(X_test[i])) for i in range(X_test.shape[0])], ignore_index=True)\n"
     ]
    },
    {
     "data": {
      "text/html": [
       "\n",
       "              <p>\n",
       "                  Progress: 100% Complete\n",
       "              <p/>\n",
       "              <progress\n",
       "                  value='67'\n",
       "                  max='67',\n",
       "                  style='width: 25%',\n",
       "              >\n",
       "                  67\n",
       "              </progress>\n",
       "\n",
       "    "
      ],
      "text/plain": [
       "<IPython.core.display.HTML object>"
      ]
     },
     "metadata": {},
     "output_type": "display_data"
    },
    {
     "name": "stderr",
     "output_type": "stream",
     "text": [
      "C:\\Users\\Admin\\AppData\\Local\\Temp\\ipykernel_9472\\157778011.py:28: UserWarning: Using default sampling frequency set in configuration file.\n",
      "  X_test_tsfel = pd.concat([tsfel.time_series_features_extractor(cfg, pd.DataFrame(X_test[i])) for i in range(X_test.shape[0])], ignore_index=True)\n"
     ]
    },
    {
     "data": {
      "text/html": [
       "\n",
       "              <p>\n",
       "                  Progress: 100% Complete\n",
       "              <p/>\n",
       "              <progress\n",
       "                  value='67'\n",
       "                  max='67',\n",
       "                  style='width: 25%',\n",
       "              >\n",
       "                  67\n",
       "              </progress>\n",
       "\n",
       "    "
      ],
      "text/plain": [
       "<IPython.core.display.HTML object>"
      ]
     },
     "metadata": {},
     "output_type": "display_data"
    },
    {
     "name": "stderr",
     "output_type": "stream",
     "text": [
      "C:\\Users\\Admin\\AppData\\Local\\Temp\\ipykernel_9472\\157778011.py:28: UserWarning: Using default sampling frequency set in configuration file.\n",
      "  X_test_tsfel = pd.concat([tsfel.time_series_features_extractor(cfg, pd.DataFrame(X_test[i])) for i in range(X_test.shape[0])], ignore_index=True)\n"
     ]
    },
    {
     "data": {
      "text/html": [
       "\n",
       "              <p>\n",
       "                  Progress: 100% Complete\n",
       "              <p/>\n",
       "              <progress\n",
       "                  value='67'\n",
       "                  max='67',\n",
       "                  style='width: 25%',\n",
       "              >\n",
       "                  67\n",
       "              </progress>\n",
       "\n",
       "    "
      ],
      "text/plain": [
       "<IPython.core.display.HTML object>"
      ]
     },
     "metadata": {},
     "output_type": "display_data"
    },
    {
     "name": "stderr",
     "output_type": "stream",
     "text": [
      "C:\\Users\\Admin\\AppData\\Local\\Temp\\ipykernel_9472\\157778011.py:28: UserWarning: Using default sampling frequency set in configuration file.\n",
      "  X_test_tsfel = pd.concat([tsfel.time_series_features_extractor(cfg, pd.DataFrame(X_test[i])) for i in range(X_test.shape[0])], ignore_index=True)\n"
     ]
    },
    {
     "data": {
      "text/html": [
       "\n",
       "              <p>\n",
       "                  Progress: 100% Complete\n",
       "              <p/>\n",
       "              <progress\n",
       "                  value='67'\n",
       "                  max='67',\n",
       "                  style='width: 25%',\n",
       "              >\n",
       "                  67\n",
       "              </progress>\n",
       "\n",
       "    "
      ],
      "text/plain": [
       "<IPython.core.display.HTML object>"
      ]
     },
     "metadata": {},
     "output_type": "display_data"
    },
    {
     "name": "stderr",
     "output_type": "stream",
     "text": [
      "C:\\Users\\Admin\\AppData\\Local\\Temp\\ipykernel_9472\\157778011.py:28: UserWarning: Using default sampling frequency set in configuration file.\n",
      "  X_test_tsfel = pd.concat([tsfel.time_series_features_extractor(cfg, pd.DataFrame(X_test[i])) for i in range(X_test.shape[0])], ignore_index=True)\n"
     ]
    },
    {
     "data": {
      "text/html": [
       "\n",
       "              <p>\n",
       "                  Progress: 100% Complete\n",
       "              <p/>\n",
       "              <progress\n",
       "                  value='67'\n",
       "                  max='67',\n",
       "                  style='width: 25%',\n",
       "              >\n",
       "                  67\n",
       "              </progress>\n",
       "\n",
       "    "
      ],
      "text/plain": [
       "<IPython.core.display.HTML object>"
      ]
     },
     "metadata": {},
     "output_type": "display_data"
    },
    {
     "name": "stderr",
     "output_type": "stream",
     "text": [
      "C:\\Users\\Admin\\AppData\\Local\\Temp\\ipykernel_9472\\157778011.py:28: UserWarning: Using default sampling frequency set in configuration file.\n",
      "  X_test_tsfel = pd.concat([tsfel.time_series_features_extractor(cfg, pd.DataFrame(X_test[i])) for i in range(X_test.shape[0])], ignore_index=True)\n"
     ]
    },
    {
     "data": {
      "text/html": [
       "\n",
       "              <p>\n",
       "                  Progress: 100% Complete\n",
       "              <p/>\n",
       "              <progress\n",
       "                  value='67'\n",
       "                  max='67',\n",
       "                  style='width: 25%',\n",
       "              >\n",
       "                  67\n",
       "              </progress>\n",
       "\n",
       "    "
      ],
      "text/plain": [
       "<IPython.core.display.HTML object>"
      ]
     },
     "metadata": {},
     "output_type": "display_data"
    },
    {
     "name": "stderr",
     "output_type": "stream",
     "text": [
      "C:\\Users\\Admin\\AppData\\Local\\Temp\\ipykernel_9472\\157778011.py:28: UserWarning: Using default sampling frequency set in configuration file.\n",
      "  X_test_tsfel = pd.concat([tsfel.time_series_features_extractor(cfg, pd.DataFrame(X_test[i])) for i in range(X_test.shape[0])], ignore_index=True)\n"
     ]
    },
    {
     "data": {
      "text/html": [
       "\n",
       "              <p>\n",
       "                  Progress: 100% Complete\n",
       "              <p/>\n",
       "              <progress\n",
       "                  value='67'\n",
       "                  max='67',\n",
       "                  style='width: 25%',\n",
       "              >\n",
       "                  67\n",
       "              </progress>\n",
       "\n",
       "    "
      ],
      "text/plain": [
       "<IPython.core.display.HTML object>"
      ]
     },
     "metadata": {},
     "output_type": "display_data"
    },
    {
     "name": "stderr",
     "output_type": "stream",
     "text": [
      "C:\\Users\\Admin\\AppData\\Local\\Temp\\ipykernel_9472\\157778011.py:28: UserWarning: Using default sampling frequency set in configuration file.\n",
      "  X_test_tsfel = pd.concat([tsfel.time_series_features_extractor(cfg, pd.DataFrame(X_test[i])) for i in range(X_test.shape[0])], ignore_index=True)\n"
     ]
    },
    {
     "data": {
      "text/html": [
       "\n",
       "              <p>\n",
       "                  Progress: 100% Complete\n",
       "              <p/>\n",
       "              <progress\n",
       "                  value='67'\n",
       "                  max='67',\n",
       "                  style='width: 25%',\n",
       "              >\n",
       "                  67\n",
       "              </progress>\n",
       "\n",
       "    "
      ],
      "text/plain": [
       "<IPython.core.display.HTML object>"
      ]
     },
     "metadata": {},
     "output_type": "display_data"
    },
    {
     "name": "stderr",
     "output_type": "stream",
     "text": [
      "C:\\Users\\Admin\\AppData\\Local\\Temp\\ipykernel_9472\\157778011.py:28: UserWarning: Using default sampling frequency set in configuration file.\n",
      "  X_test_tsfel = pd.concat([tsfel.time_series_features_extractor(cfg, pd.DataFrame(X_test[i])) for i in range(X_test.shape[0])], ignore_index=True)\n"
     ]
    },
    {
     "data": {
      "text/html": [
       "\n",
       "              <p>\n",
       "                  Progress: 100% Complete\n",
       "              <p/>\n",
       "              <progress\n",
       "                  value='67'\n",
       "                  max='67',\n",
       "                  style='width: 25%',\n",
       "              >\n",
       "                  67\n",
       "              </progress>\n",
       "\n",
       "    "
      ],
      "text/plain": [
       "<IPython.core.display.HTML object>"
      ]
     },
     "metadata": {},
     "output_type": "display_data"
    },
    {
     "name": "stderr",
     "output_type": "stream",
     "text": [
      "C:\\Users\\Admin\\AppData\\Local\\Temp\\ipykernel_9472\\157778011.py:28: UserWarning: Using default sampling frequency set in configuration file.\n",
      "  X_test_tsfel = pd.concat([tsfel.time_series_features_extractor(cfg, pd.DataFrame(X_test[i])) for i in range(X_test.shape[0])], ignore_index=True)\n"
     ]
    },
    {
     "data": {
      "text/html": [
       "\n",
       "              <p>\n",
       "                  Progress: 100% Complete\n",
       "              <p/>\n",
       "              <progress\n",
       "                  value='67'\n",
       "                  max='67',\n",
       "                  style='width: 25%',\n",
       "              >\n",
       "                  67\n",
       "              </progress>\n",
       "\n",
       "    "
      ],
      "text/plain": [
       "<IPython.core.display.HTML object>"
      ]
     },
     "metadata": {},
     "output_type": "display_data"
    },
    {
     "name": "stderr",
     "output_type": "stream",
     "text": [
      "C:\\Users\\Admin\\AppData\\Local\\Temp\\ipykernel_9472\\157778011.py:28: UserWarning: Using default sampling frequency set in configuration file.\n",
      "  X_test_tsfel = pd.concat([tsfel.time_series_features_extractor(cfg, pd.DataFrame(X_test[i])) for i in range(X_test.shape[0])], ignore_index=True)\n"
     ]
    },
    {
     "data": {
      "text/html": [
       "\n",
       "              <p>\n",
       "                  Progress: 100% Complete\n",
       "              <p/>\n",
       "              <progress\n",
       "                  value='67'\n",
       "                  max='67',\n",
       "                  style='width: 25%',\n",
       "              >\n",
       "                  67\n",
       "              </progress>\n",
       "\n",
       "    "
      ],
      "text/plain": [
       "<IPython.core.display.HTML object>"
      ]
     },
     "metadata": {},
     "output_type": "display_data"
    },
    {
     "name": "stderr",
     "output_type": "stream",
     "text": [
      "C:\\Users\\Admin\\AppData\\Local\\Temp\\ipykernel_9472\\157778011.py:28: UserWarning: Using default sampling frequency set in configuration file.\n",
      "  X_test_tsfel = pd.concat([tsfel.time_series_features_extractor(cfg, pd.DataFrame(X_test[i])) for i in range(X_test.shape[0])], ignore_index=True)\n"
     ]
    },
    {
     "data": {
      "text/html": [
       "\n",
       "              <p>\n",
       "                  Progress: 100% Complete\n",
       "              <p/>\n",
       "              <progress\n",
       "                  value='67'\n",
       "                  max='67',\n",
       "                  style='width: 25%',\n",
       "              >\n",
       "                  67\n",
       "              </progress>\n",
       "\n",
       "    "
      ],
      "text/plain": [
       "<IPython.core.display.HTML object>"
      ]
     },
     "metadata": {},
     "output_type": "display_data"
    },
    {
     "name": "stderr",
     "output_type": "stream",
     "text": [
      "C:\\Users\\Admin\\AppData\\Local\\Temp\\ipykernel_9472\\157778011.py:28: UserWarning: Using default sampling frequency set in configuration file.\n",
      "  X_test_tsfel = pd.concat([tsfel.time_series_features_extractor(cfg, pd.DataFrame(X_test[i])) for i in range(X_test.shape[0])], ignore_index=True)\n"
     ]
    },
    {
     "data": {
      "text/html": [
       "\n",
       "              <p>\n",
       "                  Progress: 100% Complete\n",
       "              <p/>\n",
       "              <progress\n",
       "                  value='67'\n",
       "                  max='67',\n",
       "                  style='width: 25%',\n",
       "              >\n",
       "                  67\n",
       "              </progress>\n",
       "\n",
       "    "
      ],
      "text/plain": [
       "<IPython.core.display.HTML object>"
      ]
     },
     "metadata": {},
     "output_type": "display_data"
    },
    {
     "name": "stdout",
     "output_type": "stream",
     "text": [
      "\n",
      "Results Comparison:\n",
      "Raw Data - Accuracy: 0.61, Precision: 0.56, Recall: 0.61\n",
      "Confusion Matrix (Raw Data):\n",
      "[[2 2 2 3 0 0]\n",
      " [2 5 1 0 1 0]\n",
      " [4 2 1 1 0 1]\n",
      " [0 0 0 8 1 0]\n",
      " [0 1 0 0 8 0]\n",
      " [0 0 0 0 0 9]]\n",
      "\n",
      "TSFEL Features - Accuracy: 0.87, Precision: 0.88, Recall: 0.87\n",
      "Confusion Matrix (TSFEL Features):\n",
      "[[6 2 1 0 0 0]\n",
      " [1 8 0 0 0 0]\n",
      " [0 2 7 0 0 0]\n",
      " [0 0 0 8 1 0]\n",
      " [0 0 0 0 9 0]\n",
      " [0 0 0 0 0 9]]\n",
      "\n",
      "Dataset Features - Accuracy: 0.61, Precision: 0.56, Recall: 0.61\n",
      "Confusion Matrix (Dataset Features):\n",
      "[[2 2 2 3 0 0]\n",
      " [2 5 1 0 1 0]\n",
      " [4 2 1 1 0 1]\n",
      " [0 0 0 8 1 0]\n",
      " [0 1 0 0 8 0]\n",
      " [0 0 0 0 0 9]]\n"
     ]
    }
   ],
   "source": [
    "import pandas as pd\n",
    "import numpy as np\n",
    "import tsfel\n",
    "from sklearn.model_selection import train_test_split\n",
    "from sklearn.tree import DecisionTreeClassifier\n",
    "from sklearn.metrics import accuracy_score, precision_score, recall_score, confusion_matrix\n",
    "import os\n",
    "\n",
    "# Load dataset from MakeDataset.py\n",
    "from MakeDataset import X_train, X_test, y_train, y_test\n",
    "\n",
    "# Convert to DataFrame\n",
    "X_train_df = pd.DataFrame(X_train.reshape(X_train.shape[0], -1))\n",
    "X_test_df = pd.DataFrame(X_test.reshape(X_test.shape[0], -1))\n",
    "\n",
    "# Train Decision Tree on Raw Accelerometer Data\n",
    "clf_raw = DecisionTreeClassifier(random_state=42)\n",
    "clf_raw.fit(X_train_df, y_train)\n",
    "y_pred_raw = clf_raw.predict(X_test_df)\n",
    "accuracy_raw = accuracy_score(y_test, y_pred_raw)\n",
    "precision_raw = precision_score(y_test, y_pred_raw, average='weighted', zero_division=1)\n",
    "recall_raw = recall_score(y_test, y_pred_raw, average='weighted', zero_division=1)\n",
    "conf_matrix_raw = confusion_matrix(y_test, y_pred_raw)\n",
    "\n",
    "# Extract Features using TSFEL per sample\n",
    "cfg = tsfel.get_features_by_domain()\n",
    "X_train_tsfel = pd.concat([tsfel.time_series_features_extractor(cfg, pd.DataFrame(X_train[i])) for i in range(X_train.shape[0])], ignore_index=True)\n",
    "X_test_tsfel = pd.concat([tsfel.time_series_features_extractor(cfg, pd.DataFrame(X_test[i])) for i in range(X_test.shape[0])], ignore_index=True)\n",
    "\n",
    "# Fill NaN values\n",
    "X_train_tsfel.fillna(0, inplace=True)\n",
    "X_test_tsfel.fillna(0, inplace=True)\n",
    "\n",
    "# Ensure number of samples match\n",
    "assert X_train_tsfel.shape[0] == len(y_train), \"Mismatch: X_train_tsfel samples do not match y_train labels\"\n",
    "assert X_test_tsfel.shape[0] == len(y_test), \"Mismatch: X_test_tsfel samples do not match y_test labels\"\n",
    "\n",
    "# Train Decision Tree on TSFEL Features\n",
    "clf_tsfel = DecisionTreeClassifier(random_state=42)\n",
    "clf_tsfel.fit(X_train_tsfel, y_train)\n",
    "y_pred_tsfel = clf_tsfel.predict(X_test_tsfel)\n",
    "accuracy_tsfel = accuracy_score(y_test, y_pred_tsfel)\n",
    "precision_tsfel = precision_score(y_test, y_pred_tsfel, average='weighted', zero_division=1)\n",
    "recall_tsfel = recall_score(y_test, y_pred_tsfel, average='weighted', zero_division=1)\n",
    "conf_matrix_tsfel = confusion_matrix(y_test, y_pred_tsfel)\n",
    "\n",
    "# Check for additional dataset features\n",
    "X_dataset_train = X_train_df.copy()\n",
    "X_dataset_test = X_test_df.copy()\n",
    "\n",
    "if not X_dataset_train.empty:\n",
    "    clf_dataset = DecisionTreeClassifier(random_state=42)\n",
    "    clf_dataset.fit(X_dataset_train, y_train)\n",
    "    y_pred_dataset = clf_dataset.predict(X_dataset_test)\n",
    "    accuracy_dataset = accuracy_score(y_test, y_pred_dataset)\n",
    "    precision_dataset = precision_score(y_test, y_pred_dataset, average='weighted', zero_division=1)\n",
    "    recall_dataset = recall_score(y_test, y_pred_dataset, average='weighted', zero_division=1)\n",
    "    conf_matrix_dataset = confusion_matrix(y_test, y_pred_dataset)\n",
    "else:\n",
    "    accuracy_dataset = precision_dataset = recall_dataset = None\n",
    "    conf_matrix_dataset = None\n",
    "\n",
    "# Print Results\n",
    "print(\"\\nResults Comparison:\")\n",
    "print(f\"Raw Data - Accuracy: {accuracy_raw:.2f}, Precision: {precision_raw:.2f}, Recall: {recall_raw:.2f}\")\n",
    "print(\"Confusion Matrix (Raw Data):\")\n",
    "print(conf_matrix_raw)\n",
    "\n",
    "print(f\"\\nTSFEL Features - Accuracy: {accuracy_tsfel:.2f}, Precision: {precision_tsfel:.2f}, Recall: {recall_tsfel:.2f}\")\n",
    "print(\"Confusion Matrix (TSFEL Features):\")\n",
    "print(conf_matrix_tsfel)\n",
    "\n",
    "if accuracy_dataset is not None:\n",
    "    print(f\"\\nDataset Features - Accuracy: {accuracy_dataset:.2f}, Precision: {precision_dataset:.2f}, Recall: {recall_dataset:.2f}\")\n",
    "    print(\"Confusion Matrix (Dataset Features):\")\n",
    "    print(conf_matrix_dataset)\n",
    "else:\n",
    "    print(\"\\nDataset does not contain additional features beyond accelerometer data.\")\n"
   ]
  },
  {
   "cell_type": "code",
   "execution_count": 2,
   "metadata": {},
   "outputs": [
    {
     "name": "stderr",
     "output_type": "stream",
     "text": [
      "C:\\Users\\Admin\\AppData\\Local\\Temp\\ipykernel_9472\\483276904.py:19: UserWarning: Using default sampling frequency set in configuration file.\n",
      "  X_train_tsfel = pd.concat([tsfel.time_series_features_extractor(cfg, pd.DataFrame(X_train[i])) for i in range(X_train.shape[0])], ignore_index=True)\n"
     ]
    },
    {
     "data": {
      "text/html": [
       "\n",
       "              <p>\n",
       "                  Progress: 100% Complete\n",
       "              <p/>\n",
       "              <progress\n",
       "                  value='67'\n",
       "                  max='67',\n",
       "                  style='width: 25%',\n",
       "              >\n",
       "                  67\n",
       "              </progress>\n",
       "\n",
       "    "
      ],
      "text/plain": [
       "<IPython.core.display.HTML object>"
      ]
     },
     "metadata": {},
     "output_type": "display_data"
    },
    {
     "name": "stderr",
     "output_type": "stream",
     "text": [
      "C:\\Users\\Admin\\AppData\\Local\\Temp\\ipykernel_9472\\483276904.py:19: UserWarning: Using default sampling frequency set in configuration file.\n",
      "  X_train_tsfel = pd.concat([tsfel.time_series_features_extractor(cfg, pd.DataFrame(X_train[i])) for i in range(X_train.shape[0])], ignore_index=True)\n"
     ]
    },
    {
     "data": {
      "text/html": [
       "\n",
       "              <p>\n",
       "                  Progress: 100% Complete\n",
       "              <p/>\n",
       "              <progress\n",
       "                  value='67'\n",
       "                  max='67',\n",
       "                  style='width: 25%',\n",
       "              >\n",
       "                  67\n",
       "              </progress>\n",
       "\n",
       "    "
      ],
      "text/plain": [
       "<IPython.core.display.HTML object>"
      ]
     },
     "metadata": {},
     "output_type": "display_data"
    },
    {
     "name": "stderr",
     "output_type": "stream",
     "text": [
      "C:\\Users\\Admin\\AppData\\Local\\Temp\\ipykernel_9472\\483276904.py:19: UserWarning: Using default sampling frequency set in configuration file.\n",
      "  X_train_tsfel = pd.concat([tsfel.time_series_features_extractor(cfg, pd.DataFrame(X_train[i])) for i in range(X_train.shape[0])], ignore_index=True)\n"
     ]
    },
    {
     "data": {
      "text/html": [
       "\n",
       "              <p>\n",
       "                  Progress: 100% Complete\n",
       "              <p/>\n",
       "              <progress\n",
       "                  value='67'\n",
       "                  max='67',\n",
       "                  style='width: 25%',\n",
       "              >\n",
       "                  67\n",
       "              </progress>\n",
       "\n",
       "    "
      ],
      "text/plain": [
       "<IPython.core.display.HTML object>"
      ]
     },
     "metadata": {},
     "output_type": "display_data"
    },
    {
     "name": "stderr",
     "output_type": "stream",
     "text": [
      "C:\\Users\\Admin\\AppData\\Local\\Temp\\ipykernel_9472\\483276904.py:19: UserWarning: Using default sampling frequency set in configuration file.\n",
      "  X_train_tsfel = pd.concat([tsfel.time_series_features_extractor(cfg, pd.DataFrame(X_train[i])) for i in range(X_train.shape[0])], ignore_index=True)\n"
     ]
    },
    {
     "data": {
      "text/html": [
       "\n",
       "              <p>\n",
       "                  Progress: 100% Complete\n",
       "              <p/>\n",
       "              <progress\n",
       "                  value='67'\n",
       "                  max='67',\n",
       "                  style='width: 25%',\n",
       "              >\n",
       "                  67\n",
       "              </progress>\n",
       "\n",
       "    "
      ],
      "text/plain": [
       "<IPython.core.display.HTML object>"
      ]
     },
     "metadata": {},
     "output_type": "display_data"
    },
    {
     "name": "stderr",
     "output_type": "stream",
     "text": [
      "C:\\Users\\Admin\\AppData\\Local\\Temp\\ipykernel_9472\\483276904.py:19: UserWarning: Using default sampling frequency set in configuration file.\n",
      "  X_train_tsfel = pd.concat([tsfel.time_series_features_extractor(cfg, pd.DataFrame(X_train[i])) for i in range(X_train.shape[0])], ignore_index=True)\n"
     ]
    },
    {
     "data": {
      "text/html": [
       "\n",
       "              <p>\n",
       "                  Progress: 100% Complete\n",
       "              <p/>\n",
       "              <progress\n",
       "                  value='67'\n",
       "                  max='67',\n",
       "                  style='width: 25%',\n",
       "              >\n",
       "                  67\n",
       "              </progress>\n",
       "\n",
       "    "
      ],
      "text/plain": [
       "<IPython.core.display.HTML object>"
      ]
     },
     "metadata": {},
     "output_type": "display_data"
    },
    {
     "name": "stderr",
     "output_type": "stream",
     "text": [
      "C:\\Users\\Admin\\AppData\\Local\\Temp\\ipykernel_9472\\483276904.py:19: UserWarning: Using default sampling frequency set in configuration file.\n",
      "  X_train_tsfel = pd.concat([tsfel.time_series_features_extractor(cfg, pd.DataFrame(X_train[i])) for i in range(X_train.shape[0])], ignore_index=True)\n"
     ]
    },
    {
     "data": {
      "text/html": [
       "\n",
       "              <p>\n",
       "                  Progress: 100% Complete\n",
       "              <p/>\n",
       "              <progress\n",
       "                  value='67'\n",
       "                  max='67',\n",
       "                  style='width: 25%',\n",
       "              >\n",
       "                  67\n",
       "              </progress>\n",
       "\n",
       "    "
      ],
      "text/plain": [
       "<IPython.core.display.HTML object>"
      ]
     },
     "metadata": {},
     "output_type": "display_data"
    },
    {
     "name": "stderr",
     "output_type": "stream",
     "text": [
      "C:\\Users\\Admin\\AppData\\Local\\Temp\\ipykernel_9472\\483276904.py:19: UserWarning: Using default sampling frequency set in configuration file.\n",
      "  X_train_tsfel = pd.concat([tsfel.time_series_features_extractor(cfg, pd.DataFrame(X_train[i])) for i in range(X_train.shape[0])], ignore_index=True)\n"
     ]
    },
    {
     "data": {
      "text/html": [
       "\n",
       "              <p>\n",
       "                  Progress: 100% Complete\n",
       "              <p/>\n",
       "              <progress\n",
       "                  value='67'\n",
       "                  max='67',\n",
       "                  style='width: 25%',\n",
       "              >\n",
       "                  67\n",
       "              </progress>\n",
       "\n",
       "    "
      ],
      "text/plain": [
       "<IPython.core.display.HTML object>"
      ]
     },
     "metadata": {},
     "output_type": "display_data"
    },
    {
     "name": "stderr",
     "output_type": "stream",
     "text": [
      "C:\\Users\\Admin\\AppData\\Local\\Temp\\ipykernel_9472\\483276904.py:19: UserWarning: Using default sampling frequency set in configuration file.\n",
      "  X_train_tsfel = pd.concat([tsfel.time_series_features_extractor(cfg, pd.DataFrame(X_train[i])) for i in range(X_train.shape[0])], ignore_index=True)\n"
     ]
    },
    {
     "data": {
      "text/html": [
       "\n",
       "              <p>\n",
       "                  Progress: 100% Complete\n",
       "              <p/>\n",
       "              <progress\n",
       "                  value='67'\n",
       "                  max='67',\n",
       "                  style='width: 25%',\n",
       "              >\n",
       "                  67\n",
       "              </progress>\n",
       "\n",
       "    "
      ],
      "text/plain": [
       "<IPython.core.display.HTML object>"
      ]
     },
     "metadata": {},
     "output_type": "display_data"
    },
    {
     "name": "stderr",
     "output_type": "stream",
     "text": [
      "C:\\Users\\Admin\\AppData\\Local\\Temp\\ipykernel_9472\\483276904.py:19: UserWarning: Using default sampling frequency set in configuration file.\n",
      "  X_train_tsfel = pd.concat([tsfel.time_series_features_extractor(cfg, pd.DataFrame(X_train[i])) for i in range(X_train.shape[0])], ignore_index=True)\n"
     ]
    },
    {
     "data": {
      "text/html": [
       "\n",
       "              <p>\n",
       "                  Progress: 100% Complete\n",
       "              <p/>\n",
       "              <progress\n",
       "                  value='67'\n",
       "                  max='67',\n",
       "                  style='width: 25%',\n",
       "              >\n",
       "                  67\n",
       "              </progress>\n",
       "\n",
       "    "
      ],
      "text/plain": [
       "<IPython.core.display.HTML object>"
      ]
     },
     "metadata": {},
     "output_type": "display_data"
    },
    {
     "name": "stderr",
     "output_type": "stream",
     "text": [
      "C:\\Users\\Admin\\AppData\\Local\\Temp\\ipykernel_9472\\483276904.py:19: UserWarning: Using default sampling frequency set in configuration file.\n",
      "  X_train_tsfel = pd.concat([tsfel.time_series_features_extractor(cfg, pd.DataFrame(X_train[i])) for i in range(X_train.shape[0])], ignore_index=True)\n"
     ]
    },
    {
     "data": {
      "text/html": [
       "\n",
       "              <p>\n",
       "                  Progress: 100% Complete\n",
       "              <p/>\n",
       "              <progress\n",
       "                  value='67'\n",
       "                  max='67',\n",
       "                  style='width: 25%',\n",
       "              >\n",
       "                  67\n",
       "              </progress>\n",
       "\n",
       "    "
      ],
      "text/plain": [
       "<IPython.core.display.HTML object>"
      ]
     },
     "metadata": {},
     "output_type": "display_data"
    },
    {
     "name": "stderr",
     "output_type": "stream",
     "text": [
      "C:\\Users\\Admin\\AppData\\Local\\Temp\\ipykernel_9472\\483276904.py:19: UserWarning: Using default sampling frequency set in configuration file.\n",
      "  X_train_tsfel = pd.concat([tsfel.time_series_features_extractor(cfg, pd.DataFrame(X_train[i])) for i in range(X_train.shape[0])], ignore_index=True)\n"
     ]
    },
    {
     "data": {
      "text/html": [
       "\n",
       "              <p>\n",
       "                  Progress: 100% Complete\n",
       "              <p/>\n",
       "              <progress\n",
       "                  value='67'\n",
       "                  max='67',\n",
       "                  style='width: 25%',\n",
       "              >\n",
       "                  67\n",
       "              </progress>\n",
       "\n",
       "    "
      ],
      "text/plain": [
       "<IPython.core.display.HTML object>"
      ]
     },
     "metadata": {},
     "output_type": "display_data"
    },
    {
     "name": "stderr",
     "output_type": "stream",
     "text": [
      "C:\\Users\\Admin\\AppData\\Local\\Temp\\ipykernel_9472\\483276904.py:19: UserWarning: Using default sampling frequency set in configuration file.\n",
      "  X_train_tsfel = pd.concat([tsfel.time_series_features_extractor(cfg, pd.DataFrame(X_train[i])) for i in range(X_train.shape[0])], ignore_index=True)\n"
     ]
    },
    {
     "data": {
      "text/html": [
       "\n",
       "              <p>\n",
       "                  Progress: 100% Complete\n",
       "              <p/>\n",
       "              <progress\n",
       "                  value='67'\n",
       "                  max='67',\n",
       "                  style='width: 25%',\n",
       "              >\n",
       "                  67\n",
       "              </progress>\n",
       "\n",
       "    "
      ],
      "text/plain": [
       "<IPython.core.display.HTML object>"
      ]
     },
     "metadata": {},
     "output_type": "display_data"
    },
    {
     "name": "stderr",
     "output_type": "stream",
     "text": [
      "C:\\Users\\Admin\\AppData\\Local\\Temp\\ipykernel_9472\\483276904.py:19: UserWarning: Using default sampling frequency set in configuration file.\n",
      "  X_train_tsfel = pd.concat([tsfel.time_series_features_extractor(cfg, pd.DataFrame(X_train[i])) for i in range(X_train.shape[0])], ignore_index=True)\n"
     ]
    },
    {
     "data": {
      "text/html": [
       "\n",
       "              <p>\n",
       "                  Progress: 100% Complete\n",
       "              <p/>\n",
       "              <progress\n",
       "                  value='67'\n",
       "                  max='67',\n",
       "                  style='width: 25%',\n",
       "              >\n",
       "                  67\n",
       "              </progress>\n",
       "\n",
       "    "
      ],
      "text/plain": [
       "<IPython.core.display.HTML object>"
      ]
     },
     "metadata": {},
     "output_type": "display_data"
    },
    {
     "name": "stderr",
     "output_type": "stream",
     "text": [
      "C:\\Users\\Admin\\AppData\\Local\\Temp\\ipykernel_9472\\483276904.py:19: UserWarning: Using default sampling frequency set in configuration file.\n",
      "  X_train_tsfel = pd.concat([tsfel.time_series_features_extractor(cfg, pd.DataFrame(X_train[i])) for i in range(X_train.shape[0])], ignore_index=True)\n"
     ]
    },
    {
     "data": {
      "text/html": [
       "\n",
       "              <p>\n",
       "                  Progress: 100% Complete\n",
       "              <p/>\n",
       "              <progress\n",
       "                  value='67'\n",
       "                  max='67',\n",
       "                  style='width: 25%',\n",
       "              >\n",
       "                  67\n",
       "              </progress>\n",
       "\n",
       "    "
      ],
      "text/plain": [
       "<IPython.core.display.HTML object>"
      ]
     },
     "metadata": {},
     "output_type": "display_data"
    },
    {
     "name": "stderr",
     "output_type": "stream",
     "text": [
      "C:\\Users\\Admin\\AppData\\Local\\Temp\\ipykernel_9472\\483276904.py:19: UserWarning: Using default sampling frequency set in configuration file.\n",
      "  X_train_tsfel = pd.concat([tsfel.time_series_features_extractor(cfg, pd.DataFrame(X_train[i])) for i in range(X_train.shape[0])], ignore_index=True)\n"
     ]
    },
    {
     "data": {
      "text/html": [
       "\n",
       "              <p>\n",
       "                  Progress: 100% Complete\n",
       "              <p/>\n",
       "              <progress\n",
       "                  value='67'\n",
       "                  max='67',\n",
       "                  style='width: 25%',\n",
       "              >\n",
       "                  67\n",
       "              </progress>\n",
       "\n",
       "    "
      ],
      "text/plain": [
       "<IPython.core.display.HTML object>"
      ]
     },
     "metadata": {},
     "output_type": "display_data"
    },
    {
     "name": "stderr",
     "output_type": "stream",
     "text": [
      "C:\\Users\\Admin\\AppData\\Local\\Temp\\ipykernel_9472\\483276904.py:19: UserWarning: Using default sampling frequency set in configuration file.\n",
      "  X_train_tsfel = pd.concat([tsfel.time_series_features_extractor(cfg, pd.DataFrame(X_train[i])) for i in range(X_train.shape[0])], ignore_index=True)\n"
     ]
    },
    {
     "data": {
      "text/html": [
       "\n",
       "              <p>\n",
       "                  Progress: 100% Complete\n",
       "              <p/>\n",
       "              <progress\n",
       "                  value='67'\n",
       "                  max='67',\n",
       "                  style='width: 25%',\n",
       "              >\n",
       "                  67\n",
       "              </progress>\n",
       "\n",
       "    "
      ],
      "text/plain": [
       "<IPython.core.display.HTML object>"
      ]
     },
     "metadata": {},
     "output_type": "display_data"
    },
    {
     "name": "stderr",
     "output_type": "stream",
     "text": [
      "C:\\Users\\Admin\\AppData\\Local\\Temp\\ipykernel_9472\\483276904.py:19: UserWarning: Using default sampling frequency set in configuration file.\n",
      "  X_train_tsfel = pd.concat([tsfel.time_series_features_extractor(cfg, pd.DataFrame(X_train[i])) for i in range(X_train.shape[0])], ignore_index=True)\n"
     ]
    },
    {
     "data": {
      "text/html": [
       "\n",
       "              <p>\n",
       "                  Progress: 100% Complete\n",
       "              <p/>\n",
       "              <progress\n",
       "                  value='67'\n",
       "                  max='67',\n",
       "                  style='width: 25%',\n",
       "              >\n",
       "                  67\n",
       "              </progress>\n",
       "\n",
       "    "
      ],
      "text/plain": [
       "<IPython.core.display.HTML object>"
      ]
     },
     "metadata": {},
     "output_type": "display_data"
    },
    {
     "name": "stderr",
     "output_type": "stream",
     "text": [
      "C:\\Users\\Admin\\AppData\\Local\\Temp\\ipykernel_9472\\483276904.py:19: UserWarning: Using default sampling frequency set in configuration file.\n",
      "  X_train_tsfel = pd.concat([tsfel.time_series_features_extractor(cfg, pd.DataFrame(X_train[i])) for i in range(X_train.shape[0])], ignore_index=True)\n"
     ]
    },
    {
     "data": {
      "text/html": [
       "\n",
       "              <p>\n",
       "                  Progress: 100% Complete\n",
       "              <p/>\n",
       "              <progress\n",
       "                  value='67'\n",
       "                  max='67',\n",
       "                  style='width: 25%',\n",
       "              >\n",
       "                  67\n",
       "              </progress>\n",
       "\n",
       "    "
      ],
      "text/plain": [
       "<IPython.core.display.HTML object>"
      ]
     },
     "metadata": {},
     "output_type": "display_data"
    },
    {
     "name": "stderr",
     "output_type": "stream",
     "text": [
      "C:\\Users\\Admin\\AppData\\Local\\Temp\\ipykernel_9472\\483276904.py:19: UserWarning: Using default sampling frequency set in configuration file.\n",
      "  X_train_tsfel = pd.concat([tsfel.time_series_features_extractor(cfg, pd.DataFrame(X_train[i])) for i in range(X_train.shape[0])], ignore_index=True)\n"
     ]
    },
    {
     "data": {
      "text/html": [
       "\n",
       "              <p>\n",
       "                  Progress: 100% Complete\n",
       "              <p/>\n",
       "              <progress\n",
       "                  value='67'\n",
       "                  max='67',\n",
       "                  style='width: 25%',\n",
       "              >\n",
       "                  67\n",
       "              </progress>\n",
       "\n",
       "    "
      ],
      "text/plain": [
       "<IPython.core.display.HTML object>"
      ]
     },
     "metadata": {},
     "output_type": "display_data"
    },
    {
     "name": "stderr",
     "output_type": "stream",
     "text": [
      "C:\\Users\\Admin\\AppData\\Local\\Temp\\ipykernel_9472\\483276904.py:19: UserWarning: Using default sampling frequency set in configuration file.\n",
      "  X_train_tsfel = pd.concat([tsfel.time_series_features_extractor(cfg, pd.DataFrame(X_train[i])) for i in range(X_train.shape[0])], ignore_index=True)\n"
     ]
    },
    {
     "data": {
      "text/html": [
       "\n",
       "              <p>\n",
       "                  Progress: 100% Complete\n",
       "              <p/>\n",
       "              <progress\n",
       "                  value='67'\n",
       "                  max='67',\n",
       "                  style='width: 25%',\n",
       "              >\n",
       "                  67\n",
       "              </progress>\n",
       "\n",
       "    "
      ],
      "text/plain": [
       "<IPython.core.display.HTML object>"
      ]
     },
     "metadata": {},
     "output_type": "display_data"
    },
    {
     "name": "stderr",
     "output_type": "stream",
     "text": [
      "C:\\Users\\Admin\\AppData\\Local\\Temp\\ipykernel_9472\\483276904.py:19: UserWarning: Using default sampling frequency set in configuration file.\n",
      "  X_train_tsfel = pd.concat([tsfel.time_series_features_extractor(cfg, pd.DataFrame(X_train[i])) for i in range(X_train.shape[0])], ignore_index=True)\n"
     ]
    },
    {
     "data": {
      "text/html": [
       "\n",
       "              <p>\n",
       "                  Progress: 100% Complete\n",
       "              <p/>\n",
       "              <progress\n",
       "                  value='67'\n",
       "                  max='67',\n",
       "                  style='width: 25%',\n",
       "              >\n",
       "                  67\n",
       "              </progress>\n",
       "\n",
       "    "
      ],
      "text/plain": [
       "<IPython.core.display.HTML object>"
      ]
     },
     "metadata": {},
     "output_type": "display_data"
    },
    {
     "name": "stderr",
     "output_type": "stream",
     "text": [
      "C:\\Users\\Admin\\AppData\\Local\\Temp\\ipykernel_9472\\483276904.py:19: UserWarning: Using default sampling frequency set in configuration file.\n",
      "  X_train_tsfel = pd.concat([tsfel.time_series_features_extractor(cfg, pd.DataFrame(X_train[i])) for i in range(X_train.shape[0])], ignore_index=True)\n"
     ]
    },
    {
     "data": {
      "text/html": [
       "\n",
       "              <p>\n",
       "                  Progress: 100% Complete\n",
       "              <p/>\n",
       "              <progress\n",
       "                  value='67'\n",
       "                  max='67',\n",
       "                  style='width: 25%',\n",
       "              >\n",
       "                  67\n",
       "              </progress>\n",
       "\n",
       "    "
      ],
      "text/plain": [
       "<IPython.core.display.HTML object>"
      ]
     },
     "metadata": {},
     "output_type": "display_data"
    },
    {
     "name": "stderr",
     "output_type": "stream",
     "text": [
      "C:\\Users\\Admin\\AppData\\Local\\Temp\\ipykernel_9472\\483276904.py:19: UserWarning: Using default sampling frequency set in configuration file.\n",
      "  X_train_tsfel = pd.concat([tsfel.time_series_features_extractor(cfg, pd.DataFrame(X_train[i])) for i in range(X_train.shape[0])], ignore_index=True)\n"
     ]
    },
    {
     "data": {
      "text/html": [
       "\n",
       "              <p>\n",
       "                  Progress: 100% Complete\n",
       "              <p/>\n",
       "              <progress\n",
       "                  value='67'\n",
       "                  max='67',\n",
       "                  style='width: 25%',\n",
       "              >\n",
       "                  67\n",
       "              </progress>\n",
       "\n",
       "    "
      ],
      "text/plain": [
       "<IPython.core.display.HTML object>"
      ]
     },
     "metadata": {},
     "output_type": "display_data"
    },
    {
     "name": "stderr",
     "output_type": "stream",
     "text": [
      "C:\\Users\\Admin\\AppData\\Local\\Temp\\ipykernel_9472\\483276904.py:19: UserWarning: Using default sampling frequency set in configuration file.\n",
      "  X_train_tsfel = pd.concat([tsfel.time_series_features_extractor(cfg, pd.DataFrame(X_train[i])) for i in range(X_train.shape[0])], ignore_index=True)\n"
     ]
    },
    {
     "data": {
      "text/html": [
       "\n",
       "              <p>\n",
       "                  Progress: 100% Complete\n",
       "              <p/>\n",
       "              <progress\n",
       "                  value='67'\n",
       "                  max='67',\n",
       "                  style='width: 25%',\n",
       "              >\n",
       "                  67\n",
       "              </progress>\n",
       "\n",
       "    "
      ],
      "text/plain": [
       "<IPython.core.display.HTML object>"
      ]
     },
     "metadata": {},
     "output_type": "display_data"
    },
    {
     "name": "stderr",
     "output_type": "stream",
     "text": [
      "C:\\Users\\Admin\\AppData\\Local\\Temp\\ipykernel_9472\\483276904.py:19: UserWarning: Using default sampling frequency set in configuration file.\n",
      "  X_train_tsfel = pd.concat([tsfel.time_series_features_extractor(cfg, pd.DataFrame(X_train[i])) for i in range(X_train.shape[0])], ignore_index=True)\n"
     ]
    },
    {
     "data": {
      "text/html": [
       "\n",
       "              <p>\n",
       "                  Progress: 100% Complete\n",
       "              <p/>\n",
       "              <progress\n",
       "                  value='67'\n",
       "                  max='67',\n",
       "                  style='width: 25%',\n",
       "              >\n",
       "                  67\n",
       "              </progress>\n",
       "\n",
       "    "
      ],
      "text/plain": [
       "<IPython.core.display.HTML object>"
      ]
     },
     "metadata": {},
     "output_type": "display_data"
    },
    {
     "name": "stderr",
     "output_type": "stream",
     "text": [
      "C:\\Users\\Admin\\AppData\\Local\\Temp\\ipykernel_9472\\483276904.py:19: UserWarning: Using default sampling frequency set in configuration file.\n",
      "  X_train_tsfel = pd.concat([tsfel.time_series_features_extractor(cfg, pd.DataFrame(X_train[i])) for i in range(X_train.shape[0])], ignore_index=True)\n"
     ]
    },
    {
     "data": {
      "text/html": [
       "\n",
       "              <p>\n",
       "                  Progress: 100% Complete\n",
       "              <p/>\n",
       "              <progress\n",
       "                  value='67'\n",
       "                  max='67',\n",
       "                  style='width: 25%',\n",
       "              >\n",
       "                  67\n",
       "              </progress>\n",
       "\n",
       "    "
      ],
      "text/plain": [
       "<IPython.core.display.HTML object>"
      ]
     },
     "metadata": {},
     "output_type": "display_data"
    },
    {
     "name": "stderr",
     "output_type": "stream",
     "text": [
      "C:\\Users\\Admin\\AppData\\Local\\Temp\\ipykernel_9472\\483276904.py:19: UserWarning: Using default sampling frequency set in configuration file.\n",
      "  X_train_tsfel = pd.concat([tsfel.time_series_features_extractor(cfg, pd.DataFrame(X_train[i])) for i in range(X_train.shape[0])], ignore_index=True)\n"
     ]
    },
    {
     "data": {
      "text/html": [
       "\n",
       "              <p>\n",
       "                  Progress: 100% Complete\n",
       "              <p/>\n",
       "              <progress\n",
       "                  value='67'\n",
       "                  max='67',\n",
       "                  style='width: 25%',\n",
       "              >\n",
       "                  67\n",
       "              </progress>\n",
       "\n",
       "    "
      ],
      "text/plain": [
       "<IPython.core.display.HTML object>"
      ]
     },
     "metadata": {},
     "output_type": "display_data"
    },
    {
     "name": "stderr",
     "output_type": "stream",
     "text": [
      "C:\\Users\\Admin\\AppData\\Local\\Temp\\ipykernel_9472\\483276904.py:19: UserWarning: Using default sampling frequency set in configuration file.\n",
      "  X_train_tsfel = pd.concat([tsfel.time_series_features_extractor(cfg, pd.DataFrame(X_train[i])) for i in range(X_train.shape[0])], ignore_index=True)\n"
     ]
    },
    {
     "data": {
      "text/html": [
       "\n",
       "              <p>\n",
       "                  Progress: 100% Complete\n",
       "              <p/>\n",
       "              <progress\n",
       "                  value='67'\n",
       "                  max='67',\n",
       "                  style='width: 25%',\n",
       "              >\n",
       "                  67\n",
       "              </progress>\n",
       "\n",
       "    "
      ],
      "text/plain": [
       "<IPython.core.display.HTML object>"
      ]
     },
     "metadata": {},
     "output_type": "display_data"
    },
    {
     "name": "stderr",
     "output_type": "stream",
     "text": [
      "C:\\Users\\Admin\\AppData\\Local\\Temp\\ipykernel_9472\\483276904.py:19: UserWarning: Using default sampling frequency set in configuration file.\n",
      "  X_train_tsfel = pd.concat([tsfel.time_series_features_extractor(cfg, pd.DataFrame(X_train[i])) for i in range(X_train.shape[0])], ignore_index=True)\n"
     ]
    },
    {
     "data": {
      "text/html": [
       "\n",
       "              <p>\n",
       "                  Progress: 100% Complete\n",
       "              <p/>\n",
       "              <progress\n",
       "                  value='67'\n",
       "                  max='67',\n",
       "                  style='width: 25%',\n",
       "              >\n",
       "                  67\n",
       "              </progress>\n",
       "\n",
       "    "
      ],
      "text/plain": [
       "<IPython.core.display.HTML object>"
      ]
     },
     "metadata": {},
     "output_type": "display_data"
    },
    {
     "name": "stderr",
     "output_type": "stream",
     "text": [
      "C:\\Users\\Admin\\AppData\\Local\\Temp\\ipykernel_9472\\483276904.py:19: UserWarning: Using default sampling frequency set in configuration file.\n",
      "  X_train_tsfel = pd.concat([tsfel.time_series_features_extractor(cfg, pd.DataFrame(X_train[i])) for i in range(X_train.shape[0])], ignore_index=True)\n"
     ]
    },
    {
     "data": {
      "text/html": [
       "\n",
       "              <p>\n",
       "                  Progress: 100% Complete\n",
       "              <p/>\n",
       "              <progress\n",
       "                  value='67'\n",
       "                  max='67',\n",
       "                  style='width: 25%',\n",
       "              >\n",
       "                  67\n",
       "              </progress>\n",
       "\n",
       "    "
      ],
      "text/plain": [
       "<IPython.core.display.HTML object>"
      ]
     },
     "metadata": {},
     "output_type": "display_data"
    },
    {
     "name": "stderr",
     "output_type": "stream",
     "text": [
      "C:\\Users\\Admin\\AppData\\Local\\Temp\\ipykernel_9472\\483276904.py:19: UserWarning: Using default sampling frequency set in configuration file.\n",
      "  X_train_tsfel = pd.concat([tsfel.time_series_features_extractor(cfg, pd.DataFrame(X_train[i])) for i in range(X_train.shape[0])], ignore_index=True)\n"
     ]
    },
    {
     "data": {
      "text/html": [
       "\n",
       "              <p>\n",
       "                  Progress: 100% Complete\n",
       "              <p/>\n",
       "              <progress\n",
       "                  value='67'\n",
       "                  max='67',\n",
       "                  style='width: 25%',\n",
       "              >\n",
       "                  67\n",
       "              </progress>\n",
       "\n",
       "    "
      ],
      "text/plain": [
       "<IPython.core.display.HTML object>"
      ]
     },
     "metadata": {},
     "output_type": "display_data"
    },
    {
     "name": "stderr",
     "output_type": "stream",
     "text": [
      "C:\\Users\\Admin\\AppData\\Local\\Temp\\ipykernel_9472\\483276904.py:19: UserWarning: Using default sampling frequency set in configuration file.\n",
      "  X_train_tsfel = pd.concat([tsfel.time_series_features_extractor(cfg, pd.DataFrame(X_train[i])) for i in range(X_train.shape[0])], ignore_index=True)\n"
     ]
    },
    {
     "data": {
      "text/html": [
       "\n",
       "              <p>\n",
       "                  Progress: 100% Complete\n",
       "              <p/>\n",
       "              <progress\n",
       "                  value='67'\n",
       "                  max='67',\n",
       "                  style='width: 25%',\n",
       "              >\n",
       "                  67\n",
       "              </progress>\n",
       "\n",
       "    "
      ],
      "text/plain": [
       "<IPython.core.display.HTML object>"
      ]
     },
     "metadata": {},
     "output_type": "display_data"
    },
    {
     "name": "stderr",
     "output_type": "stream",
     "text": [
      "C:\\Users\\Admin\\AppData\\Local\\Temp\\ipykernel_9472\\483276904.py:19: UserWarning: Using default sampling frequency set in configuration file.\n",
      "  X_train_tsfel = pd.concat([tsfel.time_series_features_extractor(cfg, pd.DataFrame(X_train[i])) for i in range(X_train.shape[0])], ignore_index=True)\n"
     ]
    },
    {
     "data": {
      "text/html": [
       "\n",
       "              <p>\n",
       "                  Progress: 100% Complete\n",
       "              <p/>\n",
       "              <progress\n",
       "                  value='67'\n",
       "                  max='67',\n",
       "                  style='width: 25%',\n",
       "              >\n",
       "                  67\n",
       "              </progress>\n",
       "\n",
       "    "
      ],
      "text/plain": [
       "<IPython.core.display.HTML object>"
      ]
     },
     "metadata": {},
     "output_type": "display_data"
    },
    {
     "name": "stderr",
     "output_type": "stream",
     "text": [
      "C:\\Users\\Admin\\AppData\\Local\\Temp\\ipykernel_9472\\483276904.py:19: UserWarning: Using default sampling frequency set in configuration file.\n",
      "  X_train_tsfel = pd.concat([tsfel.time_series_features_extractor(cfg, pd.DataFrame(X_train[i])) for i in range(X_train.shape[0])], ignore_index=True)\n"
     ]
    },
    {
     "data": {
      "text/html": [
       "\n",
       "              <p>\n",
       "                  Progress: 100% Complete\n",
       "              <p/>\n",
       "              <progress\n",
       "                  value='67'\n",
       "                  max='67',\n",
       "                  style='width: 25%',\n",
       "              >\n",
       "                  67\n",
       "              </progress>\n",
       "\n",
       "    "
      ],
      "text/plain": [
       "<IPython.core.display.HTML object>"
      ]
     },
     "metadata": {},
     "output_type": "display_data"
    },
    {
     "name": "stderr",
     "output_type": "stream",
     "text": [
      "C:\\Users\\Admin\\AppData\\Local\\Temp\\ipykernel_9472\\483276904.py:19: UserWarning: Using default sampling frequency set in configuration file.\n",
      "  X_train_tsfel = pd.concat([tsfel.time_series_features_extractor(cfg, pd.DataFrame(X_train[i])) for i in range(X_train.shape[0])], ignore_index=True)\n"
     ]
    },
    {
     "data": {
      "text/html": [
       "\n",
       "              <p>\n",
       "                  Progress: 100% Complete\n",
       "              <p/>\n",
       "              <progress\n",
       "                  value='67'\n",
       "                  max='67',\n",
       "                  style='width: 25%',\n",
       "              >\n",
       "                  67\n",
       "              </progress>\n",
       "\n",
       "    "
      ],
      "text/plain": [
       "<IPython.core.display.HTML object>"
      ]
     },
     "metadata": {},
     "output_type": "display_data"
    },
    {
     "name": "stderr",
     "output_type": "stream",
     "text": [
      "C:\\Users\\Admin\\AppData\\Local\\Temp\\ipykernel_9472\\483276904.py:19: UserWarning: Using default sampling frequency set in configuration file.\n",
      "  X_train_tsfel = pd.concat([tsfel.time_series_features_extractor(cfg, pd.DataFrame(X_train[i])) for i in range(X_train.shape[0])], ignore_index=True)\n"
     ]
    },
    {
     "data": {
      "text/html": [
       "\n",
       "              <p>\n",
       "                  Progress: 100% Complete\n",
       "              <p/>\n",
       "              <progress\n",
       "                  value='67'\n",
       "                  max='67',\n",
       "                  style='width: 25%',\n",
       "              >\n",
       "                  67\n",
       "              </progress>\n",
       "\n",
       "    "
      ],
      "text/plain": [
       "<IPython.core.display.HTML object>"
      ]
     },
     "metadata": {},
     "output_type": "display_data"
    },
    {
     "name": "stderr",
     "output_type": "stream",
     "text": [
      "C:\\Users\\Admin\\AppData\\Local\\Temp\\ipykernel_9472\\483276904.py:19: UserWarning: Using default sampling frequency set in configuration file.\n",
      "  X_train_tsfel = pd.concat([tsfel.time_series_features_extractor(cfg, pd.DataFrame(X_train[i])) for i in range(X_train.shape[0])], ignore_index=True)\n"
     ]
    },
    {
     "data": {
      "text/html": [
       "\n",
       "              <p>\n",
       "                  Progress: 100% Complete\n",
       "              <p/>\n",
       "              <progress\n",
       "                  value='67'\n",
       "                  max='67',\n",
       "                  style='width: 25%',\n",
       "              >\n",
       "                  67\n",
       "              </progress>\n",
       "\n",
       "    "
      ],
      "text/plain": [
       "<IPython.core.display.HTML object>"
      ]
     },
     "metadata": {},
     "output_type": "display_data"
    },
    {
     "name": "stderr",
     "output_type": "stream",
     "text": [
      "C:\\Users\\Admin\\AppData\\Local\\Temp\\ipykernel_9472\\483276904.py:19: UserWarning: Using default sampling frequency set in configuration file.\n",
      "  X_train_tsfel = pd.concat([tsfel.time_series_features_extractor(cfg, pd.DataFrame(X_train[i])) for i in range(X_train.shape[0])], ignore_index=True)\n"
     ]
    },
    {
     "data": {
      "text/html": [
       "\n",
       "              <p>\n",
       "                  Progress: 100% Complete\n",
       "              <p/>\n",
       "              <progress\n",
       "                  value='67'\n",
       "                  max='67',\n",
       "                  style='width: 25%',\n",
       "              >\n",
       "                  67\n",
       "              </progress>\n",
       "\n",
       "    "
      ],
      "text/plain": [
       "<IPython.core.display.HTML object>"
      ]
     },
     "metadata": {},
     "output_type": "display_data"
    },
    {
     "name": "stderr",
     "output_type": "stream",
     "text": [
      "C:\\Users\\Admin\\AppData\\Local\\Temp\\ipykernel_9472\\483276904.py:19: UserWarning: Using default sampling frequency set in configuration file.\n",
      "  X_train_tsfel = pd.concat([tsfel.time_series_features_extractor(cfg, pd.DataFrame(X_train[i])) for i in range(X_train.shape[0])], ignore_index=True)\n"
     ]
    },
    {
     "data": {
      "text/html": [
       "\n",
       "              <p>\n",
       "                  Progress: 100% Complete\n",
       "              <p/>\n",
       "              <progress\n",
       "                  value='67'\n",
       "                  max='67',\n",
       "                  style='width: 25%',\n",
       "              >\n",
       "                  67\n",
       "              </progress>\n",
       "\n",
       "    "
      ],
      "text/plain": [
       "<IPython.core.display.HTML object>"
      ]
     },
     "metadata": {},
     "output_type": "display_data"
    },
    {
     "name": "stderr",
     "output_type": "stream",
     "text": [
      "C:\\Users\\Admin\\AppData\\Local\\Temp\\ipykernel_9472\\483276904.py:19: UserWarning: Using default sampling frequency set in configuration file.\n",
      "  X_train_tsfel = pd.concat([tsfel.time_series_features_extractor(cfg, pd.DataFrame(X_train[i])) for i in range(X_train.shape[0])], ignore_index=True)\n"
     ]
    },
    {
     "data": {
      "text/html": [
       "\n",
       "              <p>\n",
       "                  Progress: 100% Complete\n",
       "              <p/>\n",
       "              <progress\n",
       "                  value='67'\n",
       "                  max='67',\n",
       "                  style='width: 25%',\n",
       "              >\n",
       "                  67\n",
       "              </progress>\n",
       "\n",
       "    "
      ],
      "text/plain": [
       "<IPython.core.display.HTML object>"
      ]
     },
     "metadata": {},
     "output_type": "display_data"
    },
    {
     "name": "stderr",
     "output_type": "stream",
     "text": [
      "C:\\Users\\Admin\\AppData\\Local\\Temp\\ipykernel_9472\\483276904.py:19: UserWarning: Using default sampling frequency set in configuration file.\n",
      "  X_train_tsfel = pd.concat([tsfel.time_series_features_extractor(cfg, pd.DataFrame(X_train[i])) for i in range(X_train.shape[0])], ignore_index=True)\n"
     ]
    },
    {
     "data": {
      "text/html": [
       "\n",
       "              <p>\n",
       "                  Progress: 100% Complete\n",
       "              <p/>\n",
       "              <progress\n",
       "                  value='67'\n",
       "                  max='67',\n",
       "                  style='width: 25%',\n",
       "              >\n",
       "                  67\n",
       "              </progress>\n",
       "\n",
       "    "
      ],
      "text/plain": [
       "<IPython.core.display.HTML object>"
      ]
     },
     "metadata": {},
     "output_type": "display_data"
    },
    {
     "name": "stderr",
     "output_type": "stream",
     "text": [
      "C:\\Users\\Admin\\AppData\\Local\\Temp\\ipykernel_9472\\483276904.py:19: UserWarning: Using default sampling frequency set in configuration file.\n",
      "  X_train_tsfel = pd.concat([tsfel.time_series_features_extractor(cfg, pd.DataFrame(X_train[i])) for i in range(X_train.shape[0])], ignore_index=True)\n"
     ]
    },
    {
     "data": {
      "text/html": [
       "\n",
       "              <p>\n",
       "                  Progress: 100% Complete\n",
       "              <p/>\n",
       "              <progress\n",
       "                  value='67'\n",
       "                  max='67',\n",
       "                  style='width: 25%',\n",
       "              >\n",
       "                  67\n",
       "              </progress>\n",
       "\n",
       "    "
      ],
      "text/plain": [
       "<IPython.core.display.HTML object>"
      ]
     },
     "metadata": {},
     "output_type": "display_data"
    },
    {
     "name": "stderr",
     "output_type": "stream",
     "text": [
      "C:\\Users\\Admin\\AppData\\Local\\Temp\\ipykernel_9472\\483276904.py:19: UserWarning: Using default sampling frequency set in configuration file.\n",
      "  X_train_tsfel = pd.concat([tsfel.time_series_features_extractor(cfg, pd.DataFrame(X_train[i])) for i in range(X_train.shape[0])], ignore_index=True)\n"
     ]
    },
    {
     "data": {
      "text/html": [
       "\n",
       "              <p>\n",
       "                  Progress: 100% Complete\n",
       "              <p/>\n",
       "              <progress\n",
       "                  value='67'\n",
       "                  max='67',\n",
       "                  style='width: 25%',\n",
       "              >\n",
       "                  67\n",
       "              </progress>\n",
       "\n",
       "    "
      ],
      "text/plain": [
       "<IPython.core.display.HTML object>"
      ]
     },
     "metadata": {},
     "output_type": "display_data"
    },
    {
     "name": "stderr",
     "output_type": "stream",
     "text": [
      "C:\\Users\\Admin\\AppData\\Local\\Temp\\ipykernel_9472\\483276904.py:19: UserWarning: Using default sampling frequency set in configuration file.\n",
      "  X_train_tsfel = pd.concat([tsfel.time_series_features_extractor(cfg, pd.DataFrame(X_train[i])) for i in range(X_train.shape[0])], ignore_index=True)\n"
     ]
    },
    {
     "data": {
      "text/html": [
       "\n",
       "              <p>\n",
       "                  Progress: 100% Complete\n",
       "              <p/>\n",
       "              <progress\n",
       "                  value='67'\n",
       "                  max='67',\n",
       "                  style='width: 25%',\n",
       "              >\n",
       "                  67\n",
       "              </progress>\n",
       "\n",
       "    "
      ],
      "text/plain": [
       "<IPython.core.display.HTML object>"
      ]
     },
     "metadata": {},
     "output_type": "display_data"
    },
    {
     "name": "stderr",
     "output_type": "stream",
     "text": [
      "C:\\Users\\Admin\\AppData\\Local\\Temp\\ipykernel_9472\\483276904.py:19: UserWarning: Using default sampling frequency set in configuration file.\n",
      "  X_train_tsfel = pd.concat([tsfel.time_series_features_extractor(cfg, pd.DataFrame(X_train[i])) for i in range(X_train.shape[0])], ignore_index=True)\n"
     ]
    },
    {
     "data": {
      "text/html": [
       "\n",
       "              <p>\n",
       "                  Progress: 100% Complete\n",
       "              <p/>\n",
       "              <progress\n",
       "                  value='67'\n",
       "                  max='67',\n",
       "                  style='width: 25%',\n",
       "              >\n",
       "                  67\n",
       "              </progress>\n",
       "\n",
       "    "
      ],
      "text/plain": [
       "<IPython.core.display.HTML object>"
      ]
     },
     "metadata": {},
     "output_type": "display_data"
    },
    {
     "name": "stderr",
     "output_type": "stream",
     "text": [
      "C:\\Users\\Admin\\AppData\\Local\\Temp\\ipykernel_9472\\483276904.py:19: UserWarning: Using default sampling frequency set in configuration file.\n",
      "  X_train_tsfel = pd.concat([tsfel.time_series_features_extractor(cfg, pd.DataFrame(X_train[i])) for i in range(X_train.shape[0])], ignore_index=True)\n"
     ]
    },
    {
     "data": {
      "text/html": [
       "\n",
       "              <p>\n",
       "                  Progress: 100% Complete\n",
       "              <p/>\n",
       "              <progress\n",
       "                  value='67'\n",
       "                  max='67',\n",
       "                  style='width: 25%',\n",
       "              >\n",
       "                  67\n",
       "              </progress>\n",
       "\n",
       "    "
      ],
      "text/plain": [
       "<IPython.core.display.HTML object>"
      ]
     },
     "metadata": {},
     "output_type": "display_data"
    },
    {
     "name": "stderr",
     "output_type": "stream",
     "text": [
      "C:\\Users\\Admin\\AppData\\Local\\Temp\\ipykernel_9472\\483276904.py:19: UserWarning: Using default sampling frequency set in configuration file.\n",
      "  X_train_tsfel = pd.concat([tsfel.time_series_features_extractor(cfg, pd.DataFrame(X_train[i])) for i in range(X_train.shape[0])], ignore_index=True)\n"
     ]
    },
    {
     "data": {
      "text/html": [
       "\n",
       "              <p>\n",
       "                  Progress: 100% Complete\n",
       "              <p/>\n",
       "              <progress\n",
       "                  value='67'\n",
       "                  max='67',\n",
       "                  style='width: 25%',\n",
       "              >\n",
       "                  67\n",
       "              </progress>\n",
       "\n",
       "    "
      ],
      "text/plain": [
       "<IPython.core.display.HTML object>"
      ]
     },
     "metadata": {},
     "output_type": "display_data"
    },
    {
     "name": "stderr",
     "output_type": "stream",
     "text": [
      "C:\\Users\\Admin\\AppData\\Local\\Temp\\ipykernel_9472\\483276904.py:19: UserWarning: Using default sampling frequency set in configuration file.\n",
      "  X_train_tsfel = pd.concat([tsfel.time_series_features_extractor(cfg, pd.DataFrame(X_train[i])) for i in range(X_train.shape[0])], ignore_index=True)\n"
     ]
    },
    {
     "data": {
      "text/html": [
       "\n",
       "              <p>\n",
       "                  Progress: 100% Complete\n",
       "              <p/>\n",
       "              <progress\n",
       "                  value='67'\n",
       "                  max='67',\n",
       "                  style='width: 25%',\n",
       "              >\n",
       "                  67\n",
       "              </progress>\n",
       "\n",
       "    "
      ],
      "text/plain": [
       "<IPython.core.display.HTML object>"
      ]
     },
     "metadata": {},
     "output_type": "display_data"
    },
    {
     "name": "stderr",
     "output_type": "stream",
     "text": [
      "C:\\Users\\Admin\\AppData\\Local\\Temp\\ipykernel_9472\\483276904.py:19: UserWarning: Using default sampling frequency set in configuration file.\n",
      "  X_train_tsfel = pd.concat([tsfel.time_series_features_extractor(cfg, pd.DataFrame(X_train[i])) for i in range(X_train.shape[0])], ignore_index=True)\n"
     ]
    },
    {
     "data": {
      "text/html": [
       "\n",
       "              <p>\n",
       "                  Progress: 100% Complete\n",
       "              <p/>\n",
       "              <progress\n",
       "                  value='67'\n",
       "                  max='67',\n",
       "                  style='width: 25%',\n",
       "              >\n",
       "                  67\n",
       "              </progress>\n",
       "\n",
       "    "
      ],
      "text/plain": [
       "<IPython.core.display.HTML object>"
      ]
     },
     "metadata": {},
     "output_type": "display_data"
    },
    {
     "name": "stderr",
     "output_type": "stream",
     "text": [
      "C:\\Users\\Admin\\AppData\\Local\\Temp\\ipykernel_9472\\483276904.py:19: UserWarning: Using default sampling frequency set in configuration file.\n",
      "  X_train_tsfel = pd.concat([tsfel.time_series_features_extractor(cfg, pd.DataFrame(X_train[i])) for i in range(X_train.shape[0])], ignore_index=True)\n"
     ]
    },
    {
     "data": {
      "text/html": [
       "\n",
       "              <p>\n",
       "                  Progress: 100% Complete\n",
       "              <p/>\n",
       "              <progress\n",
       "                  value='67'\n",
       "                  max='67',\n",
       "                  style='width: 25%',\n",
       "              >\n",
       "                  67\n",
       "              </progress>\n",
       "\n",
       "    "
      ],
      "text/plain": [
       "<IPython.core.display.HTML object>"
      ]
     },
     "metadata": {},
     "output_type": "display_data"
    },
    {
     "name": "stderr",
     "output_type": "stream",
     "text": [
      "C:\\Users\\Admin\\AppData\\Local\\Temp\\ipykernel_9472\\483276904.py:19: UserWarning: Using default sampling frequency set in configuration file.\n",
      "  X_train_tsfel = pd.concat([tsfel.time_series_features_extractor(cfg, pd.DataFrame(X_train[i])) for i in range(X_train.shape[0])], ignore_index=True)\n"
     ]
    },
    {
     "data": {
      "text/html": [
       "\n",
       "              <p>\n",
       "                  Progress: 100% Complete\n",
       "              <p/>\n",
       "              <progress\n",
       "                  value='67'\n",
       "                  max='67',\n",
       "                  style='width: 25%',\n",
       "              >\n",
       "                  67\n",
       "              </progress>\n",
       "\n",
       "    "
      ],
      "text/plain": [
       "<IPython.core.display.HTML object>"
      ]
     },
     "metadata": {},
     "output_type": "display_data"
    },
    {
     "name": "stderr",
     "output_type": "stream",
     "text": [
      "C:\\Users\\Admin\\AppData\\Local\\Temp\\ipykernel_9472\\483276904.py:19: UserWarning: Using default sampling frequency set in configuration file.\n",
      "  X_train_tsfel = pd.concat([tsfel.time_series_features_extractor(cfg, pd.DataFrame(X_train[i])) for i in range(X_train.shape[0])], ignore_index=True)\n"
     ]
    },
    {
     "data": {
      "text/html": [
       "\n",
       "              <p>\n",
       "                  Progress: 100% Complete\n",
       "              <p/>\n",
       "              <progress\n",
       "                  value='67'\n",
       "                  max='67',\n",
       "                  style='width: 25%',\n",
       "              >\n",
       "                  67\n",
       "              </progress>\n",
       "\n",
       "    "
      ],
      "text/plain": [
       "<IPython.core.display.HTML object>"
      ]
     },
     "metadata": {},
     "output_type": "display_data"
    },
    {
     "name": "stderr",
     "output_type": "stream",
     "text": [
      "C:\\Users\\Admin\\AppData\\Local\\Temp\\ipykernel_9472\\483276904.py:19: UserWarning: Using default sampling frequency set in configuration file.\n",
      "  X_train_tsfel = pd.concat([tsfel.time_series_features_extractor(cfg, pd.DataFrame(X_train[i])) for i in range(X_train.shape[0])], ignore_index=True)\n"
     ]
    },
    {
     "data": {
      "text/html": [
       "\n",
       "              <p>\n",
       "                  Progress: 100% Complete\n",
       "              <p/>\n",
       "              <progress\n",
       "                  value='67'\n",
       "                  max='67',\n",
       "                  style='width: 25%',\n",
       "              >\n",
       "                  67\n",
       "              </progress>\n",
       "\n",
       "    "
      ],
      "text/plain": [
       "<IPython.core.display.HTML object>"
      ]
     },
     "metadata": {},
     "output_type": "display_data"
    },
    {
     "name": "stderr",
     "output_type": "stream",
     "text": [
      "C:\\Users\\Admin\\AppData\\Local\\Temp\\ipykernel_9472\\483276904.py:19: UserWarning: Using default sampling frequency set in configuration file.\n",
      "  X_train_tsfel = pd.concat([tsfel.time_series_features_extractor(cfg, pd.DataFrame(X_train[i])) for i in range(X_train.shape[0])], ignore_index=True)\n"
     ]
    },
    {
     "data": {
      "text/html": [
       "\n",
       "              <p>\n",
       "                  Progress: 100% Complete\n",
       "              <p/>\n",
       "              <progress\n",
       "                  value='67'\n",
       "                  max='67',\n",
       "                  style='width: 25%',\n",
       "              >\n",
       "                  67\n",
       "              </progress>\n",
       "\n",
       "    "
      ],
      "text/plain": [
       "<IPython.core.display.HTML object>"
      ]
     },
     "metadata": {},
     "output_type": "display_data"
    },
    {
     "name": "stderr",
     "output_type": "stream",
     "text": [
      "C:\\Users\\Admin\\AppData\\Local\\Temp\\ipykernel_9472\\483276904.py:19: UserWarning: Using default sampling frequency set in configuration file.\n",
      "  X_train_tsfel = pd.concat([tsfel.time_series_features_extractor(cfg, pd.DataFrame(X_train[i])) for i in range(X_train.shape[0])], ignore_index=True)\n"
     ]
    },
    {
     "data": {
      "text/html": [
       "\n",
       "              <p>\n",
       "                  Progress: 100% Complete\n",
       "              <p/>\n",
       "              <progress\n",
       "                  value='67'\n",
       "                  max='67',\n",
       "                  style='width: 25%',\n",
       "              >\n",
       "                  67\n",
       "              </progress>\n",
       "\n",
       "    "
      ],
      "text/plain": [
       "<IPython.core.display.HTML object>"
      ]
     },
     "metadata": {},
     "output_type": "display_data"
    },
    {
     "name": "stderr",
     "output_type": "stream",
     "text": [
      "C:\\Users\\Admin\\AppData\\Local\\Temp\\ipykernel_9472\\483276904.py:19: UserWarning: Using default sampling frequency set in configuration file.\n",
      "  X_train_tsfel = pd.concat([tsfel.time_series_features_extractor(cfg, pd.DataFrame(X_train[i])) for i in range(X_train.shape[0])], ignore_index=True)\n"
     ]
    },
    {
     "data": {
      "text/html": [
       "\n",
       "              <p>\n",
       "                  Progress: 100% Complete\n",
       "              <p/>\n",
       "              <progress\n",
       "                  value='67'\n",
       "                  max='67',\n",
       "                  style='width: 25%',\n",
       "              >\n",
       "                  67\n",
       "              </progress>\n",
       "\n",
       "    "
      ],
      "text/plain": [
       "<IPython.core.display.HTML object>"
      ]
     },
     "metadata": {},
     "output_type": "display_data"
    },
    {
     "name": "stderr",
     "output_type": "stream",
     "text": [
      "C:\\Users\\Admin\\AppData\\Local\\Temp\\ipykernel_9472\\483276904.py:19: UserWarning: Using default sampling frequency set in configuration file.\n",
      "  X_train_tsfel = pd.concat([tsfel.time_series_features_extractor(cfg, pd.DataFrame(X_train[i])) for i in range(X_train.shape[0])], ignore_index=True)\n"
     ]
    },
    {
     "data": {
      "text/html": [
       "\n",
       "              <p>\n",
       "                  Progress: 100% Complete\n",
       "              <p/>\n",
       "              <progress\n",
       "                  value='67'\n",
       "                  max='67',\n",
       "                  style='width: 25%',\n",
       "              >\n",
       "                  67\n",
       "              </progress>\n",
       "\n",
       "    "
      ],
      "text/plain": [
       "<IPython.core.display.HTML object>"
      ]
     },
     "metadata": {},
     "output_type": "display_data"
    },
    {
     "name": "stderr",
     "output_type": "stream",
     "text": [
      "C:\\Users\\Admin\\AppData\\Local\\Temp\\ipykernel_9472\\483276904.py:19: UserWarning: Using default sampling frequency set in configuration file.\n",
      "  X_train_tsfel = pd.concat([tsfel.time_series_features_extractor(cfg, pd.DataFrame(X_train[i])) for i in range(X_train.shape[0])], ignore_index=True)\n"
     ]
    },
    {
     "data": {
      "text/html": [
       "\n",
       "              <p>\n",
       "                  Progress: 100% Complete\n",
       "              <p/>\n",
       "              <progress\n",
       "                  value='67'\n",
       "                  max='67',\n",
       "                  style='width: 25%',\n",
       "              >\n",
       "                  67\n",
       "              </progress>\n",
       "\n",
       "    "
      ],
      "text/plain": [
       "<IPython.core.display.HTML object>"
      ]
     },
     "metadata": {},
     "output_type": "display_data"
    },
    {
     "name": "stderr",
     "output_type": "stream",
     "text": [
      "C:\\Users\\Admin\\AppData\\Local\\Temp\\ipykernel_9472\\483276904.py:19: UserWarning: Using default sampling frequency set in configuration file.\n",
      "  X_train_tsfel = pd.concat([tsfel.time_series_features_extractor(cfg, pd.DataFrame(X_train[i])) for i in range(X_train.shape[0])], ignore_index=True)\n"
     ]
    },
    {
     "data": {
      "text/html": [
       "\n",
       "              <p>\n",
       "                  Progress: 100% Complete\n",
       "              <p/>\n",
       "              <progress\n",
       "                  value='67'\n",
       "                  max='67',\n",
       "                  style='width: 25%',\n",
       "              >\n",
       "                  67\n",
       "              </progress>\n",
       "\n",
       "    "
      ],
      "text/plain": [
       "<IPython.core.display.HTML object>"
      ]
     },
     "metadata": {},
     "output_type": "display_data"
    },
    {
     "name": "stderr",
     "output_type": "stream",
     "text": [
      "C:\\Users\\Admin\\AppData\\Local\\Temp\\ipykernel_9472\\483276904.py:19: UserWarning: Using default sampling frequency set in configuration file.\n",
      "  X_train_tsfel = pd.concat([tsfel.time_series_features_extractor(cfg, pd.DataFrame(X_train[i])) for i in range(X_train.shape[0])], ignore_index=True)\n"
     ]
    },
    {
     "data": {
      "text/html": [
       "\n",
       "              <p>\n",
       "                  Progress: 100% Complete\n",
       "              <p/>\n",
       "              <progress\n",
       "                  value='67'\n",
       "                  max='67',\n",
       "                  style='width: 25%',\n",
       "              >\n",
       "                  67\n",
       "              </progress>\n",
       "\n",
       "    "
      ],
      "text/plain": [
       "<IPython.core.display.HTML object>"
      ]
     },
     "metadata": {},
     "output_type": "display_data"
    },
    {
     "name": "stderr",
     "output_type": "stream",
     "text": [
      "C:\\Users\\Admin\\AppData\\Local\\Temp\\ipykernel_9472\\483276904.py:19: UserWarning: Using default sampling frequency set in configuration file.\n",
      "  X_train_tsfel = pd.concat([tsfel.time_series_features_extractor(cfg, pd.DataFrame(X_train[i])) for i in range(X_train.shape[0])], ignore_index=True)\n"
     ]
    },
    {
     "data": {
      "text/html": [
       "\n",
       "              <p>\n",
       "                  Progress: 100% Complete\n",
       "              <p/>\n",
       "              <progress\n",
       "                  value='67'\n",
       "                  max='67',\n",
       "                  style='width: 25%',\n",
       "              >\n",
       "                  67\n",
       "              </progress>\n",
       "\n",
       "    "
      ],
      "text/plain": [
       "<IPython.core.display.HTML object>"
      ]
     },
     "metadata": {},
     "output_type": "display_data"
    },
    {
     "name": "stderr",
     "output_type": "stream",
     "text": [
      "C:\\Users\\Admin\\AppData\\Local\\Temp\\ipykernel_9472\\483276904.py:19: UserWarning: Using default sampling frequency set in configuration file.\n",
      "  X_train_tsfel = pd.concat([tsfel.time_series_features_extractor(cfg, pd.DataFrame(X_train[i])) for i in range(X_train.shape[0])], ignore_index=True)\n"
     ]
    },
    {
     "data": {
      "text/html": [
       "\n",
       "              <p>\n",
       "                  Progress: 100% Complete\n",
       "              <p/>\n",
       "              <progress\n",
       "                  value='67'\n",
       "                  max='67',\n",
       "                  style='width: 25%',\n",
       "              >\n",
       "                  67\n",
       "              </progress>\n",
       "\n",
       "    "
      ],
      "text/plain": [
       "<IPython.core.display.HTML object>"
      ]
     },
     "metadata": {},
     "output_type": "display_data"
    },
    {
     "name": "stderr",
     "output_type": "stream",
     "text": [
      "C:\\Users\\Admin\\AppData\\Local\\Temp\\ipykernel_9472\\483276904.py:19: UserWarning: Using default sampling frequency set in configuration file.\n",
      "  X_train_tsfel = pd.concat([tsfel.time_series_features_extractor(cfg, pd.DataFrame(X_train[i])) for i in range(X_train.shape[0])], ignore_index=True)\n"
     ]
    },
    {
     "data": {
      "text/html": [
       "\n",
       "              <p>\n",
       "                  Progress: 100% Complete\n",
       "              <p/>\n",
       "              <progress\n",
       "                  value='67'\n",
       "                  max='67',\n",
       "                  style='width: 25%',\n",
       "              >\n",
       "                  67\n",
       "              </progress>\n",
       "\n",
       "    "
      ],
      "text/plain": [
       "<IPython.core.display.HTML object>"
      ]
     },
     "metadata": {},
     "output_type": "display_data"
    },
    {
     "name": "stderr",
     "output_type": "stream",
     "text": [
      "C:\\Users\\Admin\\AppData\\Local\\Temp\\ipykernel_9472\\483276904.py:19: UserWarning: Using default sampling frequency set in configuration file.\n",
      "  X_train_tsfel = pd.concat([tsfel.time_series_features_extractor(cfg, pd.DataFrame(X_train[i])) for i in range(X_train.shape[0])], ignore_index=True)\n"
     ]
    },
    {
     "data": {
      "text/html": [
       "\n",
       "              <p>\n",
       "                  Progress: 100% Complete\n",
       "              <p/>\n",
       "              <progress\n",
       "                  value='67'\n",
       "                  max='67',\n",
       "                  style='width: 25%',\n",
       "              >\n",
       "                  67\n",
       "              </progress>\n",
       "\n",
       "    "
      ],
      "text/plain": [
       "<IPython.core.display.HTML object>"
      ]
     },
     "metadata": {},
     "output_type": "display_data"
    },
    {
     "name": "stderr",
     "output_type": "stream",
     "text": [
      "C:\\Users\\Admin\\AppData\\Local\\Temp\\ipykernel_9472\\483276904.py:19: UserWarning: Using default sampling frequency set in configuration file.\n",
      "  X_train_tsfel = pd.concat([tsfel.time_series_features_extractor(cfg, pd.DataFrame(X_train[i])) for i in range(X_train.shape[0])], ignore_index=True)\n"
     ]
    },
    {
     "data": {
      "text/html": [
       "\n",
       "              <p>\n",
       "                  Progress: 100% Complete\n",
       "              <p/>\n",
       "              <progress\n",
       "                  value='67'\n",
       "                  max='67',\n",
       "                  style='width: 25%',\n",
       "              >\n",
       "                  67\n",
       "              </progress>\n",
       "\n",
       "    "
      ],
      "text/plain": [
       "<IPython.core.display.HTML object>"
      ]
     },
     "metadata": {},
     "output_type": "display_data"
    },
    {
     "name": "stderr",
     "output_type": "stream",
     "text": [
      "C:\\Users\\Admin\\AppData\\Local\\Temp\\ipykernel_9472\\483276904.py:19: UserWarning: Using default sampling frequency set in configuration file.\n",
      "  X_train_tsfel = pd.concat([tsfel.time_series_features_extractor(cfg, pd.DataFrame(X_train[i])) for i in range(X_train.shape[0])], ignore_index=True)\n"
     ]
    },
    {
     "data": {
      "text/html": [
       "\n",
       "              <p>\n",
       "                  Progress: 100% Complete\n",
       "              <p/>\n",
       "              <progress\n",
       "                  value='67'\n",
       "                  max='67',\n",
       "                  style='width: 25%',\n",
       "              >\n",
       "                  67\n",
       "              </progress>\n",
       "\n",
       "    "
      ],
      "text/plain": [
       "<IPython.core.display.HTML object>"
      ]
     },
     "metadata": {},
     "output_type": "display_data"
    },
    {
     "name": "stderr",
     "output_type": "stream",
     "text": [
      "C:\\Users\\Admin\\AppData\\Local\\Temp\\ipykernel_9472\\483276904.py:19: UserWarning: Using default sampling frequency set in configuration file.\n",
      "  X_train_tsfel = pd.concat([tsfel.time_series_features_extractor(cfg, pd.DataFrame(X_train[i])) for i in range(X_train.shape[0])], ignore_index=True)\n"
     ]
    },
    {
     "data": {
      "text/html": [
       "\n",
       "              <p>\n",
       "                  Progress: 100% Complete\n",
       "              <p/>\n",
       "              <progress\n",
       "                  value='67'\n",
       "                  max='67',\n",
       "                  style='width: 25%',\n",
       "              >\n",
       "                  67\n",
       "              </progress>\n",
       "\n",
       "    "
      ],
      "text/plain": [
       "<IPython.core.display.HTML object>"
      ]
     },
     "metadata": {},
     "output_type": "display_data"
    },
    {
     "name": "stderr",
     "output_type": "stream",
     "text": [
      "C:\\Users\\Admin\\AppData\\Local\\Temp\\ipykernel_9472\\483276904.py:19: UserWarning: Using default sampling frequency set in configuration file.\n",
      "  X_train_tsfel = pd.concat([tsfel.time_series_features_extractor(cfg, pd.DataFrame(X_train[i])) for i in range(X_train.shape[0])], ignore_index=True)\n"
     ]
    },
    {
     "data": {
      "text/html": [
       "\n",
       "              <p>\n",
       "                  Progress: 100% Complete\n",
       "              <p/>\n",
       "              <progress\n",
       "                  value='67'\n",
       "                  max='67',\n",
       "                  style='width: 25%',\n",
       "              >\n",
       "                  67\n",
       "              </progress>\n",
       "\n",
       "    "
      ],
      "text/plain": [
       "<IPython.core.display.HTML object>"
      ]
     },
     "metadata": {},
     "output_type": "display_data"
    },
    {
     "name": "stderr",
     "output_type": "stream",
     "text": [
      "C:\\Users\\Admin\\AppData\\Local\\Temp\\ipykernel_9472\\483276904.py:19: UserWarning: Using default sampling frequency set in configuration file.\n",
      "  X_train_tsfel = pd.concat([tsfel.time_series_features_extractor(cfg, pd.DataFrame(X_train[i])) for i in range(X_train.shape[0])], ignore_index=True)\n"
     ]
    },
    {
     "data": {
      "text/html": [
       "\n",
       "              <p>\n",
       "                  Progress: 100% Complete\n",
       "              <p/>\n",
       "              <progress\n",
       "                  value='67'\n",
       "                  max='67',\n",
       "                  style='width: 25%',\n",
       "              >\n",
       "                  67\n",
       "              </progress>\n",
       "\n",
       "    "
      ],
      "text/plain": [
       "<IPython.core.display.HTML object>"
      ]
     },
     "metadata": {},
     "output_type": "display_data"
    },
    {
     "name": "stderr",
     "output_type": "stream",
     "text": [
      "C:\\Users\\Admin\\AppData\\Local\\Temp\\ipykernel_9472\\483276904.py:19: UserWarning: Using default sampling frequency set in configuration file.\n",
      "  X_train_tsfel = pd.concat([tsfel.time_series_features_extractor(cfg, pd.DataFrame(X_train[i])) for i in range(X_train.shape[0])], ignore_index=True)\n"
     ]
    },
    {
     "data": {
      "text/html": [
       "\n",
       "              <p>\n",
       "                  Progress: 100% Complete\n",
       "              <p/>\n",
       "              <progress\n",
       "                  value='67'\n",
       "                  max='67',\n",
       "                  style='width: 25%',\n",
       "              >\n",
       "                  67\n",
       "              </progress>\n",
       "\n",
       "    "
      ],
      "text/plain": [
       "<IPython.core.display.HTML object>"
      ]
     },
     "metadata": {},
     "output_type": "display_data"
    },
    {
     "name": "stderr",
     "output_type": "stream",
     "text": [
      "C:\\Users\\Admin\\AppData\\Local\\Temp\\ipykernel_9472\\483276904.py:19: UserWarning: Using default sampling frequency set in configuration file.\n",
      "  X_train_tsfel = pd.concat([tsfel.time_series_features_extractor(cfg, pd.DataFrame(X_train[i])) for i in range(X_train.shape[0])], ignore_index=True)\n"
     ]
    },
    {
     "data": {
      "text/html": [
       "\n",
       "              <p>\n",
       "                  Progress: 100% Complete\n",
       "              <p/>\n",
       "              <progress\n",
       "                  value='67'\n",
       "                  max='67',\n",
       "                  style='width: 25%',\n",
       "              >\n",
       "                  67\n",
       "              </progress>\n",
       "\n",
       "    "
      ],
      "text/plain": [
       "<IPython.core.display.HTML object>"
      ]
     },
     "metadata": {},
     "output_type": "display_data"
    },
    {
     "name": "stderr",
     "output_type": "stream",
     "text": [
      "C:\\Users\\Admin\\AppData\\Local\\Temp\\ipykernel_9472\\483276904.py:19: UserWarning: Using default sampling frequency set in configuration file.\n",
      "  X_train_tsfel = pd.concat([tsfel.time_series_features_extractor(cfg, pd.DataFrame(X_train[i])) for i in range(X_train.shape[0])], ignore_index=True)\n"
     ]
    },
    {
     "data": {
      "text/html": [
       "\n",
       "              <p>\n",
       "                  Progress: 100% Complete\n",
       "              <p/>\n",
       "              <progress\n",
       "                  value='67'\n",
       "                  max='67',\n",
       "                  style='width: 25%',\n",
       "              >\n",
       "                  67\n",
       "              </progress>\n",
       "\n",
       "    "
      ],
      "text/plain": [
       "<IPython.core.display.HTML object>"
      ]
     },
     "metadata": {},
     "output_type": "display_data"
    },
    {
     "name": "stderr",
     "output_type": "stream",
     "text": [
      "C:\\Users\\Admin\\AppData\\Local\\Temp\\ipykernel_9472\\483276904.py:19: UserWarning: Using default sampling frequency set in configuration file.\n",
      "  X_train_tsfel = pd.concat([tsfel.time_series_features_extractor(cfg, pd.DataFrame(X_train[i])) for i in range(X_train.shape[0])], ignore_index=True)\n"
     ]
    },
    {
     "data": {
      "text/html": [
       "\n",
       "              <p>\n",
       "                  Progress: 100% Complete\n",
       "              <p/>\n",
       "              <progress\n",
       "                  value='67'\n",
       "                  max='67',\n",
       "                  style='width: 25%',\n",
       "              >\n",
       "                  67\n",
       "              </progress>\n",
       "\n",
       "    "
      ],
      "text/plain": [
       "<IPython.core.display.HTML object>"
      ]
     },
     "metadata": {},
     "output_type": "display_data"
    },
    {
     "name": "stderr",
     "output_type": "stream",
     "text": [
      "C:\\Users\\Admin\\AppData\\Local\\Temp\\ipykernel_9472\\483276904.py:19: UserWarning: Using default sampling frequency set in configuration file.\n",
      "  X_train_tsfel = pd.concat([tsfel.time_series_features_extractor(cfg, pd.DataFrame(X_train[i])) for i in range(X_train.shape[0])], ignore_index=True)\n"
     ]
    },
    {
     "data": {
      "text/html": [
       "\n",
       "              <p>\n",
       "                  Progress: 100% Complete\n",
       "              <p/>\n",
       "              <progress\n",
       "                  value='67'\n",
       "                  max='67',\n",
       "                  style='width: 25%',\n",
       "              >\n",
       "                  67\n",
       "              </progress>\n",
       "\n",
       "    "
      ],
      "text/plain": [
       "<IPython.core.display.HTML object>"
      ]
     },
     "metadata": {},
     "output_type": "display_data"
    },
    {
     "name": "stderr",
     "output_type": "stream",
     "text": [
      "C:\\Users\\Admin\\AppData\\Local\\Temp\\ipykernel_9472\\483276904.py:19: UserWarning: Using default sampling frequency set in configuration file.\n",
      "  X_train_tsfel = pd.concat([tsfel.time_series_features_extractor(cfg, pd.DataFrame(X_train[i])) for i in range(X_train.shape[0])], ignore_index=True)\n"
     ]
    },
    {
     "data": {
      "text/html": [
       "\n",
       "              <p>\n",
       "                  Progress: 100% Complete\n",
       "              <p/>\n",
       "              <progress\n",
       "                  value='67'\n",
       "                  max='67',\n",
       "                  style='width: 25%',\n",
       "              >\n",
       "                  67\n",
       "              </progress>\n",
       "\n",
       "    "
      ],
      "text/plain": [
       "<IPython.core.display.HTML object>"
      ]
     },
     "metadata": {},
     "output_type": "display_data"
    },
    {
     "name": "stderr",
     "output_type": "stream",
     "text": [
      "C:\\Users\\Admin\\AppData\\Local\\Temp\\ipykernel_9472\\483276904.py:19: UserWarning: Using default sampling frequency set in configuration file.\n",
      "  X_train_tsfel = pd.concat([tsfel.time_series_features_extractor(cfg, pd.DataFrame(X_train[i])) for i in range(X_train.shape[0])], ignore_index=True)\n"
     ]
    },
    {
     "data": {
      "text/html": [
       "\n",
       "              <p>\n",
       "                  Progress: 100% Complete\n",
       "              <p/>\n",
       "              <progress\n",
       "                  value='67'\n",
       "                  max='67',\n",
       "                  style='width: 25%',\n",
       "              >\n",
       "                  67\n",
       "              </progress>\n",
       "\n",
       "    "
      ],
      "text/plain": [
       "<IPython.core.display.HTML object>"
      ]
     },
     "metadata": {},
     "output_type": "display_data"
    },
    {
     "name": "stderr",
     "output_type": "stream",
     "text": [
      "C:\\Users\\Admin\\AppData\\Local\\Temp\\ipykernel_9472\\483276904.py:19: UserWarning: Using default sampling frequency set in configuration file.\n",
      "  X_train_tsfel = pd.concat([tsfel.time_series_features_extractor(cfg, pd.DataFrame(X_train[i])) for i in range(X_train.shape[0])], ignore_index=True)\n"
     ]
    },
    {
     "data": {
      "text/html": [
       "\n",
       "              <p>\n",
       "                  Progress: 100% Complete\n",
       "              <p/>\n",
       "              <progress\n",
       "                  value='67'\n",
       "                  max='67',\n",
       "                  style='width: 25%',\n",
       "              >\n",
       "                  67\n",
       "              </progress>\n",
       "\n",
       "    "
      ],
      "text/plain": [
       "<IPython.core.display.HTML object>"
      ]
     },
     "metadata": {},
     "output_type": "display_data"
    },
    {
     "name": "stderr",
     "output_type": "stream",
     "text": [
      "C:\\Users\\Admin\\AppData\\Local\\Temp\\ipykernel_9472\\483276904.py:19: UserWarning: Using default sampling frequency set in configuration file.\n",
      "  X_train_tsfel = pd.concat([tsfel.time_series_features_extractor(cfg, pd.DataFrame(X_train[i])) for i in range(X_train.shape[0])], ignore_index=True)\n"
     ]
    },
    {
     "data": {
      "text/html": [
       "\n",
       "              <p>\n",
       "                  Progress: 100% Complete\n",
       "              <p/>\n",
       "              <progress\n",
       "                  value='67'\n",
       "                  max='67',\n",
       "                  style='width: 25%',\n",
       "              >\n",
       "                  67\n",
       "              </progress>\n",
       "\n",
       "    "
      ],
      "text/plain": [
       "<IPython.core.display.HTML object>"
      ]
     },
     "metadata": {},
     "output_type": "display_data"
    },
    {
     "name": "stderr",
     "output_type": "stream",
     "text": [
      "C:\\Users\\Admin\\AppData\\Local\\Temp\\ipykernel_9472\\483276904.py:19: UserWarning: Using default sampling frequency set in configuration file.\n",
      "  X_train_tsfel = pd.concat([tsfel.time_series_features_extractor(cfg, pd.DataFrame(X_train[i])) for i in range(X_train.shape[0])], ignore_index=True)\n"
     ]
    },
    {
     "data": {
      "text/html": [
       "\n",
       "              <p>\n",
       "                  Progress: 100% Complete\n",
       "              <p/>\n",
       "              <progress\n",
       "                  value='67'\n",
       "                  max='67',\n",
       "                  style='width: 25%',\n",
       "              >\n",
       "                  67\n",
       "              </progress>\n",
       "\n",
       "    "
      ],
      "text/plain": [
       "<IPython.core.display.HTML object>"
      ]
     },
     "metadata": {},
     "output_type": "display_data"
    },
    {
     "name": "stderr",
     "output_type": "stream",
     "text": [
      "C:\\Users\\Admin\\AppData\\Local\\Temp\\ipykernel_9472\\483276904.py:19: UserWarning: Using default sampling frequency set in configuration file.\n",
      "  X_train_tsfel = pd.concat([tsfel.time_series_features_extractor(cfg, pd.DataFrame(X_train[i])) for i in range(X_train.shape[0])], ignore_index=True)\n"
     ]
    },
    {
     "data": {
      "text/html": [
       "\n",
       "              <p>\n",
       "                  Progress: 100% Complete\n",
       "              <p/>\n",
       "              <progress\n",
       "                  value='67'\n",
       "                  max='67',\n",
       "                  style='width: 25%',\n",
       "              >\n",
       "                  67\n",
       "              </progress>\n",
       "\n",
       "    "
      ],
      "text/plain": [
       "<IPython.core.display.HTML object>"
      ]
     },
     "metadata": {},
     "output_type": "display_data"
    },
    {
     "name": "stderr",
     "output_type": "stream",
     "text": [
      "C:\\Users\\Admin\\AppData\\Local\\Temp\\ipykernel_9472\\483276904.py:19: UserWarning: Using default sampling frequency set in configuration file.\n",
      "  X_train_tsfel = pd.concat([tsfel.time_series_features_extractor(cfg, pd.DataFrame(X_train[i])) for i in range(X_train.shape[0])], ignore_index=True)\n"
     ]
    },
    {
     "data": {
      "text/html": [
       "\n",
       "              <p>\n",
       "                  Progress: 100% Complete\n",
       "              <p/>\n",
       "              <progress\n",
       "                  value='67'\n",
       "                  max='67',\n",
       "                  style='width: 25%',\n",
       "              >\n",
       "                  67\n",
       "              </progress>\n",
       "\n",
       "    "
      ],
      "text/plain": [
       "<IPython.core.display.HTML object>"
      ]
     },
     "metadata": {},
     "output_type": "display_data"
    },
    {
     "name": "stderr",
     "output_type": "stream",
     "text": [
      "C:\\Users\\Admin\\AppData\\Local\\Temp\\ipykernel_9472\\483276904.py:19: UserWarning: Using default sampling frequency set in configuration file.\n",
      "  X_train_tsfel = pd.concat([tsfel.time_series_features_extractor(cfg, pd.DataFrame(X_train[i])) for i in range(X_train.shape[0])], ignore_index=True)\n"
     ]
    },
    {
     "data": {
      "text/html": [
       "\n",
       "              <p>\n",
       "                  Progress: 100% Complete\n",
       "              <p/>\n",
       "              <progress\n",
       "                  value='67'\n",
       "                  max='67',\n",
       "                  style='width: 25%',\n",
       "              >\n",
       "                  67\n",
       "              </progress>\n",
       "\n",
       "    "
      ],
      "text/plain": [
       "<IPython.core.display.HTML object>"
      ]
     },
     "metadata": {},
     "output_type": "display_data"
    },
    {
     "name": "stderr",
     "output_type": "stream",
     "text": [
      "C:\\Users\\Admin\\AppData\\Local\\Temp\\ipykernel_9472\\483276904.py:19: UserWarning: Using default sampling frequency set in configuration file.\n",
      "  X_train_tsfel = pd.concat([tsfel.time_series_features_extractor(cfg, pd.DataFrame(X_train[i])) for i in range(X_train.shape[0])], ignore_index=True)\n"
     ]
    },
    {
     "data": {
      "text/html": [
       "\n",
       "              <p>\n",
       "                  Progress: 100% Complete\n",
       "              <p/>\n",
       "              <progress\n",
       "                  value='67'\n",
       "                  max='67',\n",
       "                  style='width: 25%',\n",
       "              >\n",
       "                  67\n",
       "              </progress>\n",
       "\n",
       "    "
      ],
      "text/plain": [
       "<IPython.core.display.HTML object>"
      ]
     },
     "metadata": {},
     "output_type": "display_data"
    },
    {
     "name": "stderr",
     "output_type": "stream",
     "text": [
      "C:\\Users\\Admin\\AppData\\Local\\Temp\\ipykernel_9472\\483276904.py:19: UserWarning: Using default sampling frequency set in configuration file.\n",
      "  X_train_tsfel = pd.concat([tsfel.time_series_features_extractor(cfg, pd.DataFrame(X_train[i])) for i in range(X_train.shape[0])], ignore_index=True)\n"
     ]
    },
    {
     "data": {
      "text/html": [
       "\n",
       "              <p>\n",
       "                  Progress: 100% Complete\n",
       "              <p/>\n",
       "              <progress\n",
       "                  value='67'\n",
       "                  max='67',\n",
       "                  style='width: 25%',\n",
       "              >\n",
       "                  67\n",
       "              </progress>\n",
       "\n",
       "    "
      ],
      "text/plain": [
       "<IPython.core.display.HTML object>"
      ]
     },
     "metadata": {},
     "output_type": "display_data"
    },
    {
     "name": "stderr",
     "output_type": "stream",
     "text": [
      "C:\\Users\\Admin\\AppData\\Local\\Temp\\ipykernel_9472\\483276904.py:19: UserWarning: Using default sampling frequency set in configuration file.\n",
      "  X_train_tsfel = pd.concat([tsfel.time_series_features_extractor(cfg, pd.DataFrame(X_train[i])) for i in range(X_train.shape[0])], ignore_index=True)\n"
     ]
    },
    {
     "data": {
      "text/html": [
       "\n",
       "              <p>\n",
       "                  Progress: 100% Complete\n",
       "              <p/>\n",
       "              <progress\n",
       "                  value='67'\n",
       "                  max='67',\n",
       "                  style='width: 25%',\n",
       "              >\n",
       "                  67\n",
       "              </progress>\n",
       "\n",
       "    "
      ],
      "text/plain": [
       "<IPython.core.display.HTML object>"
      ]
     },
     "metadata": {},
     "output_type": "display_data"
    },
    {
     "name": "stderr",
     "output_type": "stream",
     "text": [
      "C:\\Users\\Admin\\AppData\\Local\\Temp\\ipykernel_9472\\483276904.py:19: UserWarning: Using default sampling frequency set in configuration file.\n",
      "  X_train_tsfel = pd.concat([tsfel.time_series_features_extractor(cfg, pd.DataFrame(X_train[i])) for i in range(X_train.shape[0])], ignore_index=True)\n"
     ]
    },
    {
     "data": {
      "text/html": [
       "\n",
       "              <p>\n",
       "                  Progress: 100% Complete\n",
       "              <p/>\n",
       "              <progress\n",
       "                  value='67'\n",
       "                  max='67',\n",
       "                  style='width: 25%',\n",
       "              >\n",
       "                  67\n",
       "              </progress>\n",
       "\n",
       "    "
      ],
      "text/plain": [
       "<IPython.core.display.HTML object>"
      ]
     },
     "metadata": {},
     "output_type": "display_data"
    },
    {
     "name": "stderr",
     "output_type": "stream",
     "text": [
      "C:\\Users\\Admin\\AppData\\Local\\Temp\\ipykernel_9472\\483276904.py:19: UserWarning: Using default sampling frequency set in configuration file.\n",
      "  X_train_tsfel = pd.concat([tsfel.time_series_features_extractor(cfg, pd.DataFrame(X_train[i])) for i in range(X_train.shape[0])], ignore_index=True)\n"
     ]
    },
    {
     "data": {
      "text/html": [
       "\n",
       "              <p>\n",
       "                  Progress: 100% Complete\n",
       "              <p/>\n",
       "              <progress\n",
       "                  value='67'\n",
       "                  max='67',\n",
       "                  style='width: 25%',\n",
       "              >\n",
       "                  67\n",
       "              </progress>\n",
       "\n",
       "    "
      ],
      "text/plain": [
       "<IPython.core.display.HTML object>"
      ]
     },
     "metadata": {},
     "output_type": "display_data"
    },
    {
     "name": "stderr",
     "output_type": "stream",
     "text": [
      "C:\\Users\\Admin\\AppData\\Local\\Temp\\ipykernel_9472\\483276904.py:19: UserWarning: Using default sampling frequency set in configuration file.\n",
      "  X_train_tsfel = pd.concat([tsfel.time_series_features_extractor(cfg, pd.DataFrame(X_train[i])) for i in range(X_train.shape[0])], ignore_index=True)\n"
     ]
    },
    {
     "data": {
      "text/html": [
       "\n",
       "              <p>\n",
       "                  Progress: 100% Complete\n",
       "              <p/>\n",
       "              <progress\n",
       "                  value='67'\n",
       "                  max='67',\n",
       "                  style='width: 25%',\n",
       "              >\n",
       "                  67\n",
       "              </progress>\n",
       "\n",
       "    "
      ],
      "text/plain": [
       "<IPython.core.display.HTML object>"
      ]
     },
     "metadata": {},
     "output_type": "display_data"
    },
    {
     "name": "stderr",
     "output_type": "stream",
     "text": [
      "C:\\Users\\Admin\\AppData\\Local\\Temp\\ipykernel_9472\\483276904.py:19: UserWarning: Using default sampling frequency set in configuration file.\n",
      "  X_train_tsfel = pd.concat([tsfel.time_series_features_extractor(cfg, pd.DataFrame(X_train[i])) for i in range(X_train.shape[0])], ignore_index=True)\n"
     ]
    },
    {
     "data": {
      "text/html": [
       "\n",
       "              <p>\n",
       "                  Progress: 100% Complete\n",
       "              <p/>\n",
       "              <progress\n",
       "                  value='67'\n",
       "                  max='67',\n",
       "                  style='width: 25%',\n",
       "              >\n",
       "                  67\n",
       "              </progress>\n",
       "\n",
       "    "
      ],
      "text/plain": [
       "<IPython.core.display.HTML object>"
      ]
     },
     "metadata": {},
     "output_type": "display_data"
    },
    {
     "name": "stderr",
     "output_type": "stream",
     "text": [
      "C:\\Users\\Admin\\AppData\\Local\\Temp\\ipykernel_9472\\483276904.py:19: UserWarning: Using default sampling frequency set in configuration file.\n",
      "  X_train_tsfel = pd.concat([tsfel.time_series_features_extractor(cfg, pd.DataFrame(X_train[i])) for i in range(X_train.shape[0])], ignore_index=True)\n"
     ]
    },
    {
     "data": {
      "text/html": [
       "\n",
       "              <p>\n",
       "                  Progress: 100% Complete\n",
       "              <p/>\n",
       "              <progress\n",
       "                  value='67'\n",
       "                  max='67',\n",
       "                  style='width: 25%',\n",
       "              >\n",
       "                  67\n",
       "              </progress>\n",
       "\n",
       "    "
      ],
      "text/plain": [
       "<IPython.core.display.HTML object>"
      ]
     },
     "metadata": {},
     "output_type": "display_data"
    },
    {
     "name": "stderr",
     "output_type": "stream",
     "text": [
      "C:\\Users\\Admin\\AppData\\Local\\Temp\\ipykernel_9472\\483276904.py:19: UserWarning: Using default sampling frequency set in configuration file.\n",
      "  X_train_tsfel = pd.concat([tsfel.time_series_features_extractor(cfg, pd.DataFrame(X_train[i])) for i in range(X_train.shape[0])], ignore_index=True)\n"
     ]
    },
    {
     "data": {
      "text/html": [
       "\n",
       "              <p>\n",
       "                  Progress: 100% Complete\n",
       "              <p/>\n",
       "              <progress\n",
       "                  value='67'\n",
       "                  max='67',\n",
       "                  style='width: 25%',\n",
       "              >\n",
       "                  67\n",
       "              </progress>\n",
       "\n",
       "    "
      ],
      "text/plain": [
       "<IPython.core.display.HTML object>"
      ]
     },
     "metadata": {},
     "output_type": "display_data"
    },
    {
     "name": "stderr",
     "output_type": "stream",
     "text": [
      "C:\\Users\\Admin\\AppData\\Local\\Temp\\ipykernel_9472\\483276904.py:19: UserWarning: Using default sampling frequency set in configuration file.\n",
      "  X_train_tsfel = pd.concat([tsfel.time_series_features_extractor(cfg, pd.DataFrame(X_train[i])) for i in range(X_train.shape[0])], ignore_index=True)\n"
     ]
    },
    {
     "data": {
      "text/html": [
       "\n",
       "              <p>\n",
       "                  Progress: 100% Complete\n",
       "              <p/>\n",
       "              <progress\n",
       "                  value='67'\n",
       "                  max='67',\n",
       "                  style='width: 25%',\n",
       "              >\n",
       "                  67\n",
       "              </progress>\n",
       "\n",
       "    "
      ],
      "text/plain": [
       "<IPython.core.display.HTML object>"
      ]
     },
     "metadata": {},
     "output_type": "display_data"
    },
    {
     "name": "stderr",
     "output_type": "stream",
     "text": [
      "C:\\Users\\Admin\\AppData\\Local\\Temp\\ipykernel_9472\\483276904.py:19: UserWarning: Using default sampling frequency set in configuration file.\n",
      "  X_train_tsfel = pd.concat([tsfel.time_series_features_extractor(cfg, pd.DataFrame(X_train[i])) for i in range(X_train.shape[0])], ignore_index=True)\n"
     ]
    },
    {
     "data": {
      "text/html": [
       "\n",
       "              <p>\n",
       "                  Progress: 100% Complete\n",
       "              <p/>\n",
       "              <progress\n",
       "                  value='67'\n",
       "                  max='67',\n",
       "                  style='width: 25%',\n",
       "              >\n",
       "                  67\n",
       "              </progress>\n",
       "\n",
       "    "
      ],
      "text/plain": [
       "<IPython.core.display.HTML object>"
      ]
     },
     "metadata": {},
     "output_type": "display_data"
    },
    {
     "name": "stderr",
     "output_type": "stream",
     "text": [
      "C:\\Users\\Admin\\AppData\\Local\\Temp\\ipykernel_9472\\483276904.py:19: UserWarning: Using default sampling frequency set in configuration file.\n",
      "  X_train_tsfel = pd.concat([tsfel.time_series_features_extractor(cfg, pd.DataFrame(X_train[i])) for i in range(X_train.shape[0])], ignore_index=True)\n"
     ]
    },
    {
     "data": {
      "text/html": [
       "\n",
       "              <p>\n",
       "                  Progress: 100% Complete\n",
       "              <p/>\n",
       "              <progress\n",
       "                  value='67'\n",
       "                  max='67',\n",
       "                  style='width: 25%',\n",
       "              >\n",
       "                  67\n",
       "              </progress>\n",
       "\n",
       "    "
      ],
      "text/plain": [
       "<IPython.core.display.HTML object>"
      ]
     },
     "metadata": {},
     "output_type": "display_data"
    },
    {
     "name": "stderr",
     "output_type": "stream",
     "text": [
      "C:\\Users\\Admin\\AppData\\Local\\Temp\\ipykernel_9472\\483276904.py:19: UserWarning: Using default sampling frequency set in configuration file.\n",
      "  X_train_tsfel = pd.concat([tsfel.time_series_features_extractor(cfg, pd.DataFrame(X_train[i])) for i in range(X_train.shape[0])], ignore_index=True)\n"
     ]
    },
    {
     "data": {
      "text/html": [
       "\n",
       "              <p>\n",
       "                  Progress: 100% Complete\n",
       "              <p/>\n",
       "              <progress\n",
       "                  value='67'\n",
       "                  max='67',\n",
       "                  style='width: 25%',\n",
       "              >\n",
       "                  67\n",
       "              </progress>\n",
       "\n",
       "    "
      ],
      "text/plain": [
       "<IPython.core.display.HTML object>"
      ]
     },
     "metadata": {},
     "output_type": "display_data"
    },
    {
     "name": "stderr",
     "output_type": "stream",
     "text": [
      "C:\\Users\\Admin\\AppData\\Local\\Temp\\ipykernel_9472\\483276904.py:19: UserWarning: Using default sampling frequency set in configuration file.\n",
      "  X_train_tsfel = pd.concat([tsfel.time_series_features_extractor(cfg, pd.DataFrame(X_train[i])) for i in range(X_train.shape[0])], ignore_index=True)\n"
     ]
    },
    {
     "data": {
      "text/html": [
       "\n",
       "              <p>\n",
       "                  Progress: 100% Complete\n",
       "              <p/>\n",
       "              <progress\n",
       "                  value='67'\n",
       "                  max='67',\n",
       "                  style='width: 25%',\n",
       "              >\n",
       "                  67\n",
       "              </progress>\n",
       "\n",
       "    "
      ],
      "text/plain": [
       "<IPython.core.display.HTML object>"
      ]
     },
     "metadata": {},
     "output_type": "display_data"
    },
    {
     "name": "stderr",
     "output_type": "stream",
     "text": [
      "C:\\Users\\Admin\\AppData\\Local\\Temp\\ipykernel_9472\\483276904.py:19: UserWarning: Using default sampling frequency set in configuration file.\n",
      "  X_train_tsfel = pd.concat([tsfel.time_series_features_extractor(cfg, pd.DataFrame(X_train[i])) for i in range(X_train.shape[0])], ignore_index=True)\n"
     ]
    },
    {
     "data": {
      "text/html": [
       "\n",
       "              <p>\n",
       "                  Progress: 100% Complete\n",
       "              <p/>\n",
       "              <progress\n",
       "                  value='67'\n",
       "                  max='67',\n",
       "                  style='width: 25%',\n",
       "              >\n",
       "                  67\n",
       "              </progress>\n",
       "\n",
       "    "
      ],
      "text/plain": [
       "<IPython.core.display.HTML object>"
      ]
     },
     "metadata": {},
     "output_type": "display_data"
    },
    {
     "name": "stderr",
     "output_type": "stream",
     "text": [
      "C:\\Users\\Admin\\AppData\\Local\\Temp\\ipykernel_9472\\483276904.py:19: UserWarning: Using default sampling frequency set in configuration file.\n",
      "  X_train_tsfel = pd.concat([tsfel.time_series_features_extractor(cfg, pd.DataFrame(X_train[i])) for i in range(X_train.shape[0])], ignore_index=True)\n"
     ]
    },
    {
     "data": {
      "text/html": [
       "\n",
       "              <p>\n",
       "                  Progress: 100% Complete\n",
       "              <p/>\n",
       "              <progress\n",
       "                  value='67'\n",
       "                  max='67',\n",
       "                  style='width: 25%',\n",
       "              >\n",
       "                  67\n",
       "              </progress>\n",
       "\n",
       "    "
      ],
      "text/plain": [
       "<IPython.core.display.HTML object>"
      ]
     },
     "metadata": {},
     "output_type": "display_data"
    },
    {
     "name": "stderr",
     "output_type": "stream",
     "text": [
      "C:\\Users\\Admin\\AppData\\Local\\Temp\\ipykernel_9472\\483276904.py:19: UserWarning: Using default sampling frequency set in configuration file.\n",
      "  X_train_tsfel = pd.concat([tsfel.time_series_features_extractor(cfg, pd.DataFrame(X_train[i])) for i in range(X_train.shape[0])], ignore_index=True)\n"
     ]
    },
    {
     "data": {
      "text/html": [
       "\n",
       "              <p>\n",
       "                  Progress: 100% Complete\n",
       "              <p/>\n",
       "              <progress\n",
       "                  value='67'\n",
       "                  max='67',\n",
       "                  style='width: 25%',\n",
       "              >\n",
       "                  67\n",
       "              </progress>\n",
       "\n",
       "    "
      ],
      "text/plain": [
       "<IPython.core.display.HTML object>"
      ]
     },
     "metadata": {},
     "output_type": "display_data"
    },
    {
     "name": "stderr",
     "output_type": "stream",
     "text": [
      "C:\\Users\\Admin\\AppData\\Local\\Temp\\ipykernel_9472\\483276904.py:19: UserWarning: Using default sampling frequency set in configuration file.\n",
      "  X_train_tsfel = pd.concat([tsfel.time_series_features_extractor(cfg, pd.DataFrame(X_train[i])) for i in range(X_train.shape[0])], ignore_index=True)\n"
     ]
    },
    {
     "data": {
      "text/html": [
       "\n",
       "              <p>\n",
       "                  Progress: 100% Complete\n",
       "              <p/>\n",
       "              <progress\n",
       "                  value='67'\n",
       "                  max='67',\n",
       "                  style='width: 25%',\n",
       "              >\n",
       "                  67\n",
       "              </progress>\n",
       "\n",
       "    "
      ],
      "text/plain": [
       "<IPython.core.display.HTML object>"
      ]
     },
     "metadata": {},
     "output_type": "display_data"
    },
    {
     "name": "stderr",
     "output_type": "stream",
     "text": [
      "C:\\Users\\Admin\\AppData\\Local\\Temp\\ipykernel_9472\\483276904.py:19: UserWarning: Using default sampling frequency set in configuration file.\n",
      "  X_train_tsfel = pd.concat([tsfel.time_series_features_extractor(cfg, pd.DataFrame(X_train[i])) for i in range(X_train.shape[0])], ignore_index=True)\n"
     ]
    },
    {
     "data": {
      "text/html": [
       "\n",
       "              <p>\n",
       "                  Progress: 100% Complete\n",
       "              <p/>\n",
       "              <progress\n",
       "                  value='67'\n",
       "                  max='67',\n",
       "                  style='width: 25%',\n",
       "              >\n",
       "                  67\n",
       "              </progress>\n",
       "\n",
       "    "
      ],
      "text/plain": [
       "<IPython.core.display.HTML object>"
      ]
     },
     "metadata": {},
     "output_type": "display_data"
    },
    {
     "name": "stderr",
     "output_type": "stream",
     "text": [
      "C:\\Users\\Admin\\AppData\\Local\\Temp\\ipykernel_9472\\483276904.py:19: UserWarning: Using default sampling frequency set in configuration file.\n",
      "  X_train_tsfel = pd.concat([tsfel.time_series_features_extractor(cfg, pd.DataFrame(X_train[i])) for i in range(X_train.shape[0])], ignore_index=True)\n"
     ]
    },
    {
     "data": {
      "text/html": [
       "\n",
       "              <p>\n",
       "                  Progress: 100% Complete\n",
       "              <p/>\n",
       "              <progress\n",
       "                  value='67'\n",
       "                  max='67',\n",
       "                  style='width: 25%',\n",
       "              >\n",
       "                  67\n",
       "              </progress>\n",
       "\n",
       "    "
      ],
      "text/plain": [
       "<IPython.core.display.HTML object>"
      ]
     },
     "metadata": {},
     "output_type": "display_data"
    },
    {
     "name": "stderr",
     "output_type": "stream",
     "text": [
      "C:\\Users\\Admin\\AppData\\Local\\Temp\\ipykernel_9472\\483276904.py:19: UserWarning: Using default sampling frequency set in configuration file.\n",
      "  X_train_tsfel = pd.concat([tsfel.time_series_features_extractor(cfg, pd.DataFrame(X_train[i])) for i in range(X_train.shape[0])], ignore_index=True)\n"
     ]
    },
    {
     "data": {
      "text/html": [
       "\n",
       "              <p>\n",
       "                  Progress: 100% Complete\n",
       "              <p/>\n",
       "              <progress\n",
       "                  value='67'\n",
       "                  max='67',\n",
       "                  style='width: 25%',\n",
       "              >\n",
       "                  67\n",
       "              </progress>\n",
       "\n",
       "    "
      ],
      "text/plain": [
       "<IPython.core.display.HTML object>"
      ]
     },
     "metadata": {},
     "output_type": "display_data"
    },
    {
     "name": "stderr",
     "output_type": "stream",
     "text": [
      "C:\\Users\\Admin\\AppData\\Local\\Temp\\ipykernel_9472\\483276904.py:19: UserWarning: Using default sampling frequency set in configuration file.\n",
      "  X_train_tsfel = pd.concat([tsfel.time_series_features_extractor(cfg, pd.DataFrame(X_train[i])) for i in range(X_train.shape[0])], ignore_index=True)\n"
     ]
    },
    {
     "data": {
      "text/html": [
       "\n",
       "              <p>\n",
       "                  Progress: 100% Complete\n",
       "              <p/>\n",
       "              <progress\n",
       "                  value='67'\n",
       "                  max='67',\n",
       "                  style='width: 25%',\n",
       "              >\n",
       "                  67\n",
       "              </progress>\n",
       "\n",
       "    "
      ],
      "text/plain": [
       "<IPython.core.display.HTML object>"
      ]
     },
     "metadata": {},
     "output_type": "display_data"
    },
    {
     "name": "stderr",
     "output_type": "stream",
     "text": [
      "C:\\Users\\Admin\\AppData\\Local\\Temp\\ipykernel_9472\\483276904.py:19: UserWarning: Using default sampling frequency set in configuration file.\n",
      "  X_train_tsfel = pd.concat([tsfel.time_series_features_extractor(cfg, pd.DataFrame(X_train[i])) for i in range(X_train.shape[0])], ignore_index=True)\n"
     ]
    },
    {
     "data": {
      "text/html": [
       "\n",
       "              <p>\n",
       "                  Progress: 100% Complete\n",
       "              <p/>\n",
       "              <progress\n",
       "                  value='67'\n",
       "                  max='67',\n",
       "                  style='width: 25%',\n",
       "              >\n",
       "                  67\n",
       "              </progress>\n",
       "\n",
       "    "
      ],
      "text/plain": [
       "<IPython.core.display.HTML object>"
      ]
     },
     "metadata": {},
     "output_type": "display_data"
    },
    {
     "name": "stderr",
     "output_type": "stream",
     "text": [
      "C:\\Users\\Admin\\AppData\\Local\\Temp\\ipykernel_9472\\483276904.py:19: UserWarning: Using default sampling frequency set in configuration file.\n",
      "  X_train_tsfel = pd.concat([tsfel.time_series_features_extractor(cfg, pd.DataFrame(X_train[i])) for i in range(X_train.shape[0])], ignore_index=True)\n"
     ]
    },
    {
     "data": {
      "text/html": [
       "\n",
       "              <p>\n",
       "                  Progress: 100% Complete\n",
       "              <p/>\n",
       "              <progress\n",
       "                  value='67'\n",
       "                  max='67',\n",
       "                  style='width: 25%',\n",
       "              >\n",
       "                  67\n",
       "              </progress>\n",
       "\n",
       "    "
      ],
      "text/plain": [
       "<IPython.core.display.HTML object>"
      ]
     },
     "metadata": {},
     "output_type": "display_data"
    },
    {
     "name": "stderr",
     "output_type": "stream",
     "text": [
      "C:\\Users\\Admin\\AppData\\Local\\Temp\\ipykernel_9472\\483276904.py:19: UserWarning: Using default sampling frequency set in configuration file.\n",
      "  X_train_tsfel = pd.concat([tsfel.time_series_features_extractor(cfg, pd.DataFrame(X_train[i])) for i in range(X_train.shape[0])], ignore_index=True)\n"
     ]
    },
    {
     "data": {
      "text/html": [
       "\n",
       "              <p>\n",
       "                  Progress: 100% Complete\n",
       "              <p/>\n",
       "              <progress\n",
       "                  value='67'\n",
       "                  max='67',\n",
       "                  style='width: 25%',\n",
       "              >\n",
       "                  67\n",
       "              </progress>\n",
       "\n",
       "    "
      ],
      "text/plain": [
       "<IPython.core.display.HTML object>"
      ]
     },
     "metadata": {},
     "output_type": "display_data"
    },
    {
     "name": "stderr",
     "output_type": "stream",
     "text": [
      "C:\\Users\\Admin\\AppData\\Local\\Temp\\ipykernel_9472\\483276904.py:19: UserWarning: Using default sampling frequency set in configuration file.\n",
      "  X_train_tsfel = pd.concat([tsfel.time_series_features_extractor(cfg, pd.DataFrame(X_train[i])) for i in range(X_train.shape[0])], ignore_index=True)\n"
     ]
    },
    {
     "data": {
      "text/html": [
       "\n",
       "              <p>\n",
       "                  Progress: 100% Complete\n",
       "              <p/>\n",
       "              <progress\n",
       "                  value='67'\n",
       "                  max='67',\n",
       "                  style='width: 25%',\n",
       "              >\n",
       "                  67\n",
       "              </progress>\n",
       "\n",
       "    "
      ],
      "text/plain": [
       "<IPython.core.display.HTML object>"
      ]
     },
     "metadata": {},
     "output_type": "display_data"
    },
    {
     "name": "stderr",
     "output_type": "stream",
     "text": [
      "C:\\Users\\Admin\\AppData\\Local\\Temp\\ipykernel_9472\\483276904.py:19: UserWarning: Using default sampling frequency set in configuration file.\n",
      "  X_train_tsfel = pd.concat([tsfel.time_series_features_extractor(cfg, pd.DataFrame(X_train[i])) for i in range(X_train.shape[0])], ignore_index=True)\n"
     ]
    },
    {
     "data": {
      "text/html": [
       "\n",
       "              <p>\n",
       "                  Progress: 100% Complete\n",
       "              <p/>\n",
       "              <progress\n",
       "                  value='67'\n",
       "                  max='67',\n",
       "                  style='width: 25%',\n",
       "              >\n",
       "                  67\n",
       "              </progress>\n",
       "\n",
       "    "
      ],
      "text/plain": [
       "<IPython.core.display.HTML object>"
      ]
     },
     "metadata": {},
     "output_type": "display_data"
    },
    {
     "name": "stderr",
     "output_type": "stream",
     "text": [
      "C:\\Users\\Admin\\AppData\\Local\\Temp\\ipykernel_9472\\483276904.py:19: UserWarning: Using default sampling frequency set in configuration file.\n",
      "  X_train_tsfel = pd.concat([tsfel.time_series_features_extractor(cfg, pd.DataFrame(X_train[i])) for i in range(X_train.shape[0])], ignore_index=True)\n"
     ]
    },
    {
     "data": {
      "text/html": [
       "\n",
       "              <p>\n",
       "                  Progress: 100% Complete\n",
       "              <p/>\n",
       "              <progress\n",
       "                  value='67'\n",
       "                  max='67',\n",
       "                  style='width: 25%',\n",
       "              >\n",
       "                  67\n",
       "              </progress>\n",
       "\n",
       "    "
      ],
      "text/plain": [
       "<IPython.core.display.HTML object>"
      ]
     },
     "metadata": {},
     "output_type": "display_data"
    },
    {
     "name": "stderr",
     "output_type": "stream",
     "text": [
      "C:\\Users\\Admin\\AppData\\Local\\Temp\\ipykernel_9472\\483276904.py:19: UserWarning: Using default sampling frequency set in configuration file.\n",
      "  X_train_tsfel = pd.concat([tsfel.time_series_features_extractor(cfg, pd.DataFrame(X_train[i])) for i in range(X_train.shape[0])], ignore_index=True)\n"
     ]
    },
    {
     "data": {
      "text/html": [
       "\n",
       "              <p>\n",
       "                  Progress: 100% Complete\n",
       "              <p/>\n",
       "              <progress\n",
       "                  value='67'\n",
       "                  max='67',\n",
       "                  style='width: 25%',\n",
       "              >\n",
       "                  67\n",
       "              </progress>\n",
       "\n",
       "    "
      ],
      "text/plain": [
       "<IPython.core.display.HTML object>"
      ]
     },
     "metadata": {},
     "output_type": "display_data"
    },
    {
     "name": "stderr",
     "output_type": "stream",
     "text": [
      "C:\\Users\\Admin\\AppData\\Local\\Temp\\ipykernel_9472\\483276904.py:19: UserWarning: Using default sampling frequency set in configuration file.\n",
      "  X_train_tsfel = pd.concat([tsfel.time_series_features_extractor(cfg, pd.DataFrame(X_train[i])) for i in range(X_train.shape[0])], ignore_index=True)\n"
     ]
    },
    {
     "data": {
      "text/html": [
       "\n",
       "              <p>\n",
       "                  Progress: 100% Complete\n",
       "              <p/>\n",
       "              <progress\n",
       "                  value='67'\n",
       "                  max='67',\n",
       "                  style='width: 25%',\n",
       "              >\n",
       "                  67\n",
       "              </progress>\n",
       "\n",
       "    "
      ],
      "text/plain": [
       "<IPython.core.display.HTML object>"
      ]
     },
     "metadata": {},
     "output_type": "display_data"
    },
    {
     "name": "stderr",
     "output_type": "stream",
     "text": [
      "C:\\Users\\Admin\\AppData\\Local\\Temp\\ipykernel_9472\\483276904.py:19: UserWarning: Using default sampling frequency set in configuration file.\n",
      "  X_train_tsfel = pd.concat([tsfel.time_series_features_extractor(cfg, pd.DataFrame(X_train[i])) for i in range(X_train.shape[0])], ignore_index=True)\n"
     ]
    },
    {
     "data": {
      "text/html": [
       "\n",
       "              <p>\n",
       "                  Progress: 100% Complete\n",
       "              <p/>\n",
       "              <progress\n",
       "                  value='67'\n",
       "                  max='67',\n",
       "                  style='width: 25%',\n",
       "              >\n",
       "                  67\n",
       "              </progress>\n",
       "\n",
       "    "
      ],
      "text/plain": [
       "<IPython.core.display.HTML object>"
      ]
     },
     "metadata": {},
     "output_type": "display_data"
    },
    {
     "name": "stderr",
     "output_type": "stream",
     "text": [
      "C:\\Users\\Admin\\AppData\\Local\\Temp\\ipykernel_9472\\483276904.py:19: UserWarning: Using default sampling frequency set in configuration file.\n",
      "  X_train_tsfel = pd.concat([tsfel.time_series_features_extractor(cfg, pd.DataFrame(X_train[i])) for i in range(X_train.shape[0])], ignore_index=True)\n"
     ]
    },
    {
     "data": {
      "text/html": [
       "\n",
       "              <p>\n",
       "                  Progress: 100% Complete\n",
       "              <p/>\n",
       "              <progress\n",
       "                  value='67'\n",
       "                  max='67',\n",
       "                  style='width: 25%',\n",
       "              >\n",
       "                  67\n",
       "              </progress>\n",
       "\n",
       "    "
      ],
      "text/plain": [
       "<IPython.core.display.HTML object>"
      ]
     },
     "metadata": {},
     "output_type": "display_data"
    },
    {
     "name": "stderr",
     "output_type": "stream",
     "text": [
      "C:\\Users\\Admin\\AppData\\Local\\Temp\\ipykernel_9472\\483276904.py:19: UserWarning: Using default sampling frequency set in configuration file.\n",
      "  X_train_tsfel = pd.concat([tsfel.time_series_features_extractor(cfg, pd.DataFrame(X_train[i])) for i in range(X_train.shape[0])], ignore_index=True)\n"
     ]
    },
    {
     "data": {
      "text/html": [
       "\n",
       "              <p>\n",
       "                  Progress: 100% Complete\n",
       "              <p/>\n",
       "              <progress\n",
       "                  value='67'\n",
       "                  max='67',\n",
       "                  style='width: 25%',\n",
       "              >\n",
       "                  67\n",
       "              </progress>\n",
       "\n",
       "    "
      ],
      "text/plain": [
       "<IPython.core.display.HTML object>"
      ]
     },
     "metadata": {},
     "output_type": "display_data"
    },
    {
     "name": "stderr",
     "output_type": "stream",
     "text": [
      "C:\\Users\\Admin\\AppData\\Local\\Temp\\ipykernel_9472\\483276904.py:19: UserWarning: Using default sampling frequency set in configuration file.\n",
      "  X_train_tsfel = pd.concat([tsfel.time_series_features_extractor(cfg, pd.DataFrame(X_train[i])) for i in range(X_train.shape[0])], ignore_index=True)\n"
     ]
    },
    {
     "data": {
      "text/html": [
       "\n",
       "              <p>\n",
       "                  Progress: 100% Complete\n",
       "              <p/>\n",
       "              <progress\n",
       "                  value='67'\n",
       "                  max='67',\n",
       "                  style='width: 25%',\n",
       "              >\n",
       "                  67\n",
       "              </progress>\n",
       "\n",
       "    "
      ],
      "text/plain": [
       "<IPython.core.display.HTML object>"
      ]
     },
     "metadata": {},
     "output_type": "display_data"
    },
    {
     "name": "stderr",
     "output_type": "stream",
     "text": [
      "C:\\Users\\Admin\\AppData\\Local\\Temp\\ipykernel_9472\\483276904.py:19: UserWarning: Using default sampling frequency set in configuration file.\n",
      "  X_train_tsfel = pd.concat([tsfel.time_series_features_extractor(cfg, pd.DataFrame(X_train[i])) for i in range(X_train.shape[0])], ignore_index=True)\n"
     ]
    },
    {
     "data": {
      "text/html": [
       "\n",
       "              <p>\n",
       "                  Progress: 100% Complete\n",
       "              <p/>\n",
       "              <progress\n",
       "                  value='67'\n",
       "                  max='67',\n",
       "                  style='width: 25%',\n",
       "              >\n",
       "                  67\n",
       "              </progress>\n",
       "\n",
       "    "
      ],
      "text/plain": [
       "<IPython.core.display.HTML object>"
      ]
     },
     "metadata": {},
     "output_type": "display_data"
    },
    {
     "name": "stderr",
     "output_type": "stream",
     "text": [
      "C:\\Users\\Admin\\AppData\\Local\\Temp\\ipykernel_9472\\483276904.py:19: UserWarning: Using default sampling frequency set in configuration file.\n",
      "  X_train_tsfel = pd.concat([tsfel.time_series_features_extractor(cfg, pd.DataFrame(X_train[i])) for i in range(X_train.shape[0])], ignore_index=True)\n"
     ]
    },
    {
     "data": {
      "text/html": [
       "\n",
       "              <p>\n",
       "                  Progress: 100% Complete\n",
       "              <p/>\n",
       "              <progress\n",
       "                  value='67'\n",
       "                  max='67',\n",
       "                  style='width: 25%',\n",
       "              >\n",
       "                  67\n",
       "              </progress>\n",
       "\n",
       "    "
      ],
      "text/plain": [
       "<IPython.core.display.HTML object>"
      ]
     },
     "metadata": {},
     "output_type": "display_data"
    },
    {
     "name": "stderr",
     "output_type": "stream",
     "text": [
      "C:\\Users\\Admin\\AppData\\Local\\Temp\\ipykernel_9472\\483276904.py:19: UserWarning: Using default sampling frequency set in configuration file.\n",
      "  X_train_tsfel = pd.concat([tsfel.time_series_features_extractor(cfg, pd.DataFrame(X_train[i])) for i in range(X_train.shape[0])], ignore_index=True)\n"
     ]
    },
    {
     "data": {
      "text/html": [
       "\n",
       "              <p>\n",
       "                  Progress: 100% Complete\n",
       "              <p/>\n",
       "              <progress\n",
       "                  value='67'\n",
       "                  max='67',\n",
       "                  style='width: 25%',\n",
       "              >\n",
       "                  67\n",
       "              </progress>\n",
       "\n",
       "    "
      ],
      "text/plain": [
       "<IPython.core.display.HTML object>"
      ]
     },
     "metadata": {},
     "output_type": "display_data"
    },
    {
     "name": "stderr",
     "output_type": "stream",
     "text": [
      "C:\\Users\\Admin\\AppData\\Local\\Temp\\ipykernel_9472\\483276904.py:19: UserWarning: Using default sampling frequency set in configuration file.\n",
      "  X_train_tsfel = pd.concat([tsfel.time_series_features_extractor(cfg, pd.DataFrame(X_train[i])) for i in range(X_train.shape[0])], ignore_index=True)\n"
     ]
    },
    {
     "data": {
      "text/html": [
       "\n",
       "              <p>\n",
       "                  Progress: 100% Complete\n",
       "              <p/>\n",
       "              <progress\n",
       "                  value='67'\n",
       "                  max='67',\n",
       "                  style='width: 25%',\n",
       "              >\n",
       "                  67\n",
       "              </progress>\n",
       "\n",
       "    "
      ],
      "text/plain": [
       "<IPython.core.display.HTML object>"
      ]
     },
     "metadata": {},
     "output_type": "display_data"
    },
    {
     "name": "stderr",
     "output_type": "stream",
     "text": [
      "C:\\Users\\Admin\\AppData\\Local\\Temp\\ipykernel_9472\\483276904.py:19: UserWarning: Using default sampling frequency set in configuration file.\n",
      "  X_train_tsfel = pd.concat([tsfel.time_series_features_extractor(cfg, pd.DataFrame(X_train[i])) for i in range(X_train.shape[0])], ignore_index=True)\n"
     ]
    },
    {
     "data": {
      "text/html": [
       "\n",
       "              <p>\n",
       "                  Progress: 100% Complete\n",
       "              <p/>\n",
       "              <progress\n",
       "                  value='67'\n",
       "                  max='67',\n",
       "                  style='width: 25%',\n",
       "              >\n",
       "                  67\n",
       "              </progress>\n",
       "\n",
       "    "
      ],
      "text/plain": [
       "<IPython.core.display.HTML object>"
      ]
     },
     "metadata": {},
     "output_type": "display_data"
    },
    {
     "name": "stderr",
     "output_type": "stream",
     "text": [
      "C:\\Users\\Admin\\AppData\\Local\\Temp\\ipykernel_9472\\483276904.py:19: UserWarning: Using default sampling frequency set in configuration file.\n",
      "  X_train_tsfel = pd.concat([tsfel.time_series_features_extractor(cfg, pd.DataFrame(X_train[i])) for i in range(X_train.shape[0])], ignore_index=True)\n"
     ]
    },
    {
     "data": {
      "text/html": [
       "\n",
       "              <p>\n",
       "                  Progress: 100% Complete\n",
       "              <p/>\n",
       "              <progress\n",
       "                  value='67'\n",
       "                  max='67',\n",
       "                  style='width: 25%',\n",
       "              >\n",
       "                  67\n",
       "              </progress>\n",
       "\n",
       "    "
      ],
      "text/plain": [
       "<IPython.core.display.HTML object>"
      ]
     },
     "metadata": {},
     "output_type": "display_data"
    },
    {
     "name": "stderr",
     "output_type": "stream",
     "text": [
      "C:\\Users\\Admin\\AppData\\Local\\Temp\\ipykernel_9472\\483276904.py:19: UserWarning: Using default sampling frequency set in configuration file.\n",
      "  X_train_tsfel = pd.concat([tsfel.time_series_features_extractor(cfg, pd.DataFrame(X_train[i])) for i in range(X_train.shape[0])], ignore_index=True)\n"
     ]
    },
    {
     "data": {
      "text/html": [
       "\n",
       "              <p>\n",
       "                  Progress: 100% Complete\n",
       "              <p/>\n",
       "              <progress\n",
       "                  value='67'\n",
       "                  max='67',\n",
       "                  style='width: 25%',\n",
       "              >\n",
       "                  67\n",
       "              </progress>\n",
       "\n",
       "    "
      ],
      "text/plain": [
       "<IPython.core.display.HTML object>"
      ]
     },
     "metadata": {},
     "output_type": "display_data"
    },
    {
     "name": "stderr",
     "output_type": "stream",
     "text": [
      "C:\\Users\\Admin\\AppData\\Local\\Temp\\ipykernel_9472\\483276904.py:19: UserWarning: Using default sampling frequency set in configuration file.\n",
      "  X_train_tsfel = pd.concat([tsfel.time_series_features_extractor(cfg, pd.DataFrame(X_train[i])) for i in range(X_train.shape[0])], ignore_index=True)\n"
     ]
    },
    {
     "data": {
      "text/html": [
       "\n",
       "              <p>\n",
       "                  Progress: 100% Complete\n",
       "              <p/>\n",
       "              <progress\n",
       "                  value='67'\n",
       "                  max='67',\n",
       "                  style='width: 25%',\n",
       "              >\n",
       "                  67\n",
       "              </progress>\n",
       "\n",
       "    "
      ],
      "text/plain": [
       "<IPython.core.display.HTML object>"
      ]
     },
     "metadata": {},
     "output_type": "display_data"
    },
    {
     "name": "stderr",
     "output_type": "stream",
     "text": [
      "C:\\Users\\Admin\\AppData\\Local\\Temp\\ipykernel_9472\\483276904.py:19: UserWarning: Using default sampling frequency set in configuration file.\n",
      "  X_train_tsfel = pd.concat([tsfel.time_series_features_extractor(cfg, pd.DataFrame(X_train[i])) for i in range(X_train.shape[0])], ignore_index=True)\n"
     ]
    },
    {
     "data": {
      "text/html": [
       "\n",
       "              <p>\n",
       "                  Progress: 100% Complete\n",
       "              <p/>\n",
       "              <progress\n",
       "                  value='67'\n",
       "                  max='67',\n",
       "                  style='width: 25%',\n",
       "              >\n",
       "                  67\n",
       "              </progress>\n",
       "\n",
       "    "
      ],
      "text/plain": [
       "<IPython.core.display.HTML object>"
      ]
     },
     "metadata": {},
     "output_type": "display_data"
    },
    {
     "name": "stderr",
     "output_type": "stream",
     "text": [
      "C:\\Users\\Admin\\AppData\\Local\\Temp\\ipykernel_9472\\483276904.py:19: UserWarning: Using default sampling frequency set in configuration file.\n",
      "  X_train_tsfel = pd.concat([tsfel.time_series_features_extractor(cfg, pd.DataFrame(X_train[i])) for i in range(X_train.shape[0])], ignore_index=True)\n"
     ]
    },
    {
     "data": {
      "text/html": [
       "\n",
       "              <p>\n",
       "                  Progress: 100% Complete\n",
       "              <p/>\n",
       "              <progress\n",
       "                  value='67'\n",
       "                  max='67',\n",
       "                  style='width: 25%',\n",
       "              >\n",
       "                  67\n",
       "              </progress>\n",
       "\n",
       "    "
      ],
      "text/plain": [
       "<IPython.core.display.HTML object>"
      ]
     },
     "metadata": {},
     "output_type": "display_data"
    },
    {
     "name": "stderr",
     "output_type": "stream",
     "text": [
      "C:\\Users\\Admin\\AppData\\Local\\Temp\\ipykernel_9472\\483276904.py:20: UserWarning: Using default sampling frequency set in configuration file.\n",
      "  X_test_tsfel = pd.concat([tsfel.time_series_features_extractor(cfg, pd.DataFrame(X_test[i])) for i in range(X_test.shape[0])], ignore_index=True)\n"
     ]
    },
    {
     "data": {
      "text/html": [
       "\n",
       "              <p>\n",
       "                  Progress: 100% Complete\n",
       "              <p/>\n",
       "              <progress\n",
       "                  value='67'\n",
       "                  max='67',\n",
       "                  style='width: 25%',\n",
       "              >\n",
       "                  67\n",
       "              </progress>\n",
       "\n",
       "    "
      ],
      "text/plain": [
       "<IPython.core.display.HTML object>"
      ]
     },
     "metadata": {},
     "output_type": "display_data"
    },
    {
     "name": "stderr",
     "output_type": "stream",
     "text": [
      "C:\\Users\\Admin\\AppData\\Local\\Temp\\ipykernel_9472\\483276904.py:20: UserWarning: Using default sampling frequency set in configuration file.\n",
      "  X_test_tsfel = pd.concat([tsfel.time_series_features_extractor(cfg, pd.DataFrame(X_test[i])) for i in range(X_test.shape[0])], ignore_index=True)\n"
     ]
    },
    {
     "data": {
      "text/html": [
       "\n",
       "              <p>\n",
       "                  Progress: 100% Complete\n",
       "              <p/>\n",
       "              <progress\n",
       "                  value='67'\n",
       "                  max='67',\n",
       "                  style='width: 25%',\n",
       "              >\n",
       "                  67\n",
       "              </progress>\n",
       "\n",
       "    "
      ],
      "text/plain": [
       "<IPython.core.display.HTML object>"
      ]
     },
     "metadata": {},
     "output_type": "display_data"
    },
    {
     "name": "stderr",
     "output_type": "stream",
     "text": [
      "C:\\Users\\Admin\\AppData\\Local\\Temp\\ipykernel_9472\\483276904.py:20: UserWarning: Using default sampling frequency set in configuration file.\n",
      "  X_test_tsfel = pd.concat([tsfel.time_series_features_extractor(cfg, pd.DataFrame(X_test[i])) for i in range(X_test.shape[0])], ignore_index=True)\n"
     ]
    },
    {
     "data": {
      "text/html": [
       "\n",
       "              <p>\n",
       "                  Progress: 100% Complete\n",
       "              <p/>\n",
       "              <progress\n",
       "                  value='67'\n",
       "                  max='67',\n",
       "                  style='width: 25%',\n",
       "              >\n",
       "                  67\n",
       "              </progress>\n",
       "\n",
       "    "
      ],
      "text/plain": [
       "<IPython.core.display.HTML object>"
      ]
     },
     "metadata": {},
     "output_type": "display_data"
    },
    {
     "name": "stderr",
     "output_type": "stream",
     "text": [
      "C:\\Users\\Admin\\AppData\\Local\\Temp\\ipykernel_9472\\483276904.py:20: UserWarning: Using default sampling frequency set in configuration file.\n",
      "  X_test_tsfel = pd.concat([tsfel.time_series_features_extractor(cfg, pd.DataFrame(X_test[i])) for i in range(X_test.shape[0])], ignore_index=True)\n"
     ]
    },
    {
     "data": {
      "text/html": [
       "\n",
       "              <p>\n",
       "                  Progress: 100% Complete\n",
       "              <p/>\n",
       "              <progress\n",
       "                  value='67'\n",
       "                  max='67',\n",
       "                  style='width: 25%',\n",
       "              >\n",
       "                  67\n",
       "              </progress>\n",
       "\n",
       "    "
      ],
      "text/plain": [
       "<IPython.core.display.HTML object>"
      ]
     },
     "metadata": {},
     "output_type": "display_data"
    },
    {
     "name": "stderr",
     "output_type": "stream",
     "text": [
      "C:\\Users\\Admin\\AppData\\Local\\Temp\\ipykernel_9472\\483276904.py:20: UserWarning: Using default sampling frequency set in configuration file.\n",
      "  X_test_tsfel = pd.concat([tsfel.time_series_features_extractor(cfg, pd.DataFrame(X_test[i])) for i in range(X_test.shape[0])], ignore_index=True)\n"
     ]
    },
    {
     "data": {
      "text/html": [
       "\n",
       "              <p>\n",
       "                  Progress: 100% Complete\n",
       "              <p/>\n",
       "              <progress\n",
       "                  value='67'\n",
       "                  max='67',\n",
       "                  style='width: 25%',\n",
       "              >\n",
       "                  67\n",
       "              </progress>\n",
       "\n",
       "    "
      ],
      "text/plain": [
       "<IPython.core.display.HTML object>"
      ]
     },
     "metadata": {},
     "output_type": "display_data"
    },
    {
     "name": "stderr",
     "output_type": "stream",
     "text": [
      "C:\\Users\\Admin\\AppData\\Local\\Temp\\ipykernel_9472\\483276904.py:20: UserWarning: Using default sampling frequency set in configuration file.\n",
      "  X_test_tsfel = pd.concat([tsfel.time_series_features_extractor(cfg, pd.DataFrame(X_test[i])) for i in range(X_test.shape[0])], ignore_index=True)\n"
     ]
    },
    {
     "data": {
      "text/html": [
       "\n",
       "              <p>\n",
       "                  Progress: 100% Complete\n",
       "              <p/>\n",
       "              <progress\n",
       "                  value='67'\n",
       "                  max='67',\n",
       "                  style='width: 25%',\n",
       "              >\n",
       "                  67\n",
       "              </progress>\n",
       "\n",
       "    "
      ],
      "text/plain": [
       "<IPython.core.display.HTML object>"
      ]
     },
     "metadata": {},
     "output_type": "display_data"
    },
    {
     "name": "stderr",
     "output_type": "stream",
     "text": [
      "C:\\Users\\Admin\\AppData\\Local\\Temp\\ipykernel_9472\\483276904.py:20: UserWarning: Using default sampling frequency set in configuration file.\n",
      "  X_test_tsfel = pd.concat([tsfel.time_series_features_extractor(cfg, pd.DataFrame(X_test[i])) for i in range(X_test.shape[0])], ignore_index=True)\n"
     ]
    },
    {
     "data": {
      "text/html": [
       "\n",
       "              <p>\n",
       "                  Progress: 100% Complete\n",
       "              <p/>\n",
       "              <progress\n",
       "                  value='67'\n",
       "                  max='67',\n",
       "                  style='width: 25%',\n",
       "              >\n",
       "                  67\n",
       "              </progress>\n",
       "\n",
       "    "
      ],
      "text/plain": [
       "<IPython.core.display.HTML object>"
      ]
     },
     "metadata": {},
     "output_type": "display_data"
    },
    {
     "name": "stderr",
     "output_type": "stream",
     "text": [
      "C:\\Users\\Admin\\AppData\\Local\\Temp\\ipykernel_9472\\483276904.py:20: UserWarning: Using default sampling frequency set in configuration file.\n",
      "  X_test_tsfel = pd.concat([tsfel.time_series_features_extractor(cfg, pd.DataFrame(X_test[i])) for i in range(X_test.shape[0])], ignore_index=True)\n"
     ]
    },
    {
     "data": {
      "text/html": [
       "\n",
       "              <p>\n",
       "                  Progress: 100% Complete\n",
       "              <p/>\n",
       "              <progress\n",
       "                  value='67'\n",
       "                  max='67',\n",
       "                  style='width: 25%',\n",
       "              >\n",
       "                  67\n",
       "              </progress>\n",
       "\n",
       "    "
      ],
      "text/plain": [
       "<IPython.core.display.HTML object>"
      ]
     },
     "metadata": {},
     "output_type": "display_data"
    },
    {
     "name": "stderr",
     "output_type": "stream",
     "text": [
      "C:\\Users\\Admin\\AppData\\Local\\Temp\\ipykernel_9472\\483276904.py:20: UserWarning: Using default sampling frequency set in configuration file.\n",
      "  X_test_tsfel = pd.concat([tsfel.time_series_features_extractor(cfg, pd.DataFrame(X_test[i])) for i in range(X_test.shape[0])], ignore_index=True)\n"
     ]
    },
    {
     "data": {
      "text/html": [
       "\n",
       "              <p>\n",
       "                  Progress: 100% Complete\n",
       "              <p/>\n",
       "              <progress\n",
       "                  value='67'\n",
       "                  max='67',\n",
       "                  style='width: 25%',\n",
       "              >\n",
       "                  67\n",
       "              </progress>\n",
       "\n",
       "    "
      ],
      "text/plain": [
       "<IPython.core.display.HTML object>"
      ]
     },
     "metadata": {},
     "output_type": "display_data"
    },
    {
     "name": "stderr",
     "output_type": "stream",
     "text": [
      "C:\\Users\\Admin\\AppData\\Local\\Temp\\ipykernel_9472\\483276904.py:20: UserWarning: Using default sampling frequency set in configuration file.\n",
      "  X_test_tsfel = pd.concat([tsfel.time_series_features_extractor(cfg, pd.DataFrame(X_test[i])) for i in range(X_test.shape[0])], ignore_index=True)\n"
     ]
    },
    {
     "data": {
      "text/html": [
       "\n",
       "              <p>\n",
       "                  Progress: 100% Complete\n",
       "              <p/>\n",
       "              <progress\n",
       "                  value='67'\n",
       "                  max='67',\n",
       "                  style='width: 25%',\n",
       "              >\n",
       "                  67\n",
       "              </progress>\n",
       "\n",
       "    "
      ],
      "text/plain": [
       "<IPython.core.display.HTML object>"
      ]
     },
     "metadata": {},
     "output_type": "display_data"
    },
    {
     "name": "stderr",
     "output_type": "stream",
     "text": [
      "C:\\Users\\Admin\\AppData\\Local\\Temp\\ipykernel_9472\\483276904.py:20: UserWarning: Using default sampling frequency set in configuration file.\n",
      "  X_test_tsfel = pd.concat([tsfel.time_series_features_extractor(cfg, pd.DataFrame(X_test[i])) for i in range(X_test.shape[0])], ignore_index=True)\n"
     ]
    },
    {
     "data": {
      "text/html": [
       "\n",
       "              <p>\n",
       "                  Progress: 100% Complete\n",
       "              <p/>\n",
       "              <progress\n",
       "                  value='67'\n",
       "                  max='67',\n",
       "                  style='width: 25%',\n",
       "              >\n",
       "                  67\n",
       "              </progress>\n",
       "\n",
       "    "
      ],
      "text/plain": [
       "<IPython.core.display.HTML object>"
      ]
     },
     "metadata": {},
     "output_type": "display_data"
    },
    {
     "name": "stderr",
     "output_type": "stream",
     "text": [
      "C:\\Users\\Admin\\AppData\\Local\\Temp\\ipykernel_9472\\483276904.py:20: UserWarning: Using default sampling frequency set in configuration file.\n",
      "  X_test_tsfel = pd.concat([tsfel.time_series_features_extractor(cfg, pd.DataFrame(X_test[i])) for i in range(X_test.shape[0])], ignore_index=True)\n"
     ]
    },
    {
     "data": {
      "text/html": [
       "\n",
       "              <p>\n",
       "                  Progress: 100% Complete\n",
       "              <p/>\n",
       "              <progress\n",
       "                  value='67'\n",
       "                  max='67',\n",
       "                  style='width: 25%',\n",
       "              >\n",
       "                  67\n",
       "              </progress>\n",
       "\n",
       "    "
      ],
      "text/plain": [
       "<IPython.core.display.HTML object>"
      ]
     },
     "metadata": {},
     "output_type": "display_data"
    },
    {
     "name": "stderr",
     "output_type": "stream",
     "text": [
      "C:\\Users\\Admin\\AppData\\Local\\Temp\\ipykernel_9472\\483276904.py:20: UserWarning: Using default sampling frequency set in configuration file.\n",
      "  X_test_tsfel = pd.concat([tsfel.time_series_features_extractor(cfg, pd.DataFrame(X_test[i])) for i in range(X_test.shape[0])], ignore_index=True)\n"
     ]
    },
    {
     "data": {
      "text/html": [
       "\n",
       "              <p>\n",
       "                  Progress: 100% Complete\n",
       "              <p/>\n",
       "              <progress\n",
       "                  value='67'\n",
       "                  max='67',\n",
       "                  style='width: 25%',\n",
       "              >\n",
       "                  67\n",
       "              </progress>\n",
       "\n",
       "    "
      ],
      "text/plain": [
       "<IPython.core.display.HTML object>"
      ]
     },
     "metadata": {},
     "output_type": "display_data"
    },
    {
     "name": "stderr",
     "output_type": "stream",
     "text": [
      "C:\\Users\\Admin\\AppData\\Local\\Temp\\ipykernel_9472\\483276904.py:20: UserWarning: Using default sampling frequency set in configuration file.\n",
      "  X_test_tsfel = pd.concat([tsfel.time_series_features_extractor(cfg, pd.DataFrame(X_test[i])) for i in range(X_test.shape[0])], ignore_index=True)\n"
     ]
    },
    {
     "data": {
      "text/html": [
       "\n",
       "              <p>\n",
       "                  Progress: 100% Complete\n",
       "              <p/>\n",
       "              <progress\n",
       "                  value='67'\n",
       "                  max='67',\n",
       "                  style='width: 25%',\n",
       "              >\n",
       "                  67\n",
       "              </progress>\n",
       "\n",
       "    "
      ],
      "text/plain": [
       "<IPython.core.display.HTML object>"
      ]
     },
     "metadata": {},
     "output_type": "display_data"
    },
    {
     "name": "stderr",
     "output_type": "stream",
     "text": [
      "C:\\Users\\Admin\\AppData\\Local\\Temp\\ipykernel_9472\\483276904.py:20: UserWarning: Using default sampling frequency set in configuration file.\n",
      "  X_test_tsfel = pd.concat([tsfel.time_series_features_extractor(cfg, pd.DataFrame(X_test[i])) for i in range(X_test.shape[0])], ignore_index=True)\n"
     ]
    },
    {
     "data": {
      "text/html": [
       "\n",
       "              <p>\n",
       "                  Progress: 100% Complete\n",
       "              <p/>\n",
       "              <progress\n",
       "                  value='67'\n",
       "                  max='67',\n",
       "                  style='width: 25%',\n",
       "              >\n",
       "                  67\n",
       "              </progress>\n",
       "\n",
       "    "
      ],
      "text/plain": [
       "<IPython.core.display.HTML object>"
      ]
     },
     "metadata": {},
     "output_type": "display_data"
    },
    {
     "name": "stderr",
     "output_type": "stream",
     "text": [
      "C:\\Users\\Admin\\AppData\\Local\\Temp\\ipykernel_9472\\483276904.py:20: UserWarning: Using default sampling frequency set in configuration file.\n",
      "  X_test_tsfel = pd.concat([tsfel.time_series_features_extractor(cfg, pd.DataFrame(X_test[i])) for i in range(X_test.shape[0])], ignore_index=True)\n"
     ]
    },
    {
     "data": {
      "text/html": [
       "\n",
       "              <p>\n",
       "                  Progress: 100% Complete\n",
       "              <p/>\n",
       "              <progress\n",
       "                  value='67'\n",
       "                  max='67',\n",
       "                  style='width: 25%',\n",
       "              >\n",
       "                  67\n",
       "              </progress>\n",
       "\n",
       "    "
      ],
      "text/plain": [
       "<IPython.core.display.HTML object>"
      ]
     },
     "metadata": {},
     "output_type": "display_data"
    },
    {
     "name": "stderr",
     "output_type": "stream",
     "text": [
      "C:\\Users\\Admin\\AppData\\Local\\Temp\\ipykernel_9472\\483276904.py:20: UserWarning: Using default sampling frequency set in configuration file.\n",
      "  X_test_tsfel = pd.concat([tsfel.time_series_features_extractor(cfg, pd.DataFrame(X_test[i])) for i in range(X_test.shape[0])], ignore_index=True)\n"
     ]
    },
    {
     "data": {
      "text/html": [
       "\n",
       "              <p>\n",
       "                  Progress: 100% Complete\n",
       "              <p/>\n",
       "              <progress\n",
       "                  value='67'\n",
       "                  max='67',\n",
       "                  style='width: 25%',\n",
       "              >\n",
       "                  67\n",
       "              </progress>\n",
       "\n",
       "    "
      ],
      "text/plain": [
       "<IPython.core.display.HTML object>"
      ]
     },
     "metadata": {},
     "output_type": "display_data"
    },
    {
     "name": "stderr",
     "output_type": "stream",
     "text": [
      "C:\\Users\\Admin\\AppData\\Local\\Temp\\ipykernel_9472\\483276904.py:20: UserWarning: Using default sampling frequency set in configuration file.\n",
      "  X_test_tsfel = pd.concat([tsfel.time_series_features_extractor(cfg, pd.DataFrame(X_test[i])) for i in range(X_test.shape[0])], ignore_index=True)\n"
     ]
    },
    {
     "data": {
      "text/html": [
       "\n",
       "              <p>\n",
       "                  Progress: 100% Complete\n",
       "              <p/>\n",
       "              <progress\n",
       "                  value='67'\n",
       "                  max='67',\n",
       "                  style='width: 25%',\n",
       "              >\n",
       "                  67\n",
       "              </progress>\n",
       "\n",
       "    "
      ],
      "text/plain": [
       "<IPython.core.display.HTML object>"
      ]
     },
     "metadata": {},
     "output_type": "display_data"
    },
    {
     "name": "stderr",
     "output_type": "stream",
     "text": [
      "C:\\Users\\Admin\\AppData\\Local\\Temp\\ipykernel_9472\\483276904.py:20: UserWarning: Using default sampling frequency set in configuration file.\n",
      "  X_test_tsfel = pd.concat([tsfel.time_series_features_extractor(cfg, pd.DataFrame(X_test[i])) for i in range(X_test.shape[0])], ignore_index=True)\n"
     ]
    },
    {
     "data": {
      "text/html": [
       "\n",
       "              <p>\n",
       "                  Progress: 100% Complete\n",
       "              <p/>\n",
       "              <progress\n",
       "                  value='67'\n",
       "                  max='67',\n",
       "                  style='width: 25%',\n",
       "              >\n",
       "                  67\n",
       "              </progress>\n",
       "\n",
       "    "
      ],
      "text/plain": [
       "<IPython.core.display.HTML object>"
      ]
     },
     "metadata": {},
     "output_type": "display_data"
    },
    {
     "name": "stderr",
     "output_type": "stream",
     "text": [
      "C:\\Users\\Admin\\AppData\\Local\\Temp\\ipykernel_9472\\483276904.py:20: UserWarning: Using default sampling frequency set in configuration file.\n",
      "  X_test_tsfel = pd.concat([tsfel.time_series_features_extractor(cfg, pd.DataFrame(X_test[i])) for i in range(X_test.shape[0])], ignore_index=True)\n"
     ]
    },
    {
     "data": {
      "text/html": [
       "\n",
       "              <p>\n",
       "                  Progress: 100% Complete\n",
       "              <p/>\n",
       "              <progress\n",
       "                  value='67'\n",
       "                  max='67',\n",
       "                  style='width: 25%',\n",
       "              >\n",
       "                  67\n",
       "              </progress>\n",
       "\n",
       "    "
      ],
      "text/plain": [
       "<IPython.core.display.HTML object>"
      ]
     },
     "metadata": {},
     "output_type": "display_data"
    },
    {
     "name": "stderr",
     "output_type": "stream",
     "text": [
      "C:\\Users\\Admin\\AppData\\Local\\Temp\\ipykernel_9472\\483276904.py:20: UserWarning: Using default sampling frequency set in configuration file.\n",
      "  X_test_tsfel = pd.concat([tsfel.time_series_features_extractor(cfg, pd.DataFrame(X_test[i])) for i in range(X_test.shape[0])], ignore_index=True)\n"
     ]
    },
    {
     "data": {
      "text/html": [
       "\n",
       "              <p>\n",
       "                  Progress: 100% Complete\n",
       "              <p/>\n",
       "              <progress\n",
       "                  value='67'\n",
       "                  max='67',\n",
       "                  style='width: 25%',\n",
       "              >\n",
       "                  67\n",
       "              </progress>\n",
       "\n",
       "    "
      ],
      "text/plain": [
       "<IPython.core.display.HTML object>"
      ]
     },
     "metadata": {},
     "output_type": "display_data"
    },
    {
     "name": "stderr",
     "output_type": "stream",
     "text": [
      "C:\\Users\\Admin\\AppData\\Local\\Temp\\ipykernel_9472\\483276904.py:20: UserWarning: Using default sampling frequency set in configuration file.\n",
      "  X_test_tsfel = pd.concat([tsfel.time_series_features_extractor(cfg, pd.DataFrame(X_test[i])) for i in range(X_test.shape[0])], ignore_index=True)\n"
     ]
    },
    {
     "data": {
      "text/html": [
       "\n",
       "              <p>\n",
       "                  Progress: 100% Complete\n",
       "              <p/>\n",
       "              <progress\n",
       "                  value='67'\n",
       "                  max='67',\n",
       "                  style='width: 25%',\n",
       "              >\n",
       "                  67\n",
       "              </progress>\n",
       "\n",
       "    "
      ],
      "text/plain": [
       "<IPython.core.display.HTML object>"
      ]
     },
     "metadata": {},
     "output_type": "display_data"
    },
    {
     "name": "stderr",
     "output_type": "stream",
     "text": [
      "C:\\Users\\Admin\\AppData\\Local\\Temp\\ipykernel_9472\\483276904.py:20: UserWarning: Using default sampling frequency set in configuration file.\n",
      "  X_test_tsfel = pd.concat([tsfel.time_series_features_extractor(cfg, pd.DataFrame(X_test[i])) for i in range(X_test.shape[0])], ignore_index=True)\n"
     ]
    },
    {
     "data": {
      "text/html": [
       "\n",
       "              <p>\n",
       "                  Progress: 100% Complete\n",
       "              <p/>\n",
       "              <progress\n",
       "                  value='67'\n",
       "                  max='67',\n",
       "                  style='width: 25%',\n",
       "              >\n",
       "                  67\n",
       "              </progress>\n",
       "\n",
       "    "
      ],
      "text/plain": [
       "<IPython.core.display.HTML object>"
      ]
     },
     "metadata": {},
     "output_type": "display_data"
    },
    {
     "name": "stderr",
     "output_type": "stream",
     "text": [
      "C:\\Users\\Admin\\AppData\\Local\\Temp\\ipykernel_9472\\483276904.py:20: UserWarning: Using default sampling frequency set in configuration file.\n",
      "  X_test_tsfel = pd.concat([tsfel.time_series_features_extractor(cfg, pd.DataFrame(X_test[i])) for i in range(X_test.shape[0])], ignore_index=True)\n"
     ]
    },
    {
     "data": {
      "text/html": [
       "\n",
       "              <p>\n",
       "                  Progress: 100% Complete\n",
       "              <p/>\n",
       "              <progress\n",
       "                  value='67'\n",
       "                  max='67',\n",
       "                  style='width: 25%',\n",
       "              >\n",
       "                  67\n",
       "              </progress>\n",
       "\n",
       "    "
      ],
      "text/plain": [
       "<IPython.core.display.HTML object>"
      ]
     },
     "metadata": {},
     "output_type": "display_data"
    },
    {
     "name": "stderr",
     "output_type": "stream",
     "text": [
      "C:\\Users\\Admin\\AppData\\Local\\Temp\\ipykernel_9472\\483276904.py:20: UserWarning: Using default sampling frequency set in configuration file.\n",
      "  X_test_tsfel = pd.concat([tsfel.time_series_features_extractor(cfg, pd.DataFrame(X_test[i])) for i in range(X_test.shape[0])], ignore_index=True)\n"
     ]
    },
    {
     "data": {
      "text/html": [
       "\n",
       "              <p>\n",
       "                  Progress: 100% Complete\n",
       "              <p/>\n",
       "              <progress\n",
       "                  value='67'\n",
       "                  max='67',\n",
       "                  style='width: 25%',\n",
       "              >\n",
       "                  67\n",
       "              </progress>\n",
       "\n",
       "    "
      ],
      "text/plain": [
       "<IPython.core.display.HTML object>"
      ]
     },
     "metadata": {},
     "output_type": "display_data"
    },
    {
     "name": "stderr",
     "output_type": "stream",
     "text": [
      "C:\\Users\\Admin\\AppData\\Local\\Temp\\ipykernel_9472\\483276904.py:20: UserWarning: Using default sampling frequency set in configuration file.\n",
      "  X_test_tsfel = pd.concat([tsfel.time_series_features_extractor(cfg, pd.DataFrame(X_test[i])) for i in range(X_test.shape[0])], ignore_index=True)\n"
     ]
    },
    {
     "data": {
      "text/html": [
       "\n",
       "              <p>\n",
       "                  Progress: 100% Complete\n",
       "              <p/>\n",
       "              <progress\n",
       "                  value='67'\n",
       "                  max='67',\n",
       "                  style='width: 25%',\n",
       "              >\n",
       "                  67\n",
       "              </progress>\n",
       "\n",
       "    "
      ],
      "text/plain": [
       "<IPython.core.display.HTML object>"
      ]
     },
     "metadata": {},
     "output_type": "display_data"
    },
    {
     "name": "stderr",
     "output_type": "stream",
     "text": [
      "C:\\Users\\Admin\\AppData\\Local\\Temp\\ipykernel_9472\\483276904.py:20: UserWarning: Using default sampling frequency set in configuration file.\n",
      "  X_test_tsfel = pd.concat([tsfel.time_series_features_extractor(cfg, pd.DataFrame(X_test[i])) for i in range(X_test.shape[0])], ignore_index=True)\n"
     ]
    },
    {
     "data": {
      "text/html": [
       "\n",
       "              <p>\n",
       "                  Progress: 100% Complete\n",
       "              <p/>\n",
       "              <progress\n",
       "                  value='67'\n",
       "                  max='67',\n",
       "                  style='width: 25%',\n",
       "              >\n",
       "                  67\n",
       "              </progress>\n",
       "\n",
       "    "
      ],
      "text/plain": [
       "<IPython.core.display.HTML object>"
      ]
     },
     "metadata": {},
     "output_type": "display_data"
    },
    {
     "name": "stderr",
     "output_type": "stream",
     "text": [
      "C:\\Users\\Admin\\AppData\\Local\\Temp\\ipykernel_9472\\483276904.py:20: UserWarning: Using default sampling frequency set in configuration file.\n",
      "  X_test_tsfel = pd.concat([tsfel.time_series_features_extractor(cfg, pd.DataFrame(X_test[i])) for i in range(X_test.shape[0])], ignore_index=True)\n"
     ]
    },
    {
     "data": {
      "text/html": [
       "\n",
       "              <p>\n",
       "                  Progress: 100% Complete\n",
       "              <p/>\n",
       "              <progress\n",
       "                  value='67'\n",
       "                  max='67',\n",
       "                  style='width: 25%',\n",
       "              >\n",
       "                  67\n",
       "              </progress>\n",
       "\n",
       "    "
      ],
      "text/plain": [
       "<IPython.core.display.HTML object>"
      ]
     },
     "metadata": {},
     "output_type": "display_data"
    },
    {
     "name": "stderr",
     "output_type": "stream",
     "text": [
      "C:\\Users\\Admin\\AppData\\Local\\Temp\\ipykernel_9472\\483276904.py:20: UserWarning: Using default sampling frequency set in configuration file.\n",
      "  X_test_tsfel = pd.concat([tsfel.time_series_features_extractor(cfg, pd.DataFrame(X_test[i])) for i in range(X_test.shape[0])], ignore_index=True)\n"
     ]
    },
    {
     "data": {
      "text/html": [
       "\n",
       "              <p>\n",
       "                  Progress: 100% Complete\n",
       "              <p/>\n",
       "              <progress\n",
       "                  value='67'\n",
       "                  max='67',\n",
       "                  style='width: 25%',\n",
       "              >\n",
       "                  67\n",
       "              </progress>\n",
       "\n",
       "    "
      ],
      "text/plain": [
       "<IPython.core.display.HTML object>"
      ]
     },
     "metadata": {},
     "output_type": "display_data"
    },
    {
     "name": "stderr",
     "output_type": "stream",
     "text": [
      "C:\\Users\\Admin\\AppData\\Local\\Temp\\ipykernel_9472\\483276904.py:20: UserWarning: Using default sampling frequency set in configuration file.\n",
      "  X_test_tsfel = pd.concat([tsfel.time_series_features_extractor(cfg, pd.DataFrame(X_test[i])) for i in range(X_test.shape[0])], ignore_index=True)\n"
     ]
    },
    {
     "data": {
      "text/html": [
       "\n",
       "              <p>\n",
       "                  Progress: 100% Complete\n",
       "              <p/>\n",
       "              <progress\n",
       "                  value='67'\n",
       "                  max='67',\n",
       "                  style='width: 25%',\n",
       "              >\n",
       "                  67\n",
       "              </progress>\n",
       "\n",
       "    "
      ],
      "text/plain": [
       "<IPython.core.display.HTML object>"
      ]
     },
     "metadata": {},
     "output_type": "display_data"
    },
    {
     "name": "stderr",
     "output_type": "stream",
     "text": [
      "C:\\Users\\Admin\\AppData\\Local\\Temp\\ipykernel_9472\\483276904.py:20: UserWarning: Using default sampling frequency set in configuration file.\n",
      "  X_test_tsfel = pd.concat([tsfel.time_series_features_extractor(cfg, pd.DataFrame(X_test[i])) for i in range(X_test.shape[0])], ignore_index=True)\n"
     ]
    },
    {
     "data": {
      "text/html": [
       "\n",
       "              <p>\n",
       "                  Progress: 100% Complete\n",
       "              <p/>\n",
       "              <progress\n",
       "                  value='67'\n",
       "                  max='67',\n",
       "                  style='width: 25%',\n",
       "              >\n",
       "                  67\n",
       "              </progress>\n",
       "\n",
       "    "
      ],
      "text/plain": [
       "<IPython.core.display.HTML object>"
      ]
     },
     "metadata": {},
     "output_type": "display_data"
    },
    {
     "name": "stderr",
     "output_type": "stream",
     "text": [
      "C:\\Users\\Admin\\AppData\\Local\\Temp\\ipykernel_9472\\483276904.py:20: UserWarning: Using default sampling frequency set in configuration file.\n",
      "  X_test_tsfel = pd.concat([tsfel.time_series_features_extractor(cfg, pd.DataFrame(X_test[i])) for i in range(X_test.shape[0])], ignore_index=True)\n"
     ]
    },
    {
     "data": {
      "text/html": [
       "\n",
       "              <p>\n",
       "                  Progress: 100% Complete\n",
       "              <p/>\n",
       "              <progress\n",
       "                  value='67'\n",
       "                  max='67',\n",
       "                  style='width: 25%',\n",
       "              >\n",
       "                  67\n",
       "              </progress>\n",
       "\n",
       "    "
      ],
      "text/plain": [
       "<IPython.core.display.HTML object>"
      ]
     },
     "metadata": {},
     "output_type": "display_data"
    },
    {
     "name": "stderr",
     "output_type": "stream",
     "text": [
      "C:\\Users\\Admin\\AppData\\Local\\Temp\\ipykernel_9472\\483276904.py:20: UserWarning: Using default sampling frequency set in configuration file.\n",
      "  X_test_tsfel = pd.concat([tsfel.time_series_features_extractor(cfg, pd.DataFrame(X_test[i])) for i in range(X_test.shape[0])], ignore_index=True)\n"
     ]
    },
    {
     "data": {
      "text/html": [
       "\n",
       "              <p>\n",
       "                  Progress: 100% Complete\n",
       "              <p/>\n",
       "              <progress\n",
       "                  value='67'\n",
       "                  max='67',\n",
       "                  style='width: 25%',\n",
       "              >\n",
       "                  67\n",
       "              </progress>\n",
       "\n",
       "    "
      ],
      "text/plain": [
       "<IPython.core.display.HTML object>"
      ]
     },
     "metadata": {},
     "output_type": "display_data"
    },
    {
     "name": "stderr",
     "output_type": "stream",
     "text": [
      "C:\\Users\\Admin\\AppData\\Local\\Temp\\ipykernel_9472\\483276904.py:20: UserWarning: Using default sampling frequency set in configuration file.\n",
      "  X_test_tsfel = pd.concat([tsfel.time_series_features_extractor(cfg, pd.DataFrame(X_test[i])) for i in range(X_test.shape[0])], ignore_index=True)\n"
     ]
    },
    {
     "data": {
      "text/html": [
       "\n",
       "              <p>\n",
       "                  Progress: 100% Complete\n",
       "              <p/>\n",
       "              <progress\n",
       "                  value='67'\n",
       "                  max='67',\n",
       "                  style='width: 25%',\n",
       "              >\n",
       "                  67\n",
       "              </progress>\n",
       "\n",
       "    "
      ],
      "text/plain": [
       "<IPython.core.display.HTML object>"
      ]
     },
     "metadata": {},
     "output_type": "display_data"
    },
    {
     "name": "stderr",
     "output_type": "stream",
     "text": [
      "C:\\Users\\Admin\\AppData\\Local\\Temp\\ipykernel_9472\\483276904.py:20: UserWarning: Using default sampling frequency set in configuration file.\n",
      "  X_test_tsfel = pd.concat([tsfel.time_series_features_extractor(cfg, pd.DataFrame(X_test[i])) for i in range(X_test.shape[0])], ignore_index=True)\n"
     ]
    },
    {
     "data": {
      "text/html": [
       "\n",
       "              <p>\n",
       "                  Progress: 100% Complete\n",
       "              <p/>\n",
       "              <progress\n",
       "                  value='67'\n",
       "                  max='67',\n",
       "                  style='width: 25%',\n",
       "              >\n",
       "                  67\n",
       "              </progress>\n",
       "\n",
       "    "
      ],
      "text/plain": [
       "<IPython.core.display.HTML object>"
      ]
     },
     "metadata": {},
     "output_type": "display_data"
    },
    {
     "name": "stderr",
     "output_type": "stream",
     "text": [
      "C:\\Users\\Admin\\AppData\\Local\\Temp\\ipykernel_9472\\483276904.py:20: UserWarning: Using default sampling frequency set in configuration file.\n",
      "  X_test_tsfel = pd.concat([tsfel.time_series_features_extractor(cfg, pd.DataFrame(X_test[i])) for i in range(X_test.shape[0])], ignore_index=True)\n"
     ]
    },
    {
     "data": {
      "text/html": [
       "\n",
       "              <p>\n",
       "                  Progress: 100% Complete\n",
       "              <p/>\n",
       "              <progress\n",
       "                  value='67'\n",
       "                  max='67',\n",
       "                  style='width: 25%',\n",
       "              >\n",
       "                  67\n",
       "              </progress>\n",
       "\n",
       "    "
      ],
      "text/plain": [
       "<IPython.core.display.HTML object>"
      ]
     },
     "metadata": {},
     "output_type": "display_data"
    },
    {
     "name": "stderr",
     "output_type": "stream",
     "text": [
      "C:\\Users\\Admin\\AppData\\Local\\Temp\\ipykernel_9472\\483276904.py:20: UserWarning: Using default sampling frequency set in configuration file.\n",
      "  X_test_tsfel = pd.concat([tsfel.time_series_features_extractor(cfg, pd.DataFrame(X_test[i])) for i in range(X_test.shape[0])], ignore_index=True)\n"
     ]
    },
    {
     "data": {
      "text/html": [
       "\n",
       "              <p>\n",
       "                  Progress: 100% Complete\n",
       "              <p/>\n",
       "              <progress\n",
       "                  value='67'\n",
       "                  max='67',\n",
       "                  style='width: 25%',\n",
       "              >\n",
       "                  67\n",
       "              </progress>\n",
       "\n",
       "    "
      ],
      "text/plain": [
       "<IPython.core.display.HTML object>"
      ]
     },
     "metadata": {},
     "output_type": "display_data"
    },
    {
     "name": "stderr",
     "output_type": "stream",
     "text": [
      "C:\\Users\\Admin\\AppData\\Local\\Temp\\ipykernel_9472\\483276904.py:20: UserWarning: Using default sampling frequency set in configuration file.\n",
      "  X_test_tsfel = pd.concat([tsfel.time_series_features_extractor(cfg, pd.DataFrame(X_test[i])) for i in range(X_test.shape[0])], ignore_index=True)\n"
     ]
    },
    {
     "data": {
      "text/html": [
       "\n",
       "              <p>\n",
       "                  Progress: 100% Complete\n",
       "              <p/>\n",
       "              <progress\n",
       "                  value='67'\n",
       "                  max='67',\n",
       "                  style='width: 25%',\n",
       "              >\n",
       "                  67\n",
       "              </progress>\n",
       "\n",
       "    "
      ],
      "text/plain": [
       "<IPython.core.display.HTML object>"
      ]
     },
     "metadata": {},
     "output_type": "display_data"
    },
    {
     "name": "stderr",
     "output_type": "stream",
     "text": [
      "C:\\Users\\Admin\\AppData\\Local\\Temp\\ipykernel_9472\\483276904.py:20: UserWarning: Using default sampling frequency set in configuration file.\n",
      "  X_test_tsfel = pd.concat([tsfel.time_series_features_extractor(cfg, pd.DataFrame(X_test[i])) for i in range(X_test.shape[0])], ignore_index=True)\n"
     ]
    },
    {
     "data": {
      "text/html": [
       "\n",
       "              <p>\n",
       "                  Progress: 100% Complete\n",
       "              <p/>\n",
       "              <progress\n",
       "                  value='67'\n",
       "                  max='67',\n",
       "                  style='width: 25%',\n",
       "              >\n",
       "                  67\n",
       "              </progress>\n",
       "\n",
       "    "
      ],
      "text/plain": [
       "<IPython.core.display.HTML object>"
      ]
     },
     "metadata": {},
     "output_type": "display_data"
    },
    {
     "name": "stderr",
     "output_type": "stream",
     "text": [
      "C:\\Users\\Admin\\AppData\\Local\\Temp\\ipykernel_9472\\483276904.py:20: UserWarning: Using default sampling frequency set in configuration file.\n",
      "  X_test_tsfel = pd.concat([tsfel.time_series_features_extractor(cfg, pd.DataFrame(X_test[i])) for i in range(X_test.shape[0])], ignore_index=True)\n"
     ]
    },
    {
     "data": {
      "text/html": [
       "\n",
       "              <p>\n",
       "                  Progress: 100% Complete\n",
       "              <p/>\n",
       "              <progress\n",
       "                  value='67'\n",
       "                  max='67',\n",
       "                  style='width: 25%',\n",
       "              >\n",
       "                  67\n",
       "              </progress>\n",
       "\n",
       "    "
      ],
      "text/plain": [
       "<IPython.core.display.HTML object>"
      ]
     },
     "metadata": {},
     "output_type": "display_data"
    },
    {
     "name": "stderr",
     "output_type": "stream",
     "text": [
      "C:\\Users\\Admin\\AppData\\Local\\Temp\\ipykernel_9472\\483276904.py:20: UserWarning: Using default sampling frequency set in configuration file.\n",
      "  X_test_tsfel = pd.concat([tsfel.time_series_features_extractor(cfg, pd.DataFrame(X_test[i])) for i in range(X_test.shape[0])], ignore_index=True)\n"
     ]
    },
    {
     "data": {
      "text/html": [
       "\n",
       "              <p>\n",
       "                  Progress: 100% Complete\n",
       "              <p/>\n",
       "              <progress\n",
       "                  value='67'\n",
       "                  max='67',\n",
       "                  style='width: 25%',\n",
       "              >\n",
       "                  67\n",
       "              </progress>\n",
       "\n",
       "    "
      ],
      "text/plain": [
       "<IPython.core.display.HTML object>"
      ]
     },
     "metadata": {},
     "output_type": "display_data"
    },
    {
     "name": "stderr",
     "output_type": "stream",
     "text": [
      "C:\\Users\\Admin\\AppData\\Local\\Temp\\ipykernel_9472\\483276904.py:20: UserWarning: Using default sampling frequency set in configuration file.\n",
      "  X_test_tsfel = pd.concat([tsfel.time_series_features_extractor(cfg, pd.DataFrame(X_test[i])) for i in range(X_test.shape[0])], ignore_index=True)\n"
     ]
    },
    {
     "data": {
      "text/html": [
       "\n",
       "              <p>\n",
       "                  Progress: 100% Complete\n",
       "              <p/>\n",
       "              <progress\n",
       "                  value='67'\n",
       "                  max='67',\n",
       "                  style='width: 25%',\n",
       "              >\n",
       "                  67\n",
       "              </progress>\n",
       "\n",
       "    "
      ],
      "text/plain": [
       "<IPython.core.display.HTML object>"
      ]
     },
     "metadata": {},
     "output_type": "display_data"
    },
    {
     "name": "stderr",
     "output_type": "stream",
     "text": [
      "C:\\Users\\Admin\\AppData\\Local\\Temp\\ipykernel_9472\\483276904.py:20: UserWarning: Using default sampling frequency set in configuration file.\n",
      "  X_test_tsfel = pd.concat([tsfel.time_series_features_extractor(cfg, pd.DataFrame(X_test[i])) for i in range(X_test.shape[0])], ignore_index=True)\n"
     ]
    },
    {
     "data": {
      "text/html": [
       "\n",
       "              <p>\n",
       "                  Progress: 100% Complete\n",
       "              <p/>\n",
       "              <progress\n",
       "                  value='67'\n",
       "                  max='67',\n",
       "                  style='width: 25%',\n",
       "              >\n",
       "                  67\n",
       "              </progress>\n",
       "\n",
       "    "
      ],
      "text/plain": [
       "<IPython.core.display.HTML object>"
      ]
     },
     "metadata": {},
     "output_type": "display_data"
    },
    {
     "name": "stderr",
     "output_type": "stream",
     "text": [
      "C:\\Users\\Admin\\AppData\\Local\\Temp\\ipykernel_9472\\483276904.py:20: UserWarning: Using default sampling frequency set in configuration file.\n",
      "  X_test_tsfel = pd.concat([tsfel.time_series_features_extractor(cfg, pd.DataFrame(X_test[i])) for i in range(X_test.shape[0])], ignore_index=True)\n"
     ]
    },
    {
     "data": {
      "text/html": [
       "\n",
       "              <p>\n",
       "                  Progress: 100% Complete\n",
       "              <p/>\n",
       "              <progress\n",
       "                  value='67'\n",
       "                  max='67',\n",
       "                  style='width: 25%',\n",
       "              >\n",
       "                  67\n",
       "              </progress>\n",
       "\n",
       "    "
      ],
      "text/plain": [
       "<IPython.core.display.HTML object>"
      ]
     },
     "metadata": {},
     "output_type": "display_data"
    },
    {
     "name": "stderr",
     "output_type": "stream",
     "text": [
      "C:\\Users\\Admin\\AppData\\Local\\Temp\\ipykernel_9472\\483276904.py:20: UserWarning: Using default sampling frequency set in configuration file.\n",
      "  X_test_tsfel = pd.concat([tsfel.time_series_features_extractor(cfg, pd.DataFrame(X_test[i])) for i in range(X_test.shape[0])], ignore_index=True)\n"
     ]
    },
    {
     "data": {
      "text/html": [
       "\n",
       "              <p>\n",
       "                  Progress: 100% Complete\n",
       "              <p/>\n",
       "              <progress\n",
       "                  value='67'\n",
       "                  max='67',\n",
       "                  style='width: 25%',\n",
       "              >\n",
       "                  67\n",
       "              </progress>\n",
       "\n",
       "    "
      ],
      "text/plain": [
       "<IPython.core.display.HTML object>"
      ]
     },
     "metadata": {},
     "output_type": "display_data"
    },
    {
     "name": "stderr",
     "output_type": "stream",
     "text": [
      "C:\\Users\\Admin\\AppData\\Local\\Temp\\ipykernel_9472\\483276904.py:20: UserWarning: Using default sampling frequency set in configuration file.\n",
      "  X_test_tsfel = pd.concat([tsfel.time_series_features_extractor(cfg, pd.DataFrame(X_test[i])) for i in range(X_test.shape[0])], ignore_index=True)\n"
     ]
    },
    {
     "data": {
      "text/html": [
       "\n",
       "              <p>\n",
       "                  Progress: 100% Complete\n",
       "              <p/>\n",
       "              <progress\n",
       "                  value='67'\n",
       "                  max='67',\n",
       "                  style='width: 25%',\n",
       "              >\n",
       "                  67\n",
       "              </progress>\n",
       "\n",
       "    "
      ],
      "text/plain": [
       "<IPython.core.display.HTML object>"
      ]
     },
     "metadata": {},
     "output_type": "display_data"
    },
    {
     "name": "stderr",
     "output_type": "stream",
     "text": [
      "C:\\Users\\Admin\\AppData\\Local\\Temp\\ipykernel_9472\\483276904.py:20: UserWarning: Using default sampling frequency set in configuration file.\n",
      "  X_test_tsfel = pd.concat([tsfel.time_series_features_extractor(cfg, pd.DataFrame(X_test[i])) for i in range(X_test.shape[0])], ignore_index=True)\n"
     ]
    },
    {
     "data": {
      "text/html": [
       "\n",
       "              <p>\n",
       "                  Progress: 100% Complete\n",
       "              <p/>\n",
       "              <progress\n",
       "                  value='67'\n",
       "                  max='67',\n",
       "                  style='width: 25%',\n",
       "              >\n",
       "                  67\n",
       "              </progress>\n",
       "\n",
       "    "
      ],
      "text/plain": [
       "<IPython.core.display.HTML object>"
      ]
     },
     "metadata": {},
     "output_type": "display_data"
    },
    {
     "name": "stderr",
     "output_type": "stream",
     "text": [
      "C:\\Users\\Admin\\AppData\\Local\\Temp\\ipykernel_9472\\483276904.py:20: UserWarning: Using default sampling frequency set in configuration file.\n",
      "  X_test_tsfel = pd.concat([tsfel.time_series_features_extractor(cfg, pd.DataFrame(X_test[i])) for i in range(X_test.shape[0])], ignore_index=True)\n"
     ]
    },
    {
     "data": {
      "text/html": [
       "\n",
       "              <p>\n",
       "                  Progress: 100% Complete\n",
       "              <p/>\n",
       "              <progress\n",
       "                  value='67'\n",
       "                  max='67',\n",
       "                  style='width: 25%',\n",
       "              >\n",
       "                  67\n",
       "              </progress>\n",
       "\n",
       "    "
      ],
      "text/plain": [
       "<IPython.core.display.HTML object>"
      ]
     },
     "metadata": {},
     "output_type": "display_data"
    },
    {
     "name": "stderr",
     "output_type": "stream",
     "text": [
      "C:\\Users\\Admin\\AppData\\Local\\Temp\\ipykernel_9472\\483276904.py:20: UserWarning: Using default sampling frequency set in configuration file.\n",
      "  X_test_tsfel = pd.concat([tsfel.time_series_features_extractor(cfg, pd.DataFrame(X_test[i])) for i in range(X_test.shape[0])], ignore_index=True)\n"
     ]
    },
    {
     "data": {
      "text/html": [
       "\n",
       "              <p>\n",
       "                  Progress: 100% Complete\n",
       "              <p/>\n",
       "              <progress\n",
       "                  value='67'\n",
       "                  max='67',\n",
       "                  style='width: 25%',\n",
       "              >\n",
       "                  67\n",
       "              </progress>\n",
       "\n",
       "    "
      ],
      "text/plain": [
       "<IPython.core.display.HTML object>"
      ]
     },
     "metadata": {},
     "output_type": "display_data"
    },
    {
     "name": "stderr",
     "output_type": "stream",
     "text": [
      "C:\\Users\\Admin\\AppData\\Local\\Temp\\ipykernel_9472\\483276904.py:20: UserWarning: Using default sampling frequency set in configuration file.\n",
      "  X_test_tsfel = pd.concat([tsfel.time_series_features_extractor(cfg, pd.DataFrame(X_test[i])) for i in range(X_test.shape[0])], ignore_index=True)\n"
     ]
    },
    {
     "data": {
      "text/html": [
       "\n",
       "              <p>\n",
       "                  Progress: 100% Complete\n",
       "              <p/>\n",
       "              <progress\n",
       "                  value='67'\n",
       "                  max='67',\n",
       "                  style='width: 25%',\n",
       "              >\n",
       "                  67\n",
       "              </progress>\n",
       "\n",
       "    "
      ],
      "text/plain": [
       "<IPython.core.display.HTML object>"
      ]
     },
     "metadata": {},
     "output_type": "display_data"
    },
    {
     "name": "stderr",
     "output_type": "stream",
     "text": [
      "C:\\Users\\Admin\\AppData\\Local\\Temp\\ipykernel_9472\\483276904.py:20: UserWarning: Using default sampling frequency set in configuration file.\n",
      "  X_test_tsfel = pd.concat([tsfel.time_series_features_extractor(cfg, pd.DataFrame(X_test[i])) for i in range(X_test.shape[0])], ignore_index=True)\n"
     ]
    },
    {
     "data": {
      "text/html": [
       "\n",
       "              <p>\n",
       "                  Progress: 100% Complete\n",
       "              <p/>\n",
       "              <progress\n",
       "                  value='67'\n",
       "                  max='67',\n",
       "                  style='width: 25%',\n",
       "              >\n",
       "                  67\n",
       "              </progress>\n",
       "\n",
       "    "
      ],
      "text/plain": [
       "<IPython.core.display.HTML object>"
      ]
     },
     "metadata": {},
     "output_type": "display_data"
    },
    {
     "name": "stderr",
     "output_type": "stream",
     "text": [
      "C:\\Users\\Admin\\AppData\\Local\\Temp\\ipykernel_9472\\483276904.py:20: UserWarning: Using default sampling frequency set in configuration file.\n",
      "  X_test_tsfel = pd.concat([tsfel.time_series_features_extractor(cfg, pd.DataFrame(X_test[i])) for i in range(X_test.shape[0])], ignore_index=True)\n"
     ]
    },
    {
     "data": {
      "text/html": [
       "\n",
       "              <p>\n",
       "                  Progress: 100% Complete\n",
       "              <p/>\n",
       "              <progress\n",
       "                  value='67'\n",
       "                  max='67',\n",
       "                  style='width: 25%',\n",
       "              >\n",
       "                  67\n",
       "              </progress>\n",
       "\n",
       "    "
      ],
      "text/plain": [
       "<IPython.core.display.HTML object>"
      ]
     },
     "metadata": {},
     "output_type": "display_data"
    },
    {
     "name": "stderr",
     "output_type": "stream",
     "text": [
      "C:\\Users\\Admin\\AppData\\Local\\Temp\\ipykernel_9472\\483276904.py:20: UserWarning: Using default sampling frequency set in configuration file.\n",
      "  X_test_tsfel = pd.concat([tsfel.time_series_features_extractor(cfg, pd.DataFrame(X_test[i])) for i in range(X_test.shape[0])], ignore_index=True)\n"
     ]
    },
    {
     "data": {
      "text/html": [
       "\n",
       "              <p>\n",
       "                  Progress: 100% Complete\n",
       "              <p/>\n",
       "              <progress\n",
       "                  value='67'\n",
       "                  max='67',\n",
       "                  style='width: 25%',\n",
       "              >\n",
       "                  67\n",
       "              </progress>\n",
       "\n",
       "    "
      ],
      "text/plain": [
       "<IPython.core.display.HTML object>"
      ]
     },
     "metadata": {},
     "output_type": "display_data"
    },
    {
     "name": "stderr",
     "output_type": "stream",
     "text": [
      "C:\\Users\\Admin\\AppData\\Local\\Temp\\ipykernel_9472\\483276904.py:20: UserWarning: Using default sampling frequency set in configuration file.\n",
      "  X_test_tsfel = pd.concat([tsfel.time_series_features_extractor(cfg, pd.DataFrame(X_test[i])) for i in range(X_test.shape[0])], ignore_index=True)\n"
     ]
    },
    {
     "data": {
      "text/html": [
       "\n",
       "              <p>\n",
       "                  Progress: 100% Complete\n",
       "              <p/>\n",
       "              <progress\n",
       "                  value='67'\n",
       "                  max='67',\n",
       "                  style='width: 25%',\n",
       "              >\n",
       "                  67\n",
       "              </progress>\n",
       "\n",
       "    "
      ],
      "text/plain": [
       "<IPython.core.display.HTML object>"
      ]
     },
     "metadata": {},
     "output_type": "display_data"
    },
    {
     "data": {
      "image/png": "[encoded data removed]",
      "text/plain": [
       "<Figure size 800x500 with 1 Axes>"
      ]
     },
     "metadata": {},
     "output_type": "display_data"
    }
   ],
   "source": [
    "import pandas as pd\n",
    "import numpy as np\n",
    "import tsfel\n",
    "import matplotlib.pyplot as plt\n",
    "from sklearn.model_selection import train_test_split\n",
    "from sklearn.tree import DecisionTreeClassifier\n",
    "from sklearn.metrics import accuracy_score, precision_score, recall_score, confusion_matrix\n",
    "import os\n",
    "\n",
    "# Load dataset from MakeDataset.py\n",
    "from MakeDataset import X_train, X_test, y_train, y_test\n",
    "\n",
    "# Convert to DataFrame\n",
    "X_train_df = pd.DataFrame(X_train.reshape(X_train.shape[0], -1))\n",
    "X_test_df = pd.DataFrame(X_test.reshape(X_test.shape[0], -1))\n",
    "\n",
    "# Extract Features using TSFEL per sample\n",
    "cfg = tsfel.get_features_by_domain()\n",
    "X_train_tsfel = pd.concat([tsfel.time_series_features_extractor(cfg, pd.DataFrame(X_train[i])) for i in range(X_train.shape[0])], ignore_index=True)\n",
    "X_test_tsfel = pd.concat([tsfel.time_series_features_extractor(cfg, pd.DataFrame(X_test[i])) for i in range(X_test.shape[0])], ignore_index=True)\n",
    "\n",
    "# Fill NaN values\n",
    "X_train_tsfel.fillna(0, inplace=True)\n",
    "X_test_tsfel.fillna(0, inplace=True)\n",
    "\n",
    "# Ensure number of samples match\n",
    "assert X_train_tsfel.shape[0] == len(y_train), \"Mismatch: X_train_tsfel samples do not match y_train labels\"\n",
    "assert X_test_tsfel.shape[0] == len(y_test), \"Mismatch: X_test_tsfel samples do not match y_test labels\"\n",
    "\n",
    "# Check for additional dataset features\n",
    "X_dataset_train = X_train_df.drop(columns=[0, 1, 2], errors='ignore')  # Drop raw sensor columns if they exist\n",
    "X_dataset_test = X_test_df.drop(columns=[0, 1, 2], errors='ignore')\n",
    "dataset_available = not X_dataset_train.empty\n",
    "\n",
    "# Varying Decision Tree Depths\n",
    "depths = range(2, 9)\n",
    "accuracy_raw_list = []\n",
    "accuracy_tsfel_list = []\n",
    "accuracy_dataset_list = []\n",
    "\n",
    "for depth in depths:\n",
    "    # Raw Data\n",
    "    clf_raw = DecisionTreeClassifier(max_depth=depth, random_state=42)\n",
    "    clf_raw.fit(X_train_df, y_train)\n",
    "    y_pred_raw = clf_raw.predict(X_test_df)\n",
    "    accuracy_raw_list.append(accuracy_score(y_test, y_pred_raw))\n",
    "\n",
    "    # TSFEL Features\n",
    "    clf_tsfel = DecisionTreeClassifier(max_depth=depth, random_state=42)\n",
    "    clf_tsfel.fit(X_train_tsfel, y_train)\n",
    "    y_pred_tsfel = clf_tsfel.predict(X_test_tsfel)\n",
    "    accuracy_tsfel_list.append(accuracy_score(y_test, y_pred_tsfel))\n",
    "\n",
    "    # Dataset Features (if available)\n",
    "    if dataset_available:\n",
    "        clf_dataset = DecisionTreeClassifier(max_depth=depth, random_state=42)\n",
    "        clf_dataset.fit(X_dataset_train, y_train)\n",
    "        y_pred_dataset = clf_dataset.predict(X_dataset_test)\n",
    "        accuracy_dataset_list.append(accuracy_score(y_test, y_pred_dataset))\n",
    "    else:\n",
    "        accuracy_dataset_list.append(None)\n",
    "\n",
    "# Plot Accuracy vs. Depth\n",
    "plt.figure(figsize=(8, 5))\n",
    "plt.plot(depths, accuracy_raw_list, marker='o', label='Raw Data')\n",
    "plt.plot(depths, accuracy_tsfel_list, marker='s', label='TSFEL Features')\n",
    "if dataset_available:\n",
    "    plt.plot(depths, accuracy_dataset_list, marker='^', label='Dataset Features', linestyle='dashed')\n",
    "plt.xlabel('Tree Depth')\n",
    "plt.ylabel('Accuracy')\n",
    "plt.title('Decision Tree Accuracy vs. Depth')\n",
    "plt.legend()\n",
    "plt.grid()\n",
    "plt.show()\n"
   ]
  },
  {
   "cell_type": "markdown",
   "metadata": {},
   "source": [
    "                        Performance Comparison\n",
    "\n",
    "\n",
    "You evaluated three different input representations for activity classification using a Decision Tree model:\n",
    "\n",
    "1.Raw Accelerometer Data ->\n",
    "Accuracy: 61%\n",
    "Precision: 56%\n",
    "Recall: 61%\n",
    "Confusion matrix shows significant misclassifications.\n",
    "\n",
    "2.TSFEL Feature Extraction ->\n",
    "Accuracy: 87%\n",
    "Precision: 88%\n",
    "Recall: 87%\n",
    "The confusion matrix indicates much better classification performance.\n",
    "\n",
    "3.Dataset Features (Possibly a reduced/processed feature set from your dataset) ->\n",
    "Accuracy: 61%\n",
    "Precision: 56%\n",
    "Recall: 61%\n",
    "\n",
    "The results are nearly identical to the raw data, suggesting that this set might not capture useful patterns as effectively as TSFEL.\n",
    "\n",
    "Why is TSFEL Performing Better?\n",
    "\n",
    "Raw accelerometer signals contain noise and high-dimensional information that is not directly useful for classification.\n",
    "TSFEL extracts statistical, temporal, and frequency-based features, which provide more meaningful inputs for machine learning models.\n",
    "Decision Trees perform better when given structured feature sets instead of raw sensor signals, which are highly variable.\n",
    "\n",
    "\n",
    "2. Decision Tree Accuracy vs. Depth\n",
    "You also analyzed how tree depth affects accuracy across different feature sets.\n",
    "\n",
    "Observations from the Graph:\n",
    "1.TSFEL Features (Orange Line) ->\n",
    "i.Accuracy improves sharply with depth.\n",
    "ii.Peaks around depth 6-7 and then stabilizes, suggesting this is an optimal depth.\n",
    "\n",
    "2.Raw Data (Blue Line) ->\n",
    "i.Accuracy remains low, fluctuating around 50-60%.\n",
    "ii.It does not improve much with increasing depth, meaning the decision tree is struggling to separate the classes effectively.\n",
    "\n",
    "3.Dataset Features (Green Dashed Line)->\n",
    "  The trend is similar to raw data, reinforcing the idea that this feature set is not providing much additional useful information."
   ]
  }
 ],
 "metadata": {
  "kernelspec": {
   "display_name": "base",
   "language": "python",
   "name": "python3"
  },
  "language_info": {
   "codemirror_mode": {
    "name": "ipython",
    "version": 3
   },
   "file_extension": ".py",
   "mimetype": "text/x-python",
   "name": "python",
   "nbconvert_exporter": "python",
   "pygments_lexer": "ipython3",
   "version": "3.12.4"
  }
 },
 "nbformat": 4,
 "nbformat_minor": 2
}
